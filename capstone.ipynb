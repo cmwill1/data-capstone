{
 "cells": [
  {
   "cell_type": "markdown",
   "id": "5f5bcb23",
   "metadata": {},
   "source": [
    "# Exploring the effects of Social Media on Mental Health"
   ]
  },
  {
   "cell_type": "markdown",
   "id": "84ae806d",
   "metadata": {},
   "source": [
    "## Bring is CSV files"
   ]
  },
  {
   "cell_type": "code",
   "execution_count": 1,
   "id": "1c1f0ed3",
   "metadata": {},
   "outputs": [],
   "source": [
    "import pandas as pd\n",
    "import numpy as np"
   ]
  },
  {
   "cell_type": "code",
   "execution_count": 136,
   "id": "15548c99",
   "metadata": {},
   "outputs": [],
   "source": [
    "\n",
    "import seaborn as sns\n",
    "sns.set()\n",
    "\n",
    "import matplotlib.pyplot as plt\n",
    "\n",
    "# write command for plots to appear in jupyter cells automatically\n",
    "%matplotlib inline\n",
    "\n",
    "\n",
    "import matplotlib as mpl\n",
    "import statsmodels.api as sm\n",
    "\n",
    "%matplotlib notebook"
   ]
  },
  {
   "cell_type": "markdown",
   "id": "135352de",
   "metadata": {},
   "source": [
    "# Things to show in presentation: \n",
    "- Show the trend of rising cell phone/smart phone use over the years\n",
    "- Show the trend of rising social media use over the years\n",
    "- Show the data on rising mental health issues (Depression and Anxiety)\n",
    "- Find correlations if any between rising social media use and mental health \n",
    "\n",
    "## Answer the why\n",
    "- Social media use is increasing and it's important to be aware of the potential negative side effects. It gives us the knowledge to be able to reduce potentially negative effects the more information we have.\n",
    "- Can potentially reshape the way we use social media"
   ]
  },
  {
   "cell_type": "code",
   "execution_count": 3,
   "id": "acee348f",
   "metadata": {},
   "outputs": [],
   "source": [
    "sm_us_df=pd.read_csv('us_social_media_use.csv')"
   ]
  },
  {
   "cell_type": "code",
   "execution_count": 4,
   "id": "950ad796",
   "metadata": {},
   "outputs": [],
   "source": [
    "sm_us_df.rename(columns={'response':'Percent of Users'},inplace=True)"
   ]
  },
  {
   "cell_type": "code",
   "execution_count": 5,
   "id": "1524b040",
   "metadata": {},
   "outputs": [],
   "source": [
    "sm_us_df.rename(columns={'date':'Date'},inplace=True)"
   ]
  },
  {
   "cell_type": "code",
   "execution_count": 6,
   "id": "6b59ff33",
   "metadata": {},
   "outputs": [
    {
     "data": {
      "text/html": [
       "<div>\n",
       "<style scoped>\n",
       "    .dataframe tbody tr th:only-of-type {\n",
       "        vertical-align: middle;\n",
       "    }\n",
       "\n",
       "    .dataframe tbody tr th {\n",
       "        vertical-align: top;\n",
       "    }\n",
       "\n",
       "    .dataframe thead th {\n",
       "        text-align: right;\n",
       "    }\n",
       "</style>\n",
       "<table border=\"1\" class=\"dataframe\">\n",
       "  <thead>\n",
       "    <tr style=\"text-align: right;\">\n",
       "      <th></th>\n",
       "      <th>Date</th>\n",
       "      <th>Percent of Users</th>\n",
       "    </tr>\n",
       "  </thead>\n",
       "  <tbody>\n",
       "    <tr>\n",
       "      <th>0</th>\n",
       "      <td>3/21/2005</td>\n",
       "      <td>5%</td>\n",
       "    </tr>\n",
       "    <tr>\n",
       "      <th>1</th>\n",
       "      <td>12/8/2005</td>\n",
       "      <td>8%</td>\n",
       "    </tr>\n",
       "    <tr>\n",
       "      <th>2</th>\n",
       "      <td>8/31/2006</td>\n",
       "      <td>11%</td>\n",
       "    </tr>\n",
       "    <tr>\n",
       "      <th>3</th>\n",
       "      <td>5/11/2008</td>\n",
       "      <td>21%</td>\n",
       "    </tr>\n",
       "    <tr>\n",
       "      <th>4</th>\n",
       "      <td>8/10/2008</td>\n",
       "      <td>26%</td>\n",
       "    </tr>\n",
       "  </tbody>\n",
       "</table>\n",
       "</div>"
      ],
      "text/plain": [
       "        Date Percent of Users\n",
       "0  3/21/2005               5%\n",
       "1  12/8/2005               8%\n",
       "2  8/31/2006              11%\n",
       "3  5/11/2008              21%\n",
       "4  8/10/2008              26%"
      ]
     },
     "execution_count": 6,
     "metadata": {},
     "output_type": "execute_result"
    }
   ],
   "source": [
    "sm_us_df.head()"
   ]
  },
  {
   "cell_type": "code",
   "execution_count": 7,
   "id": "f96451b0",
   "metadata": {},
   "outputs": [
    {
     "name": "stdout",
     "output_type": "stream",
     "text": [
      "<class 'pandas.core.frame.DataFrame'>\n",
      "RangeIndex: 31 entries, 0 to 30\n",
      "Data columns (total 2 columns):\n",
      " #   Column            Non-Null Count  Dtype \n",
      "---  ------            --------------  ----- \n",
      " 0   Date              31 non-null     object\n",
      " 1   Percent of Users  31 non-null     object\n",
      "dtypes: object(2)\n",
      "memory usage: 624.0+ bytes\n"
     ]
    }
   ],
   "source": [
    "sm_us_df.info()"
   ]
  },
  {
   "cell_type": "code",
   "execution_count": 8,
   "id": "fe5b9f6a",
   "metadata": {},
   "outputs": [
    {
     "data": {
      "text/html": [
       "<div>\n",
       "<style scoped>\n",
       "    .dataframe tbody tr th:only-of-type {\n",
       "        vertical-align: middle;\n",
       "    }\n",
       "\n",
       "    .dataframe tbody tr th {\n",
       "        vertical-align: top;\n",
       "    }\n",
       "\n",
       "    .dataframe thead th {\n",
       "        text-align: right;\n",
       "    }\n",
       "</style>\n",
       "<table border=\"1\" class=\"dataframe\">\n",
       "  <thead>\n",
       "    <tr style=\"text-align: right;\">\n",
       "      <th></th>\n",
       "    </tr>\n",
       "  </thead>\n",
       "  <tbody>\n",
       "  </tbody>\n",
       "</table>\n",
       "</div>"
      ],
      "text/plain": [
       "Empty DataFrame\n",
       "Columns: []\n",
       "Index: []"
      ]
     },
     "execution_count": 8,
     "metadata": {},
     "output_type": "execute_result"
    }
   ],
   "source": [
    "sm_us_df.corr()"
   ]
  },
  {
   "cell_type": "code",
   "execution_count": 9,
   "id": "ea59f8f1",
   "metadata": {},
   "outputs": [],
   "source": [
    "mh_youth_df=pd.read_csv('statistic_id252323_major-depressive-episode-in-the-past-year-among-us-youths-by-gender-2004-2020 (1).csv')"
   ]
  },
  {
   "cell_type": "code",
   "execution_count": 10,
   "id": "af8e3036",
   "metadata": {},
   "outputs": [
    {
     "data": {
      "text/html": [
       "<div>\n",
       "<style scoped>\n",
       "    .dataframe tbody tr th:only-of-type {\n",
       "        vertical-align: middle;\n",
       "    }\n",
       "\n",
       "    .dataframe tbody tr th {\n",
       "        vertical-align: top;\n",
       "    }\n",
       "\n",
       "    .dataframe thead th {\n",
       "        text-align: right;\n",
       "    }\n",
       "</style>\n",
       "<table border=\"1\" class=\"dataframe\">\n",
       "  <thead>\n",
       "    <tr style=\"text-align: right;\">\n",
       "      <th></th>\n",
       "      <th>Major depressive episode in the past year among U.S. youths by gender 2004-2020</th>\n",
       "      <th>Unnamed: 1</th>\n",
       "      <th>Unnamed: 2</th>\n",
       "      <th>Unnamed: 3</th>\n",
       "    </tr>\n",
       "  </thead>\n",
       "  <tbody>\n",
       "    <tr>\n",
       "      <th>0</th>\n",
       "      <td>Percentage of U.S. youths with a major depress...</td>\n",
       "      <td>NaN</td>\n",
       "      <td>NaN</td>\n",
       "      <td>NaN</td>\n",
       "    </tr>\n",
       "    <tr>\n",
       "      <th>1</th>\n",
       "      <td>NaN</td>\n",
       "      <td>Male</td>\n",
       "      <td>Female</td>\n",
       "      <td>NaN</td>\n",
       "    </tr>\n",
       "    <tr>\n",
       "      <th>2</th>\n",
       "      <td>2004</td>\n",
       "      <td>5</td>\n",
       "      <td>13.10</td>\n",
       "      <td>in %</td>\n",
       "    </tr>\n",
       "    <tr>\n",
       "      <th>3</th>\n",
       "      <td>2005</td>\n",
       "      <td>4.50</td>\n",
       "      <td>13.30</td>\n",
       "      <td>in %</td>\n",
       "    </tr>\n",
       "    <tr>\n",
       "      <th>4</th>\n",
       "      <td>2006</td>\n",
       "      <td>4.20</td>\n",
       "      <td>11.80</td>\n",
       "      <td>in %</td>\n",
       "    </tr>\n",
       "  </tbody>\n",
       "</table>\n",
       "</div>"
      ],
      "text/plain": [
       "  Major depressive episode in the past year among U.S. youths by gender 2004-2020  \\\n",
       "0  Percentage of U.S. youths with a major depress...                                \n",
       "1                                                NaN                                \n",
       "2                                               2004                                \n",
       "3                                               2005                                \n",
       "4                                               2006                                \n",
       "\n",
       "  Unnamed: 1 Unnamed: 2 Unnamed: 3  \n",
       "0        NaN        NaN        NaN  \n",
       "1       Male     Female        NaN  \n",
       "2          5      13.10       in %  \n",
       "3       4.50      13.30       in %  \n",
       "4       4.20      11.80       in %  "
      ]
     },
     "execution_count": 10,
     "metadata": {},
     "output_type": "execute_result"
    }
   ],
   "source": [
    "mh_youth_df.head()"
   ]
  },
  {
   "cell_type": "code",
   "execution_count": 11,
   "id": "b9cd088a",
   "metadata": {},
   "outputs": [],
   "source": [
    "mh_youth_df.dropna(inplace=True)"
   ]
  },
  {
   "cell_type": "code",
   "execution_count": 12,
   "id": "ef8efd93",
   "metadata": {},
   "outputs": [
    {
     "data": {
      "text/html": [
       "<div>\n",
       "<style scoped>\n",
       "    .dataframe tbody tr th:only-of-type {\n",
       "        vertical-align: middle;\n",
       "    }\n",
       "\n",
       "    .dataframe tbody tr th {\n",
       "        vertical-align: top;\n",
       "    }\n",
       "\n",
       "    .dataframe thead th {\n",
       "        text-align: right;\n",
       "    }\n",
       "</style>\n",
       "<table border=\"1\" class=\"dataframe\">\n",
       "  <thead>\n",
       "    <tr style=\"text-align: right;\">\n",
       "      <th></th>\n",
       "      <th>Major depressive episode in the past year among U.S. youths by gender 2004-2020</th>\n",
       "      <th>Unnamed: 1</th>\n",
       "      <th>Unnamed: 2</th>\n",
       "      <th>Unnamed: 3</th>\n",
       "    </tr>\n",
       "  </thead>\n",
       "  <tbody>\n",
       "    <tr>\n",
       "      <th>2</th>\n",
       "      <td>2004</td>\n",
       "      <td>5</td>\n",
       "      <td>13.10</td>\n",
       "      <td>in %</td>\n",
       "    </tr>\n",
       "    <tr>\n",
       "      <th>3</th>\n",
       "      <td>2005</td>\n",
       "      <td>4.50</td>\n",
       "      <td>13.30</td>\n",
       "      <td>in %</td>\n",
       "    </tr>\n",
       "    <tr>\n",
       "      <th>4</th>\n",
       "      <td>2006</td>\n",
       "      <td>4.20</td>\n",
       "      <td>11.80</td>\n",
       "      <td>in %</td>\n",
       "    </tr>\n",
       "    <tr>\n",
       "      <th>5</th>\n",
       "      <td>2007</td>\n",
       "      <td>4.60</td>\n",
       "      <td>11.90</td>\n",
       "      <td>in %</td>\n",
       "    </tr>\n",
       "    <tr>\n",
       "      <th>6</th>\n",
       "      <td>2008</td>\n",
       "      <td>4.30</td>\n",
       "      <td>12.50</td>\n",
       "      <td>in %</td>\n",
       "    </tr>\n",
       "  </tbody>\n",
       "</table>\n",
       "</div>"
      ],
      "text/plain": [
       "  Major depressive episode in the past year among U.S. youths by gender 2004-2020  \\\n",
       "2                                               2004                                \n",
       "3                                               2005                                \n",
       "4                                               2006                                \n",
       "5                                               2007                                \n",
       "6                                               2008                                \n",
       "\n",
       "  Unnamed: 1 Unnamed: 2 Unnamed: 3  \n",
       "2          5      13.10       in %  \n",
       "3       4.50      13.30       in %  \n",
       "4       4.20      11.80       in %  \n",
       "5       4.60      11.90       in %  \n",
       "6       4.30      12.50       in %  "
      ]
     },
     "execution_count": 12,
     "metadata": {},
     "output_type": "execute_result"
    }
   ],
   "source": [
    "mh_youth_df.head()"
   ]
  },
  {
   "cell_type": "code",
   "execution_count": 13,
   "id": "014c3202",
   "metadata": {},
   "outputs": [],
   "source": [
    "mh_youth_df.rename(columns={'Unnamed: 1':'male','Unnamed: 2':'female'},inplace=True)"
   ]
  },
  {
   "cell_type": "code",
   "execution_count": 14,
   "id": "770a52f6",
   "metadata": {},
   "outputs": [
    {
     "data": {
      "text/html": [
       "<div>\n",
       "<style scoped>\n",
       "    .dataframe tbody tr th:only-of-type {\n",
       "        vertical-align: middle;\n",
       "    }\n",
       "\n",
       "    .dataframe tbody tr th {\n",
       "        vertical-align: top;\n",
       "    }\n",
       "\n",
       "    .dataframe thead th {\n",
       "        text-align: right;\n",
       "    }\n",
       "</style>\n",
       "<table border=\"1\" class=\"dataframe\">\n",
       "  <thead>\n",
       "    <tr style=\"text-align: right;\">\n",
       "      <th></th>\n",
       "      <th>Major depressive episode in the past year among U.S. youths by gender 2004-2020</th>\n",
       "      <th>male</th>\n",
       "      <th>female</th>\n",
       "      <th>Unnamed: 3</th>\n",
       "    </tr>\n",
       "  </thead>\n",
       "  <tbody>\n",
       "    <tr>\n",
       "      <th>2</th>\n",
       "      <td>2004</td>\n",
       "      <td>5</td>\n",
       "      <td>13.10</td>\n",
       "      <td>in %</td>\n",
       "    </tr>\n",
       "    <tr>\n",
       "      <th>3</th>\n",
       "      <td>2005</td>\n",
       "      <td>4.50</td>\n",
       "      <td>13.30</td>\n",
       "      <td>in %</td>\n",
       "    </tr>\n",
       "    <tr>\n",
       "      <th>4</th>\n",
       "      <td>2006</td>\n",
       "      <td>4.20</td>\n",
       "      <td>11.80</td>\n",
       "      <td>in %</td>\n",
       "    </tr>\n",
       "    <tr>\n",
       "      <th>5</th>\n",
       "      <td>2007</td>\n",
       "      <td>4.60</td>\n",
       "      <td>11.90</td>\n",
       "      <td>in %</td>\n",
       "    </tr>\n",
       "    <tr>\n",
       "      <th>6</th>\n",
       "      <td>2008</td>\n",
       "      <td>4.30</td>\n",
       "      <td>12.50</td>\n",
       "      <td>in %</td>\n",
       "    </tr>\n",
       "  </tbody>\n",
       "</table>\n",
       "</div>"
      ],
      "text/plain": [
       "  Major depressive episode in the past year among U.S. youths by gender 2004-2020  \\\n",
       "2                                               2004                                \n",
       "3                                               2005                                \n",
       "4                                               2006                                \n",
       "5                                               2007                                \n",
       "6                                               2008                                \n",
       "\n",
       "   male female Unnamed: 3  \n",
       "2     5  13.10       in %  \n",
       "3  4.50  13.30       in %  \n",
       "4  4.20  11.80       in %  \n",
       "5  4.60  11.90       in %  \n",
       "6  4.30  12.50       in %  "
      ]
     },
     "execution_count": 14,
     "metadata": {},
     "output_type": "execute_result"
    }
   ],
   "source": [
    "mh_youth_df.head()"
   ]
  },
  {
   "cell_type": "code",
   "execution_count": 15,
   "id": "e09c6604",
   "metadata": {},
   "outputs": [
    {
     "data": {
      "text/plain": [
       "['Major depressive episode in the past year among U.S. youths by gender 2004-2020',\n",
       " 'male',\n",
       " 'female',\n",
       " 'Unnamed: 3']"
      ]
     },
     "execution_count": 15,
     "metadata": {},
     "output_type": "execute_result"
    }
   ],
   "source": [
    "mh_youth_df.columns.to_list()"
   ]
  },
  {
   "cell_type": "code",
   "execution_count": 16,
   "id": "452074b3",
   "metadata": {},
   "outputs": [],
   "source": [
    "mh_youth_df.rename(columns={'Major depressive episode in the past year among U.S. youths by gender 2004-2020': 'year'},inplace=True)"
   ]
  },
  {
   "cell_type": "code",
   "execution_count": 17,
   "id": "da5ed7c5",
   "metadata": {},
   "outputs": [],
   "source": [
    "mh_youth_df=mh_youth_df.iloc[:,:3]"
   ]
  },
  {
   "cell_type": "code",
   "execution_count": 18,
   "id": "a736abf2",
   "metadata": {},
   "outputs": [],
   "source": [
    "mh_youth_df.dropna(inplace=True)"
   ]
  },
  {
   "cell_type": "code",
   "execution_count": 19,
   "id": "858287da",
   "metadata": {},
   "outputs": [
    {
     "data": {
      "text/html": [
       "<div>\n",
       "<style scoped>\n",
       "    .dataframe tbody tr th:only-of-type {\n",
       "        vertical-align: middle;\n",
       "    }\n",
       "\n",
       "    .dataframe tbody tr th {\n",
       "        vertical-align: top;\n",
       "    }\n",
       "\n",
       "    .dataframe thead th {\n",
       "        text-align: right;\n",
       "    }\n",
       "</style>\n",
       "<table border=\"1\" class=\"dataframe\">\n",
       "  <thead>\n",
       "    <tr style=\"text-align: right;\">\n",
       "      <th></th>\n",
       "      <th>year</th>\n",
       "      <th>male</th>\n",
       "      <th>female</th>\n",
       "    </tr>\n",
       "  </thead>\n",
       "  <tbody>\n",
       "    <tr>\n",
       "      <th>2</th>\n",
       "      <td>2004</td>\n",
       "      <td>5</td>\n",
       "      <td>13.10</td>\n",
       "    </tr>\n",
       "    <tr>\n",
       "      <th>3</th>\n",
       "      <td>2005</td>\n",
       "      <td>4.50</td>\n",
       "      <td>13.30</td>\n",
       "    </tr>\n",
       "    <tr>\n",
       "      <th>4</th>\n",
       "      <td>2006</td>\n",
       "      <td>4.20</td>\n",
       "      <td>11.80</td>\n",
       "    </tr>\n",
       "    <tr>\n",
       "      <th>5</th>\n",
       "      <td>2007</td>\n",
       "      <td>4.60</td>\n",
       "      <td>11.90</td>\n",
       "    </tr>\n",
       "    <tr>\n",
       "      <th>6</th>\n",
       "      <td>2008</td>\n",
       "      <td>4.30</td>\n",
       "      <td>12.50</td>\n",
       "    </tr>\n",
       "  </tbody>\n",
       "</table>\n",
       "</div>"
      ],
      "text/plain": [
       "   year  male female\n",
       "2  2004     5  13.10\n",
       "3  2005  4.50  13.30\n",
       "4  2006  4.20  11.80\n",
       "5  2007  4.60  11.90\n",
       "6  2008  4.30  12.50"
      ]
     },
     "execution_count": 19,
     "metadata": {},
     "output_type": "execute_result"
    }
   ],
   "source": [
    "mh_youth_df.head()"
   ]
  },
  {
   "cell_type": "code",
   "execution_count": 20,
   "id": "bdec9803",
   "metadata": {},
   "outputs": [],
   "source": [
    "youth_melted=mh_youth_df.melt(id_vars='year')"
   ]
  },
  {
   "cell_type": "code",
   "execution_count": 21,
   "id": "ce964d48",
   "metadata": {},
   "outputs": [],
   "source": [
    "ymh_tomerge=mh_youth_df.copy()"
   ]
  },
  {
   "cell_type": "code",
   "execution_count": 22,
   "id": "e1db3774",
   "metadata": {},
   "outputs": [],
   "source": [
    "ymh_tomerge.rename(columns={'male':'m_youth_depression','female':'f_youth_depression'},inplace=True)"
   ]
  },
  {
   "cell_type": "code",
   "execution_count": 23,
   "id": "c8720d69",
   "metadata": {},
   "outputs": [],
   "source": [
    "import plotly.express as px"
   ]
  },
  {
   "cell_type": "code",
   "execution_count": 121,
   "id": "c9709b63",
   "metadata": {},
   "outputs": [
    {
     "data": {
      "application/vnd.plotly.v1+json": {
       "config": {
        "plotlyServerURL": "https://plot.ly"
       },
       "data": [
        {
         "hovertemplate": "variable=male<br>year=%{x}<br>value=%{y}<extra></extra>",
         "legendgroup": "male",
         "line": {
          "color": "#636efa",
          "dash": "solid"
         },
         "marker": {
          "symbol": "circle"
         },
         "mode": "lines",
         "name": "male",
         "orientation": "v",
         "showlegend": true,
         "type": "scatter",
         "x": [
          "2004",
          "2005",
          "2006",
          "2007",
          "2008",
          "2009",
          "2010",
          "2011",
          "2012",
          "2013",
          "2014",
          "2015",
          "2016",
          "2017",
          "2018",
          "2019",
          "2020"
         ],
         "xaxis": "x",
         "y": [
          "5",
          "4.50",
          "4.20",
          "4.60",
          "4.30",
          "4.70",
          "4.40",
          "4.50",
          "4.70",
          "5.30",
          "5.70",
          "5.80",
          "6.40",
          "6.80",
          "7.70",
          "8.80",
          "9.20"
         ],
         "yaxis": "y"
        },
        {
         "hovertemplate": "variable=female<br>year=%{x}<br>value=%{y}<extra></extra>",
         "legendgroup": "female",
         "line": {
          "color": "#EF553B",
          "dash": "solid"
         },
         "marker": {
          "symbol": "circle"
         },
         "mode": "lines",
         "name": "female",
         "orientation": "v",
         "showlegend": true,
         "type": "scatter",
         "x": [
          "2004",
          "2005",
          "2006",
          "2007",
          "2008",
          "2009",
          "2010",
          "2011",
          "2012",
          "2013",
          "2014",
          "2015",
          "2016",
          "2017",
          "2018",
          "2019",
          "2020"
         ],
         "xaxis": "x",
         "y": [
          "13.10",
          "13.30",
          "11.80",
          "11.90",
          "12.50",
          "11.70",
          "11.90",
          "12.10",
          "13.70",
          "16.20",
          "17.30",
          "19.50",
          "19.40",
          "20",
          "21.50",
          "23",
          "25.20"
         ],
         "yaxis": "y"
        }
       ],
       "layout": {
        "legend": {
         "title": {
          "text": "variable"
         },
         "tracegroupgap": 0
        },
        "margin": {
         "t": 60
        },
        "template": {
         "data": {
          "bar": [
           {
            "error_x": {
             "color": "#2a3f5f"
            },
            "error_y": {
             "color": "#2a3f5f"
            },
            "marker": {
             "line": {
              "color": "#E5ECF6",
              "width": 0.5
             },
             "pattern": {
              "fillmode": "overlay",
              "size": 10,
              "solidity": 0.2
             }
            },
            "type": "bar"
           }
          ],
          "barpolar": [
           {
            "marker": {
             "line": {
              "color": "#E5ECF6",
              "width": 0.5
             },
             "pattern": {
              "fillmode": "overlay",
              "size": 10,
              "solidity": 0.2
             }
            },
            "type": "barpolar"
           }
          ],
          "carpet": [
           {
            "aaxis": {
             "endlinecolor": "#2a3f5f",
             "gridcolor": "white",
             "linecolor": "white",
             "minorgridcolor": "white",
             "startlinecolor": "#2a3f5f"
            },
            "baxis": {
             "endlinecolor": "#2a3f5f",
             "gridcolor": "white",
             "linecolor": "white",
             "minorgridcolor": "white",
             "startlinecolor": "#2a3f5f"
            },
            "type": "carpet"
           }
          ],
          "choropleth": [
           {
            "colorbar": {
             "outlinewidth": 0,
             "ticks": ""
            },
            "type": "choropleth"
           }
          ],
          "contour": [
           {
            "colorbar": {
             "outlinewidth": 0,
             "ticks": ""
            },
            "colorscale": [
             [
              0,
              "#0d0887"
             ],
             [
              0.1111111111111111,
              "#46039f"
             ],
             [
              0.2222222222222222,
              "#7201a8"
             ],
             [
              0.3333333333333333,
              "#9c179e"
             ],
             [
              0.4444444444444444,
              "#bd3786"
             ],
             [
              0.5555555555555556,
              "#d8576b"
             ],
             [
              0.6666666666666666,
              "#ed7953"
             ],
             [
              0.7777777777777778,
              "#fb9f3a"
             ],
             [
              0.8888888888888888,
              "#fdca26"
             ],
             [
              1,
              "#f0f921"
             ]
            ],
            "type": "contour"
           }
          ],
          "contourcarpet": [
           {
            "colorbar": {
             "outlinewidth": 0,
             "ticks": ""
            },
            "type": "contourcarpet"
           }
          ],
          "heatmap": [
           {
            "colorbar": {
             "outlinewidth": 0,
             "ticks": ""
            },
            "colorscale": [
             [
              0,
              "#0d0887"
             ],
             [
              0.1111111111111111,
              "#46039f"
             ],
             [
              0.2222222222222222,
              "#7201a8"
             ],
             [
              0.3333333333333333,
              "#9c179e"
             ],
             [
              0.4444444444444444,
              "#bd3786"
             ],
             [
              0.5555555555555556,
              "#d8576b"
             ],
             [
              0.6666666666666666,
              "#ed7953"
             ],
             [
              0.7777777777777778,
              "#fb9f3a"
             ],
             [
              0.8888888888888888,
              "#fdca26"
             ],
             [
              1,
              "#f0f921"
             ]
            ],
            "type": "heatmap"
           }
          ],
          "heatmapgl": [
           {
            "colorbar": {
             "outlinewidth": 0,
             "ticks": ""
            },
            "colorscale": [
             [
              0,
              "#0d0887"
             ],
             [
              0.1111111111111111,
              "#46039f"
             ],
             [
              0.2222222222222222,
              "#7201a8"
             ],
             [
              0.3333333333333333,
              "#9c179e"
             ],
             [
              0.4444444444444444,
              "#bd3786"
             ],
             [
              0.5555555555555556,
              "#d8576b"
             ],
             [
              0.6666666666666666,
              "#ed7953"
             ],
             [
              0.7777777777777778,
              "#fb9f3a"
             ],
             [
              0.8888888888888888,
              "#fdca26"
             ],
             [
              1,
              "#f0f921"
             ]
            ],
            "type": "heatmapgl"
           }
          ],
          "histogram": [
           {
            "marker": {
             "pattern": {
              "fillmode": "overlay",
              "size": 10,
              "solidity": 0.2
             }
            },
            "type": "histogram"
           }
          ],
          "histogram2d": [
           {
            "colorbar": {
             "outlinewidth": 0,
             "ticks": ""
            },
            "colorscale": [
             [
              0,
              "#0d0887"
             ],
             [
              0.1111111111111111,
              "#46039f"
             ],
             [
              0.2222222222222222,
              "#7201a8"
             ],
             [
              0.3333333333333333,
              "#9c179e"
             ],
             [
              0.4444444444444444,
              "#bd3786"
             ],
             [
              0.5555555555555556,
              "#d8576b"
             ],
             [
              0.6666666666666666,
              "#ed7953"
             ],
             [
              0.7777777777777778,
              "#fb9f3a"
             ],
             [
              0.8888888888888888,
              "#fdca26"
             ],
             [
              1,
              "#f0f921"
             ]
            ],
            "type": "histogram2d"
           }
          ],
          "histogram2dcontour": [
           {
            "colorbar": {
             "outlinewidth": 0,
             "ticks": ""
            },
            "colorscale": [
             [
              0,
              "#0d0887"
             ],
             [
              0.1111111111111111,
              "#46039f"
             ],
             [
              0.2222222222222222,
              "#7201a8"
             ],
             [
              0.3333333333333333,
              "#9c179e"
             ],
             [
              0.4444444444444444,
              "#bd3786"
             ],
             [
              0.5555555555555556,
              "#d8576b"
             ],
             [
              0.6666666666666666,
              "#ed7953"
             ],
             [
              0.7777777777777778,
              "#fb9f3a"
             ],
             [
              0.8888888888888888,
              "#fdca26"
             ],
             [
              1,
              "#f0f921"
             ]
            ],
            "type": "histogram2dcontour"
           }
          ],
          "mesh3d": [
           {
            "colorbar": {
             "outlinewidth": 0,
             "ticks": ""
            },
            "type": "mesh3d"
           }
          ],
          "parcoords": [
           {
            "line": {
             "colorbar": {
              "outlinewidth": 0,
              "ticks": ""
             }
            },
            "type": "parcoords"
           }
          ],
          "pie": [
           {
            "automargin": true,
            "type": "pie"
           }
          ],
          "scatter": [
           {
            "fillpattern": {
             "fillmode": "overlay",
             "size": 10,
             "solidity": 0.2
            },
            "type": "scatter"
           }
          ],
          "scatter3d": [
           {
            "line": {
             "colorbar": {
              "outlinewidth": 0,
              "ticks": ""
             }
            },
            "marker": {
             "colorbar": {
              "outlinewidth": 0,
              "ticks": ""
             }
            },
            "type": "scatter3d"
           }
          ],
          "scattercarpet": [
           {
            "marker": {
             "colorbar": {
              "outlinewidth": 0,
              "ticks": ""
             }
            },
            "type": "scattercarpet"
           }
          ],
          "scattergeo": [
           {
            "marker": {
             "colorbar": {
              "outlinewidth": 0,
              "ticks": ""
             }
            },
            "type": "scattergeo"
           }
          ],
          "scattergl": [
           {
            "marker": {
             "colorbar": {
              "outlinewidth": 0,
              "ticks": ""
             }
            },
            "type": "scattergl"
           }
          ],
          "scattermapbox": [
           {
            "marker": {
             "colorbar": {
              "outlinewidth": 0,
              "ticks": ""
             }
            },
            "type": "scattermapbox"
           }
          ],
          "scatterpolar": [
           {
            "marker": {
             "colorbar": {
              "outlinewidth": 0,
              "ticks": ""
             }
            },
            "type": "scatterpolar"
           }
          ],
          "scatterpolargl": [
           {
            "marker": {
             "colorbar": {
              "outlinewidth": 0,
              "ticks": ""
             }
            },
            "type": "scatterpolargl"
           }
          ],
          "scatterternary": [
           {
            "marker": {
             "colorbar": {
              "outlinewidth": 0,
              "ticks": ""
             }
            },
            "type": "scatterternary"
           }
          ],
          "surface": [
           {
            "colorbar": {
             "outlinewidth": 0,
             "ticks": ""
            },
            "colorscale": [
             [
              0,
              "#0d0887"
             ],
             [
              0.1111111111111111,
              "#46039f"
             ],
             [
              0.2222222222222222,
              "#7201a8"
             ],
             [
              0.3333333333333333,
              "#9c179e"
             ],
             [
              0.4444444444444444,
              "#bd3786"
             ],
             [
              0.5555555555555556,
              "#d8576b"
             ],
             [
              0.6666666666666666,
              "#ed7953"
             ],
             [
              0.7777777777777778,
              "#fb9f3a"
             ],
             [
              0.8888888888888888,
              "#fdca26"
             ],
             [
              1,
              "#f0f921"
             ]
            ],
            "type": "surface"
           }
          ],
          "table": [
           {
            "cells": {
             "fill": {
              "color": "#EBF0F8"
             },
             "line": {
              "color": "white"
             }
            },
            "header": {
             "fill": {
              "color": "#C8D4E3"
             },
             "line": {
              "color": "white"
             }
            },
            "type": "table"
           }
          ]
         },
         "layout": {
          "annotationdefaults": {
           "arrowcolor": "#2a3f5f",
           "arrowhead": 0,
           "arrowwidth": 1
          },
          "autotypenumbers": "strict",
          "coloraxis": {
           "colorbar": {
            "outlinewidth": 0,
            "ticks": ""
           }
          },
          "colorscale": {
           "diverging": [
            [
             0,
             "#8e0152"
            ],
            [
             0.1,
             "#c51b7d"
            ],
            [
             0.2,
             "#de77ae"
            ],
            [
             0.3,
             "#f1b6da"
            ],
            [
             0.4,
             "#fde0ef"
            ],
            [
             0.5,
             "#f7f7f7"
            ],
            [
             0.6,
             "#e6f5d0"
            ],
            [
             0.7,
             "#b8e186"
            ],
            [
             0.8,
             "#7fbc41"
            ],
            [
             0.9,
             "#4d9221"
            ],
            [
             1,
             "#276419"
            ]
           ],
           "sequential": [
            [
             0,
             "#0d0887"
            ],
            [
             0.1111111111111111,
             "#46039f"
            ],
            [
             0.2222222222222222,
             "#7201a8"
            ],
            [
             0.3333333333333333,
             "#9c179e"
            ],
            [
             0.4444444444444444,
             "#bd3786"
            ],
            [
             0.5555555555555556,
             "#d8576b"
            ],
            [
             0.6666666666666666,
             "#ed7953"
            ],
            [
             0.7777777777777778,
             "#fb9f3a"
            ],
            [
             0.8888888888888888,
             "#fdca26"
            ],
            [
             1,
             "#f0f921"
            ]
           ],
           "sequentialminus": [
            [
             0,
             "#0d0887"
            ],
            [
             0.1111111111111111,
             "#46039f"
            ],
            [
             0.2222222222222222,
             "#7201a8"
            ],
            [
             0.3333333333333333,
             "#9c179e"
            ],
            [
             0.4444444444444444,
             "#bd3786"
            ],
            [
             0.5555555555555556,
             "#d8576b"
            ],
            [
             0.6666666666666666,
             "#ed7953"
            ],
            [
             0.7777777777777778,
             "#fb9f3a"
            ],
            [
             0.8888888888888888,
             "#fdca26"
            ],
            [
             1,
             "#f0f921"
            ]
           ]
          },
          "colorway": [
           "#636efa",
           "#EF553B",
           "#00cc96",
           "#ab63fa",
           "#FFA15A",
           "#19d3f3",
           "#FF6692",
           "#B6E880",
           "#FF97FF",
           "#FECB52"
          ],
          "font": {
           "color": "#2a3f5f"
          },
          "geo": {
           "bgcolor": "white",
           "lakecolor": "white",
           "landcolor": "#E5ECF6",
           "showlakes": true,
           "showland": true,
           "subunitcolor": "white"
          },
          "hoverlabel": {
           "align": "left"
          },
          "hovermode": "closest",
          "mapbox": {
           "style": "light"
          },
          "paper_bgcolor": "white",
          "plot_bgcolor": "#E5ECF6",
          "polar": {
           "angularaxis": {
            "gridcolor": "white",
            "linecolor": "white",
            "ticks": ""
           },
           "bgcolor": "#E5ECF6",
           "radialaxis": {
            "gridcolor": "white",
            "linecolor": "white",
            "ticks": ""
           }
          },
          "scene": {
           "xaxis": {
            "backgroundcolor": "#E5ECF6",
            "gridcolor": "white",
            "gridwidth": 2,
            "linecolor": "white",
            "showbackground": true,
            "ticks": "",
            "zerolinecolor": "white"
           },
           "yaxis": {
            "backgroundcolor": "#E5ECF6",
            "gridcolor": "white",
            "gridwidth": 2,
            "linecolor": "white",
            "showbackground": true,
            "ticks": "",
            "zerolinecolor": "white"
           },
           "zaxis": {
            "backgroundcolor": "#E5ECF6",
            "gridcolor": "white",
            "gridwidth": 2,
            "linecolor": "white",
            "showbackground": true,
            "ticks": "",
            "zerolinecolor": "white"
           }
          },
          "shapedefaults": {
           "line": {
            "color": "#2a3f5f"
           }
          },
          "ternary": {
           "aaxis": {
            "gridcolor": "white",
            "linecolor": "white",
            "ticks": ""
           },
           "baxis": {
            "gridcolor": "white",
            "linecolor": "white",
            "ticks": ""
           },
           "bgcolor": "#E5ECF6",
           "caxis": {
            "gridcolor": "white",
            "linecolor": "white",
            "ticks": ""
           }
          },
          "title": {
           "x": 0.05
          },
          "xaxis": {
           "automargin": true,
           "gridcolor": "white",
           "linecolor": "white",
           "ticks": "",
           "title": {
            "standoff": 15
           },
           "zerolinecolor": "white",
           "zerolinewidth": 2
          },
          "yaxis": {
           "automargin": true,
           "gridcolor": "white",
           "linecolor": "white",
           "ticks": "",
           "title": {
            "standoff": 15
           },
           "zerolinecolor": "white",
           "zerolinewidth": 2
          }
         }
        },
        "xaxis": {
         "anchor": "y",
         "domain": [
          0,
          1
         ],
         "title": {
          "text": "year"
         }
        },
        "yaxis": {
         "anchor": "x",
         "domain": [
          0,
          1
         ],
         "title": {
          "text": "value"
         }
        }
       }
      },
      "text/html": [
       "<div>                            <div id=\"243a6478-4f82-4510-9a06-e34d83dbb5aa\" class=\"plotly-graph-div\" style=\"height:525px; width:100%;\"></div>            <script type=\"text/javascript\">                require([\"plotly\"], function(Plotly) {                    window.PLOTLYENV=window.PLOTLYENV || {};                                    if (document.getElementById(\"243a6478-4f82-4510-9a06-e34d83dbb5aa\")) {                    Plotly.newPlot(                        \"243a6478-4f82-4510-9a06-e34d83dbb5aa\",                        [{\"hovertemplate\":\"variable=male<br>year=%{x}<br>value=%{y}<extra></extra>\",\"legendgroup\":\"male\",\"line\":{\"color\":\"#636efa\",\"dash\":\"solid\"},\"marker\":{\"symbol\":\"circle\"},\"mode\":\"lines\",\"name\":\"male\",\"orientation\":\"v\",\"showlegend\":true,\"x\":[\"2004\",\"2005\",\"2006\",\"2007\",\"2008\",\"2009\",\"2010\",\"2011\",\"2012\",\"2013\",\"2014\",\"2015\",\"2016\",\"2017\",\"2018\",\"2019\",\"2020\"],\"xaxis\":\"x\",\"y\":[\"5\",\"4.50\",\"4.20\",\"4.60\",\"4.30\",\"4.70\",\"4.40\",\"4.50\",\"4.70\",\"5.30\",\"5.70\",\"5.80\",\"6.40\",\"6.80\",\"7.70\",\"8.80\",\"9.20\"],\"yaxis\":\"y\",\"type\":\"scatter\"},{\"hovertemplate\":\"variable=female<br>year=%{x}<br>value=%{y}<extra></extra>\",\"legendgroup\":\"female\",\"line\":{\"color\":\"#EF553B\",\"dash\":\"solid\"},\"marker\":{\"symbol\":\"circle\"},\"mode\":\"lines\",\"name\":\"female\",\"orientation\":\"v\",\"showlegend\":true,\"x\":[\"2004\",\"2005\",\"2006\",\"2007\",\"2008\",\"2009\",\"2010\",\"2011\",\"2012\",\"2013\",\"2014\",\"2015\",\"2016\",\"2017\",\"2018\",\"2019\",\"2020\"],\"xaxis\":\"x\",\"y\":[\"13.10\",\"13.30\",\"11.80\",\"11.90\",\"12.50\",\"11.70\",\"11.90\",\"12.10\",\"13.70\",\"16.20\",\"17.30\",\"19.50\",\"19.40\",\"20\",\"21.50\",\"23\",\"25.20\"],\"yaxis\":\"y\",\"type\":\"scatter\"}],                        {\"template\":{\"data\":{\"histogram2dcontour\":[{\"type\":\"histogram2dcontour\",\"colorbar\":{\"outlinewidth\":0,\"ticks\":\"\"},\"colorscale\":[[0.0,\"#0d0887\"],[0.1111111111111111,\"#46039f\"],[0.2222222222222222,\"#7201a8\"],[0.3333333333333333,\"#9c179e\"],[0.4444444444444444,\"#bd3786\"],[0.5555555555555556,\"#d8576b\"],[0.6666666666666666,\"#ed7953\"],[0.7777777777777778,\"#fb9f3a\"],[0.8888888888888888,\"#fdca26\"],[1.0,\"#f0f921\"]]}],\"choropleth\":[{\"type\":\"choropleth\",\"colorbar\":{\"outlinewidth\":0,\"ticks\":\"\"}}],\"histogram2d\":[{\"type\":\"histogram2d\",\"colorbar\":{\"outlinewidth\":0,\"ticks\":\"\"},\"colorscale\":[[0.0,\"#0d0887\"],[0.1111111111111111,\"#46039f\"],[0.2222222222222222,\"#7201a8\"],[0.3333333333333333,\"#9c179e\"],[0.4444444444444444,\"#bd3786\"],[0.5555555555555556,\"#d8576b\"],[0.6666666666666666,\"#ed7953\"],[0.7777777777777778,\"#fb9f3a\"],[0.8888888888888888,\"#fdca26\"],[1.0,\"#f0f921\"]]}],\"heatmap\":[{\"type\":\"heatmap\",\"colorbar\":{\"outlinewidth\":0,\"ticks\":\"\"},\"colorscale\":[[0.0,\"#0d0887\"],[0.1111111111111111,\"#46039f\"],[0.2222222222222222,\"#7201a8\"],[0.3333333333333333,\"#9c179e\"],[0.4444444444444444,\"#bd3786\"],[0.5555555555555556,\"#d8576b\"],[0.6666666666666666,\"#ed7953\"],[0.7777777777777778,\"#fb9f3a\"],[0.8888888888888888,\"#fdca26\"],[1.0,\"#f0f921\"]]}],\"heatmapgl\":[{\"type\":\"heatmapgl\",\"colorbar\":{\"outlinewidth\":0,\"ticks\":\"\"},\"colorscale\":[[0.0,\"#0d0887\"],[0.1111111111111111,\"#46039f\"],[0.2222222222222222,\"#7201a8\"],[0.3333333333333333,\"#9c179e\"],[0.4444444444444444,\"#bd3786\"],[0.5555555555555556,\"#d8576b\"],[0.6666666666666666,\"#ed7953\"],[0.7777777777777778,\"#fb9f3a\"],[0.8888888888888888,\"#fdca26\"],[1.0,\"#f0f921\"]]}],\"contourcarpet\":[{\"type\":\"contourcarpet\",\"colorbar\":{\"outlinewidth\":0,\"ticks\":\"\"}}],\"contour\":[{\"type\":\"contour\",\"colorbar\":{\"outlinewidth\":0,\"ticks\":\"\"},\"colorscale\":[[0.0,\"#0d0887\"],[0.1111111111111111,\"#46039f\"],[0.2222222222222222,\"#7201a8\"],[0.3333333333333333,\"#9c179e\"],[0.4444444444444444,\"#bd3786\"],[0.5555555555555556,\"#d8576b\"],[0.6666666666666666,\"#ed7953\"],[0.7777777777777778,\"#fb9f3a\"],[0.8888888888888888,\"#fdca26\"],[1.0,\"#f0f921\"]]}],\"surface\":[{\"type\":\"surface\",\"colorbar\":{\"outlinewidth\":0,\"ticks\":\"\"},\"colorscale\":[[0.0,\"#0d0887\"],[0.1111111111111111,\"#46039f\"],[0.2222222222222222,\"#7201a8\"],[0.3333333333333333,\"#9c179e\"],[0.4444444444444444,\"#bd3786\"],[0.5555555555555556,\"#d8576b\"],[0.6666666666666666,\"#ed7953\"],[0.7777777777777778,\"#fb9f3a\"],[0.8888888888888888,\"#fdca26\"],[1.0,\"#f0f921\"]]}],\"mesh3d\":[{\"type\":\"mesh3d\",\"colorbar\":{\"outlinewidth\":0,\"ticks\":\"\"}}],\"scatter\":[{\"fillpattern\":{\"fillmode\":\"overlay\",\"size\":10,\"solidity\":0.2},\"type\":\"scatter\"}],\"parcoords\":[{\"type\":\"parcoords\",\"line\":{\"colorbar\":{\"outlinewidth\":0,\"ticks\":\"\"}}}],\"scatterpolargl\":[{\"type\":\"scatterpolargl\",\"marker\":{\"colorbar\":{\"outlinewidth\":0,\"ticks\":\"\"}}}],\"bar\":[{\"error_x\":{\"color\":\"#2a3f5f\"},\"error_y\":{\"color\":\"#2a3f5f\"},\"marker\":{\"line\":{\"color\":\"#E5ECF6\",\"width\":0.5},\"pattern\":{\"fillmode\":\"overlay\",\"size\":10,\"solidity\":0.2}},\"type\":\"bar\"}],\"scattergeo\":[{\"type\":\"scattergeo\",\"marker\":{\"colorbar\":{\"outlinewidth\":0,\"ticks\":\"\"}}}],\"scatterpolar\":[{\"type\":\"scatterpolar\",\"marker\":{\"colorbar\":{\"outlinewidth\":0,\"ticks\":\"\"}}}],\"histogram\":[{\"marker\":{\"pattern\":{\"fillmode\":\"overlay\",\"size\":10,\"solidity\":0.2}},\"type\":\"histogram\"}],\"scattergl\":[{\"type\":\"scattergl\",\"marker\":{\"colorbar\":{\"outlinewidth\":0,\"ticks\":\"\"}}}],\"scatter3d\":[{\"type\":\"scatter3d\",\"line\":{\"colorbar\":{\"outlinewidth\":0,\"ticks\":\"\"}},\"marker\":{\"colorbar\":{\"outlinewidth\":0,\"ticks\":\"\"}}}],\"scattermapbox\":[{\"type\":\"scattermapbox\",\"marker\":{\"colorbar\":{\"outlinewidth\":0,\"ticks\":\"\"}}}],\"scatterternary\":[{\"type\":\"scatterternary\",\"marker\":{\"colorbar\":{\"outlinewidth\":0,\"ticks\":\"\"}}}],\"scattercarpet\":[{\"type\":\"scattercarpet\",\"marker\":{\"colorbar\":{\"outlinewidth\":0,\"ticks\":\"\"}}}],\"carpet\":[{\"aaxis\":{\"endlinecolor\":\"#2a3f5f\",\"gridcolor\":\"white\",\"linecolor\":\"white\",\"minorgridcolor\":\"white\",\"startlinecolor\":\"#2a3f5f\"},\"baxis\":{\"endlinecolor\":\"#2a3f5f\",\"gridcolor\":\"white\",\"linecolor\":\"white\",\"minorgridcolor\":\"white\",\"startlinecolor\":\"#2a3f5f\"},\"type\":\"carpet\"}],\"table\":[{\"cells\":{\"fill\":{\"color\":\"#EBF0F8\"},\"line\":{\"color\":\"white\"}},\"header\":{\"fill\":{\"color\":\"#C8D4E3\"},\"line\":{\"color\":\"white\"}},\"type\":\"table\"}],\"barpolar\":[{\"marker\":{\"line\":{\"color\":\"#E5ECF6\",\"width\":0.5},\"pattern\":{\"fillmode\":\"overlay\",\"size\":10,\"solidity\":0.2}},\"type\":\"barpolar\"}],\"pie\":[{\"automargin\":true,\"type\":\"pie\"}]},\"layout\":{\"autotypenumbers\":\"strict\",\"colorway\":[\"#636efa\",\"#EF553B\",\"#00cc96\",\"#ab63fa\",\"#FFA15A\",\"#19d3f3\",\"#FF6692\",\"#B6E880\",\"#FF97FF\",\"#FECB52\"],\"font\":{\"color\":\"#2a3f5f\"},\"hovermode\":\"closest\",\"hoverlabel\":{\"align\":\"left\"},\"paper_bgcolor\":\"white\",\"plot_bgcolor\":\"#E5ECF6\",\"polar\":{\"bgcolor\":\"#E5ECF6\",\"angularaxis\":{\"gridcolor\":\"white\",\"linecolor\":\"white\",\"ticks\":\"\"},\"radialaxis\":{\"gridcolor\":\"white\",\"linecolor\":\"white\",\"ticks\":\"\"}},\"ternary\":{\"bgcolor\":\"#E5ECF6\",\"aaxis\":{\"gridcolor\":\"white\",\"linecolor\":\"white\",\"ticks\":\"\"},\"baxis\":{\"gridcolor\":\"white\",\"linecolor\":\"white\",\"ticks\":\"\"},\"caxis\":{\"gridcolor\":\"white\",\"linecolor\":\"white\",\"ticks\":\"\"}},\"coloraxis\":{\"colorbar\":{\"outlinewidth\":0,\"ticks\":\"\"}},\"colorscale\":{\"sequential\":[[0.0,\"#0d0887\"],[0.1111111111111111,\"#46039f\"],[0.2222222222222222,\"#7201a8\"],[0.3333333333333333,\"#9c179e\"],[0.4444444444444444,\"#bd3786\"],[0.5555555555555556,\"#d8576b\"],[0.6666666666666666,\"#ed7953\"],[0.7777777777777778,\"#fb9f3a\"],[0.8888888888888888,\"#fdca26\"],[1.0,\"#f0f921\"]],\"sequentialminus\":[[0.0,\"#0d0887\"],[0.1111111111111111,\"#46039f\"],[0.2222222222222222,\"#7201a8\"],[0.3333333333333333,\"#9c179e\"],[0.4444444444444444,\"#bd3786\"],[0.5555555555555556,\"#d8576b\"],[0.6666666666666666,\"#ed7953\"],[0.7777777777777778,\"#fb9f3a\"],[0.8888888888888888,\"#fdca26\"],[1.0,\"#f0f921\"]],\"diverging\":[[0,\"#8e0152\"],[0.1,\"#c51b7d\"],[0.2,\"#de77ae\"],[0.3,\"#f1b6da\"],[0.4,\"#fde0ef\"],[0.5,\"#f7f7f7\"],[0.6,\"#e6f5d0\"],[0.7,\"#b8e186\"],[0.8,\"#7fbc41\"],[0.9,\"#4d9221\"],[1,\"#276419\"]]},\"xaxis\":{\"gridcolor\":\"white\",\"linecolor\":\"white\",\"ticks\":\"\",\"title\":{\"standoff\":15},\"zerolinecolor\":\"white\",\"automargin\":true,\"zerolinewidth\":2},\"yaxis\":{\"gridcolor\":\"white\",\"linecolor\":\"white\",\"ticks\":\"\",\"title\":{\"standoff\":15},\"zerolinecolor\":\"white\",\"automargin\":true,\"zerolinewidth\":2},\"scene\":{\"xaxis\":{\"backgroundcolor\":\"#E5ECF6\",\"gridcolor\":\"white\",\"linecolor\":\"white\",\"showbackground\":true,\"ticks\":\"\",\"zerolinecolor\":\"white\",\"gridwidth\":2},\"yaxis\":{\"backgroundcolor\":\"#E5ECF6\",\"gridcolor\":\"white\",\"linecolor\":\"white\",\"showbackground\":true,\"ticks\":\"\",\"zerolinecolor\":\"white\",\"gridwidth\":2},\"zaxis\":{\"backgroundcolor\":\"#E5ECF6\",\"gridcolor\":\"white\",\"linecolor\":\"white\",\"showbackground\":true,\"ticks\":\"\",\"zerolinecolor\":\"white\",\"gridwidth\":2}},\"shapedefaults\":{\"line\":{\"color\":\"#2a3f5f\"}},\"annotationdefaults\":{\"arrowcolor\":\"#2a3f5f\",\"arrowhead\":0,\"arrowwidth\":1},\"geo\":{\"bgcolor\":\"white\",\"landcolor\":\"#E5ECF6\",\"subunitcolor\":\"white\",\"showland\":true,\"showlakes\":true,\"lakecolor\":\"white\"},\"title\":{\"x\":0.05},\"mapbox\":{\"style\":\"light\"}}},\"xaxis\":{\"anchor\":\"y\",\"domain\":[0.0,1.0],\"title\":{\"text\":\"year\"}},\"yaxis\":{\"anchor\":\"x\",\"domain\":[0.0,1.0],\"title\":{\"text\":\"value\"}},\"legend\":{\"title\":{\"text\":\"variable\"},\"tracegroupgap\":0},\"margin\":{\"t\":60}},                        {\"responsive\": true}                    ).then(function(){\n",
       "                            \n",
       "var gd = document.getElementById('243a6478-4f82-4510-9a06-e34d83dbb5aa');\n",
       "var x = new MutationObserver(function (mutations, observer) {{\n",
       "        var display = window.getComputedStyle(gd).display;\n",
       "        if (!display || display === 'none') {{\n",
       "            console.log([gd, 'removed!']);\n",
       "            Plotly.purge(gd);\n",
       "            observer.disconnect();\n",
       "        }}\n",
       "}});\n",
       "\n",
       "// Listen for the removal of the full notebook cells\n",
       "var notebookContainer = gd.closest('#notebook-container');\n",
       "if (notebookContainer) {{\n",
       "    x.observe(notebookContainer, {childList: true});\n",
       "}}\n",
       "\n",
       "// Listen for the clearing of the current output cell\n",
       "var outputEl = gd.closest('.output');\n",
       "if (outputEl) {{\n",
       "    x.observe(outputEl, {childList: true});\n",
       "}}\n",
       "\n",
       "                        })                };                });            </script>        </div>"
      ]
     },
     "metadata": {},
     "output_type": "display_data"
    },
    {
     "data": {
      "text/plain": [
       "<Figure size 1200x800 with 0 Axes>"
      ]
     },
     "metadata": {},
     "output_type": "display_data"
    }
   ],
   "source": [
    "plt.figure(figsize=(12,8))\n",
    "px.line(youth_melted, x='year', y='value',color='variable')\n",
    "# plt.title('Depression Episodes in Youth by Percent',fontsize=20)\n",
    "# plt.xticks(rotation=45)"
   ]
  },
  {
   "cell_type": "code",
   "execution_count": 25,
   "id": "5d41bf02",
   "metadata": {},
   "outputs": [],
   "source": [
    "phone_use_df=pd.read_csv('percent of US adults who own a cellphone-smartphone.csv')"
   ]
  },
  {
   "cell_type": "code",
   "execution_count": 26,
   "id": "93815dff",
   "metadata": {},
   "outputs": [
    {
     "data": {
      "text/html": [
       "<div>\n",
       "<style scoped>\n",
       "    .dataframe tbody tr th:only-of-type {\n",
       "        vertical-align: middle;\n",
       "    }\n",
       "\n",
       "    .dataframe tbody tr th {\n",
       "        vertical-align: top;\n",
       "    }\n",
       "\n",
       "    .dataframe thead th {\n",
       "        text-align: right;\n",
       "    }\n",
       "</style>\n",
       "<table border=\"1\" class=\"dataframe\">\n",
       "  <thead>\n",
       "    <tr style=\"text-align: right;\">\n",
       "      <th></th>\n",
       "      <th>Date</th>\n",
       "      <th>Cellphone</th>\n",
       "      <th>Smartphone</th>\n",
       "    </tr>\n",
       "  </thead>\n",
       "  <tbody>\n",
       "    <tr>\n",
       "      <th>0</th>\n",
       "      <td>10/27/2002</td>\n",
       "      <td>0.62</td>\n",
       "      <td>NaN</td>\n",
       "    </tr>\n",
       "    <tr>\n",
       "      <th>1</th>\n",
       "      <td>11/30/2004</td>\n",
       "      <td>0.65</td>\n",
       "      <td>NaN</td>\n",
       "    </tr>\n",
       "    <tr>\n",
       "      <th>2</th>\n",
       "      <td>2/9/2005</td>\n",
       "      <td>0.66</td>\n",
       "      <td>NaN</td>\n",
       "    </tr>\n",
       "    <tr>\n",
       "      <th>3</th>\n",
       "      <td>12/31/2005</td>\n",
       "      <td>0.67</td>\n",
       "      <td>NaN</td>\n",
       "    </tr>\n",
       "    <tr>\n",
       "      <th>4</th>\n",
       "      <td>3/28/2006</td>\n",
       "      <td>0.66</td>\n",
       "      <td>NaN</td>\n",
       "    </tr>\n",
       "    <tr>\n",
       "      <th>...</th>\n",
       "      <td>...</td>\n",
       "      <td>...</td>\n",
       "      <td>...</td>\n",
       "    </tr>\n",
       "    <tr>\n",
       "      <th>59</th>\n",
       "      <td>5/3/2016</td>\n",
       "      <td>0.92</td>\n",
       "      <td>0.70</td>\n",
       "    </tr>\n",
       "    <tr>\n",
       "      <th>60</th>\n",
       "      <td>11/6/2016</td>\n",
       "      <td>0.95</td>\n",
       "      <td>0.77</td>\n",
       "    </tr>\n",
       "    <tr>\n",
       "      <th>61</th>\n",
       "      <td>1/10/2018</td>\n",
       "      <td>0.95</td>\n",
       "      <td>0.77</td>\n",
       "    </tr>\n",
       "    <tr>\n",
       "      <th>62</th>\n",
       "      <td>2/7/2019</td>\n",
       "      <td>0.96</td>\n",
       "      <td>0.81</td>\n",
       "    </tr>\n",
       "    <tr>\n",
       "      <th>63</th>\n",
       "      <td>2/8/2021</td>\n",
       "      <td>0.97</td>\n",
       "      <td>0.85</td>\n",
       "    </tr>\n",
       "  </tbody>\n",
       "</table>\n",
       "<p>64 rows × 3 columns</p>\n",
       "</div>"
      ],
      "text/plain": [
       "          Date  Cellphone  Smartphone\n",
       "0   10/27/2002       0.62         NaN\n",
       "1   11/30/2004       0.65         NaN\n",
       "2     2/9/2005       0.66         NaN\n",
       "3   12/31/2005       0.67         NaN\n",
       "4    3/28/2006       0.66         NaN\n",
       "..         ...        ...         ...\n",
       "59    5/3/2016       0.92        0.70\n",
       "60   11/6/2016       0.95        0.77\n",
       "61   1/10/2018       0.95        0.77\n",
       "62    2/7/2019       0.96        0.81\n",
       "63    2/8/2021       0.97        0.85\n",
       "\n",
       "[64 rows x 3 columns]"
      ]
     },
     "execution_count": 26,
     "metadata": {},
     "output_type": "execute_result"
    }
   ],
   "source": [
    "phone_use_df"
   ]
  },
  {
   "cell_type": "code",
   "execution_count": 27,
   "id": "eaad5b52",
   "metadata": {},
   "outputs": [
    {
     "data": {
      "text/html": [
       "<div>\n",
       "<style scoped>\n",
       "    .dataframe tbody tr th:only-of-type {\n",
       "        vertical-align: middle;\n",
       "    }\n",
       "\n",
       "    .dataframe tbody tr th {\n",
       "        vertical-align: top;\n",
       "    }\n",
       "\n",
       "    .dataframe thead th {\n",
       "        text-align: right;\n",
       "    }\n",
       "</style>\n",
       "<table border=\"1\" class=\"dataframe\">\n",
       "  <thead>\n",
       "    <tr style=\"text-align: right;\">\n",
       "      <th></th>\n",
       "      <th>Date</th>\n",
       "      <th>Cellphone</th>\n",
       "      <th>Smartphone</th>\n",
       "    </tr>\n",
       "  </thead>\n",
       "  <tbody>\n",
       "    <tr>\n",
       "      <th>0</th>\n",
       "      <td>10/27/2002</td>\n",
       "      <td>0.62</td>\n",
       "      <td>NaN</td>\n",
       "    </tr>\n",
       "    <tr>\n",
       "      <th>1</th>\n",
       "      <td>11/30/2004</td>\n",
       "      <td>0.65</td>\n",
       "      <td>NaN</td>\n",
       "    </tr>\n",
       "    <tr>\n",
       "      <th>2</th>\n",
       "      <td>2/9/2005</td>\n",
       "      <td>0.66</td>\n",
       "      <td>NaN</td>\n",
       "    </tr>\n",
       "    <tr>\n",
       "      <th>3</th>\n",
       "      <td>12/31/2005</td>\n",
       "      <td>0.67</td>\n",
       "      <td>NaN</td>\n",
       "    </tr>\n",
       "    <tr>\n",
       "      <th>4</th>\n",
       "      <td>3/28/2006</td>\n",
       "      <td>0.66</td>\n",
       "      <td>NaN</td>\n",
       "    </tr>\n",
       "  </tbody>\n",
       "</table>\n",
       "</div>"
      ],
      "text/plain": [
       "         Date  Cellphone  Smartphone\n",
       "0  10/27/2002       0.62         NaN\n",
       "1  11/30/2004       0.65         NaN\n",
       "2    2/9/2005       0.66         NaN\n",
       "3  12/31/2005       0.67         NaN\n",
       "4   3/28/2006       0.66         NaN"
      ]
     },
     "execution_count": 27,
     "metadata": {},
     "output_type": "execute_result"
    }
   ],
   "source": [
    "phone_use_df.head()"
   ]
  },
  {
   "cell_type": "code",
   "execution_count": 28,
   "id": "a539d951",
   "metadata": {},
   "outputs": [],
   "source": [
    "phone_use_df.dropna(inplace=True)"
   ]
  },
  {
   "cell_type": "code",
   "execution_count": 29,
   "id": "79ea92c1",
   "metadata": {},
   "outputs": [],
   "source": [
    "phone_use_df['Date'] = pd.to_datetime(phone_use_df['Date'])"
   ]
  },
  {
   "cell_type": "code",
   "execution_count": 30,
   "id": "128f7326",
   "metadata": {},
   "outputs": [
    {
     "name": "stdout",
     "output_type": "stream",
     "text": [
      "<class 'pandas.core.frame.DataFrame'>\n",
      "Int64Index: 29 entries, 24 to 63\n",
      "Data columns (total 3 columns):\n",
      " #   Column      Non-Null Count  Dtype         \n",
      "---  ------      --------------  -----         \n",
      " 0   Date        29 non-null     datetime64[ns]\n",
      " 1   Cellphone   29 non-null     float64       \n",
      " 2   Smartphone  29 non-null     float64       \n",
      "dtypes: datetime64[ns](1), float64(2)\n",
      "memory usage: 928.0 bytes\n"
     ]
    }
   ],
   "source": [
    "phone_use_df.info()"
   ]
  },
  {
   "cell_type": "code",
   "execution_count": 31,
   "id": "c7ffa5de",
   "metadata": {},
   "outputs": [],
   "source": [
    "phone_use_df['Date'] = phone_use_df['Date'].dt.year"
   ]
  },
  {
   "cell_type": "code",
   "execution_count": 32,
   "id": "d8332fae",
   "metadata": {},
   "outputs": [
    {
     "data": {
      "text/html": [
       "<div>\n",
       "<style scoped>\n",
       "    .dataframe tbody tr th:only-of-type {\n",
       "        vertical-align: middle;\n",
       "    }\n",
       "\n",
       "    .dataframe tbody tr th {\n",
       "        vertical-align: top;\n",
       "    }\n",
       "\n",
       "    .dataframe thead th {\n",
       "        text-align: right;\n",
       "    }\n",
       "</style>\n",
       "<table border=\"1\" class=\"dataframe\">\n",
       "  <thead>\n",
       "    <tr style=\"text-align: right;\">\n",
       "      <th></th>\n",
       "      <th>Date</th>\n",
       "      <th>Cellphone</th>\n",
       "      <th>Smartphone</th>\n",
       "    </tr>\n",
       "  </thead>\n",
       "  <tbody>\n",
       "    <tr>\n",
       "      <th>24</th>\n",
       "      <td>2011</td>\n",
       "      <td>0.83</td>\n",
       "      <td>0.35</td>\n",
       "    </tr>\n",
       "    <tr>\n",
       "      <th>28</th>\n",
       "      <td>2012</td>\n",
       "      <td>0.87</td>\n",
       "      <td>0.39</td>\n",
       "    </tr>\n",
       "    <tr>\n",
       "      <th>29</th>\n",
       "      <td>2012</td>\n",
       "      <td>0.88</td>\n",
       "      <td>0.45</td>\n",
       "    </tr>\n",
       "    <tr>\n",
       "      <th>30</th>\n",
       "      <td>2012</td>\n",
       "      <td>0.88</td>\n",
       "      <td>0.46</td>\n",
       "    </tr>\n",
       "    <tr>\n",
       "      <th>31</th>\n",
       "      <td>2012</td>\n",
       "      <td>0.87</td>\n",
       "      <td>0.44</td>\n",
       "    </tr>\n",
       "    <tr>\n",
       "      <th>33</th>\n",
       "      <td>2012</td>\n",
       "      <td>0.85</td>\n",
       "      <td>0.45</td>\n",
       "    </tr>\n",
       "    <tr>\n",
       "      <th>34</th>\n",
       "      <td>2012</td>\n",
       "      <td>0.88</td>\n",
       "      <td>0.43</td>\n",
       "    </tr>\n",
       "    <tr>\n",
       "      <th>38</th>\n",
       "      <td>2012</td>\n",
       "      <td>0.84</td>\n",
       "      <td>0.46</td>\n",
       "    </tr>\n",
       "    <tr>\n",
       "      <th>39</th>\n",
       "      <td>2012</td>\n",
       "      <td>0.87</td>\n",
       "      <td>0.45</td>\n",
       "    </tr>\n",
       "    <tr>\n",
       "      <th>41</th>\n",
       "      <td>2013</td>\n",
       "      <td>0.89</td>\n",
       "      <td>0.51</td>\n",
       "    </tr>\n",
       "    <tr>\n",
       "      <th>42</th>\n",
       "      <td>2013</td>\n",
       "      <td>0.91</td>\n",
       "      <td>0.56</td>\n",
       "    </tr>\n",
       "    <tr>\n",
       "      <th>43</th>\n",
       "      <td>2013</td>\n",
       "      <td>0.90</td>\n",
       "      <td>0.53</td>\n",
       "    </tr>\n",
       "    <tr>\n",
       "      <th>44</th>\n",
       "      <td>2013</td>\n",
       "      <td>0.91</td>\n",
       "      <td>0.53</td>\n",
       "    </tr>\n",
       "    <tr>\n",
       "      <th>45</th>\n",
       "      <td>2013</td>\n",
       "      <td>0.89</td>\n",
       "      <td>0.54</td>\n",
       "    </tr>\n",
       "    <tr>\n",
       "      <th>46</th>\n",
       "      <td>2013</td>\n",
       "      <td>0.91</td>\n",
       "      <td>0.55</td>\n",
       "    </tr>\n",
       "    <tr>\n",
       "      <th>47</th>\n",
       "      <td>2013</td>\n",
       "      <td>0.92</td>\n",
       "      <td>0.58</td>\n",
       "    </tr>\n",
       "    <tr>\n",
       "      <th>48</th>\n",
       "      <td>2014</td>\n",
       "      <td>0.92</td>\n",
       "      <td>0.55</td>\n",
       "    </tr>\n",
       "    <tr>\n",
       "      <th>49</th>\n",
       "      <td>2014</td>\n",
       "      <td>0.90</td>\n",
       "      <td>0.58</td>\n",
       "    </tr>\n",
       "    <tr>\n",
       "      <th>50</th>\n",
       "      <td>2014</td>\n",
       "      <td>0.91</td>\n",
       "      <td>0.55</td>\n",
       "    </tr>\n",
       "    <tr>\n",
       "      <th>54</th>\n",
       "      <td>2014</td>\n",
       "      <td>0.89</td>\n",
       "      <td>0.59</td>\n",
       "    </tr>\n",
       "    <tr>\n",
       "      <th>55</th>\n",
       "      <td>2015</td>\n",
       "      <td>0.92</td>\n",
       "      <td>0.67</td>\n",
       "    </tr>\n",
       "    <tr>\n",
       "      <th>56</th>\n",
       "      <td>2015</td>\n",
       "      <td>0.92</td>\n",
       "      <td>0.68</td>\n",
       "    </tr>\n",
       "    <tr>\n",
       "      <th>57</th>\n",
       "      <td>2015</td>\n",
       "      <td>0.91</td>\n",
       "      <td>0.69</td>\n",
       "    </tr>\n",
       "    <tr>\n",
       "      <th>58</th>\n",
       "      <td>2016</td>\n",
       "      <td>0.92</td>\n",
       "      <td>0.72</td>\n",
       "    </tr>\n",
       "    <tr>\n",
       "      <th>59</th>\n",
       "      <td>2016</td>\n",
       "      <td>0.92</td>\n",
       "      <td>0.70</td>\n",
       "    </tr>\n",
       "    <tr>\n",
       "      <th>60</th>\n",
       "      <td>2016</td>\n",
       "      <td>0.95</td>\n",
       "      <td>0.77</td>\n",
       "    </tr>\n",
       "    <tr>\n",
       "      <th>61</th>\n",
       "      <td>2018</td>\n",
       "      <td>0.95</td>\n",
       "      <td>0.77</td>\n",
       "    </tr>\n",
       "    <tr>\n",
       "      <th>62</th>\n",
       "      <td>2019</td>\n",
       "      <td>0.96</td>\n",
       "      <td>0.81</td>\n",
       "    </tr>\n",
       "    <tr>\n",
       "      <th>63</th>\n",
       "      <td>2021</td>\n",
       "      <td>0.97</td>\n",
       "      <td>0.85</td>\n",
       "    </tr>\n",
       "  </tbody>\n",
       "</table>\n",
       "</div>"
      ],
      "text/plain": [
       "    Date  Cellphone  Smartphone\n",
       "24  2011       0.83        0.35\n",
       "28  2012       0.87        0.39\n",
       "29  2012       0.88        0.45\n",
       "30  2012       0.88        0.46\n",
       "31  2012       0.87        0.44\n",
       "33  2012       0.85        0.45\n",
       "34  2012       0.88        0.43\n",
       "38  2012       0.84        0.46\n",
       "39  2012       0.87        0.45\n",
       "41  2013       0.89        0.51\n",
       "42  2013       0.91        0.56\n",
       "43  2013       0.90        0.53\n",
       "44  2013       0.91        0.53\n",
       "45  2013       0.89        0.54\n",
       "46  2013       0.91        0.55\n",
       "47  2013       0.92        0.58\n",
       "48  2014       0.92        0.55\n",
       "49  2014       0.90        0.58\n",
       "50  2014       0.91        0.55\n",
       "54  2014       0.89        0.59\n",
       "55  2015       0.92        0.67\n",
       "56  2015       0.92        0.68\n",
       "57  2015       0.91        0.69\n",
       "58  2016       0.92        0.72\n",
       "59  2016       0.92        0.70\n",
       "60  2016       0.95        0.77\n",
       "61  2018       0.95        0.77\n",
       "62  2019       0.96        0.81\n",
       "63  2021       0.97        0.85"
      ]
     },
     "execution_count": 32,
     "metadata": {},
     "output_type": "execute_result"
    }
   ],
   "source": [
    "phone_use_df"
   ]
  },
  {
   "cell_type": "code",
   "execution_count": 33,
   "id": "af4a6bb8",
   "metadata": {},
   "outputs": [],
   "source": [
    "phone_use_df=phone_use_df.drop_duplicates(subset='Date',keep='last')"
   ]
  },
  {
   "cell_type": "code",
   "execution_count": 34,
   "id": "f0aa04da",
   "metadata": {},
   "outputs": [
    {
     "data": {
      "text/html": [
       "<div>\n",
       "<style scoped>\n",
       "    .dataframe tbody tr th:only-of-type {\n",
       "        vertical-align: middle;\n",
       "    }\n",
       "\n",
       "    .dataframe tbody tr th {\n",
       "        vertical-align: top;\n",
       "    }\n",
       "\n",
       "    .dataframe thead th {\n",
       "        text-align: right;\n",
       "    }\n",
       "</style>\n",
       "<table border=\"1\" class=\"dataframe\">\n",
       "  <thead>\n",
       "    <tr style=\"text-align: right;\">\n",
       "      <th></th>\n",
       "      <th>Date</th>\n",
       "      <th>Cellphone</th>\n",
       "      <th>Smartphone</th>\n",
       "    </tr>\n",
       "  </thead>\n",
       "  <tbody>\n",
       "    <tr>\n",
       "      <th>24</th>\n",
       "      <td>2011</td>\n",
       "      <td>0.83</td>\n",
       "      <td>0.35</td>\n",
       "    </tr>\n",
       "    <tr>\n",
       "      <th>39</th>\n",
       "      <td>2012</td>\n",
       "      <td>0.87</td>\n",
       "      <td>0.45</td>\n",
       "    </tr>\n",
       "    <tr>\n",
       "      <th>47</th>\n",
       "      <td>2013</td>\n",
       "      <td>0.92</td>\n",
       "      <td>0.58</td>\n",
       "    </tr>\n",
       "    <tr>\n",
       "      <th>54</th>\n",
       "      <td>2014</td>\n",
       "      <td>0.89</td>\n",
       "      <td>0.59</td>\n",
       "    </tr>\n",
       "    <tr>\n",
       "      <th>57</th>\n",
       "      <td>2015</td>\n",
       "      <td>0.91</td>\n",
       "      <td>0.69</td>\n",
       "    </tr>\n",
       "  </tbody>\n",
       "</table>\n",
       "</div>"
      ],
      "text/plain": [
       "    Date  Cellphone  Smartphone\n",
       "24  2011       0.83        0.35\n",
       "39  2012       0.87        0.45\n",
       "47  2013       0.92        0.58\n",
       "54  2014       0.89        0.59\n",
       "57  2015       0.91        0.69"
      ]
     },
     "execution_count": 34,
     "metadata": {},
     "output_type": "execute_result"
    }
   ],
   "source": [
    "phone_use_df.head()"
   ]
  },
  {
   "cell_type": "code",
   "execution_count": 35,
   "id": "24898223",
   "metadata": {
    "scrolled": true
   },
   "outputs": [],
   "source": [
    "sns.lineplot(data=phone_use_df, x='Date', y='Smartphone');"
   ]
  },
  {
   "cell_type": "code",
   "execution_count": 36,
   "id": "40dc3bf6",
   "metadata": {},
   "outputs": [
    {
     "data": {
      "text/html": [
       "<div>\n",
       "<style scoped>\n",
       "    .dataframe tbody tr th:only-of-type {\n",
       "        vertical-align: middle;\n",
       "    }\n",
       "\n",
       "    .dataframe tbody tr th {\n",
       "        vertical-align: top;\n",
       "    }\n",
       "\n",
       "    .dataframe thead th {\n",
       "        text-align: right;\n",
       "    }\n",
       "</style>\n",
       "<table border=\"1\" class=\"dataframe\">\n",
       "  <thead>\n",
       "    <tr style=\"text-align: right;\">\n",
       "      <th></th>\n",
       "      <th>Date</th>\n",
       "      <th>Cellphone</th>\n",
       "      <th>Smartphone</th>\n",
       "    </tr>\n",
       "  </thead>\n",
       "  <tbody>\n",
       "    <tr>\n",
       "      <th>24</th>\n",
       "      <td>2011</td>\n",
       "      <td>0.83</td>\n",
       "      <td>0.35</td>\n",
       "    </tr>\n",
       "    <tr>\n",
       "      <th>39</th>\n",
       "      <td>2012</td>\n",
       "      <td>0.87</td>\n",
       "      <td>0.45</td>\n",
       "    </tr>\n",
       "    <tr>\n",
       "      <th>47</th>\n",
       "      <td>2013</td>\n",
       "      <td>0.92</td>\n",
       "      <td>0.58</td>\n",
       "    </tr>\n",
       "    <tr>\n",
       "      <th>54</th>\n",
       "      <td>2014</td>\n",
       "      <td>0.89</td>\n",
       "      <td>0.59</td>\n",
       "    </tr>\n",
       "    <tr>\n",
       "      <th>57</th>\n",
       "      <td>2015</td>\n",
       "      <td>0.91</td>\n",
       "      <td>0.69</td>\n",
       "    </tr>\n",
       "  </tbody>\n",
       "</table>\n",
       "</div>"
      ],
      "text/plain": [
       "    Date  Cellphone  Smartphone\n",
       "24  2011       0.83        0.35\n",
       "39  2012       0.87        0.45\n",
       "47  2013       0.92        0.58\n",
       "54  2014       0.89        0.59\n",
       "57  2015       0.91        0.69"
      ]
     },
     "execution_count": 36,
     "metadata": {},
     "output_type": "execute_result"
    }
   ],
   "source": [
    "phone_use_df.head()"
   ]
  },
  {
   "cell_type": "code",
   "execution_count": 127,
   "id": "b2b1e3bf",
   "metadata": {},
   "outputs": [
    {
     "data": {
      "image/png": "[encoded data removed]",
      "text/plain": [
       "<Figure size 1200x800 with 1 Axes>"
      ]
     },
     "metadata": {},
     "output_type": "display_data"
    }
   ],
   "source": [
    "plt.figure(figsize=(12,8))\n",
    "phonefig=sns.lineplot(data=phone_use_df, x='Date', y='Smartphone')\n",
    "plt.title('Smartphone Use Over Time',fontsize=20)\n",
    "plt.xticks(rotation=0);"
   ]
  },
  {
   "cell_type": "code",
   "execution_count": 38,
   "id": "b89ee97c",
   "metadata": {},
   "outputs": [],
   "source": [
    "mental_health_df=pd.read_csv('us_adult_mental_illness_1990-2019.csv')"
   ]
  },
  {
   "cell_type": "code",
   "execution_count": 39,
   "id": "64bf801c",
   "metadata": {},
   "outputs": [
    {
     "data": {
      "text/html": [
       "<div>\n",
       "<style scoped>\n",
       "    .dataframe tbody tr th:only-of-type {\n",
       "        vertical-align: middle;\n",
       "    }\n",
       "\n",
       "    .dataframe tbody tr th {\n",
       "        vertical-align: top;\n",
       "    }\n",
       "\n",
       "    .dataframe thead th {\n",
       "        text-align: right;\n",
       "    }\n",
       "</style>\n",
       "<table border=\"1\" class=\"dataframe\">\n",
       "  <thead>\n",
       "    <tr style=\"text-align: right;\">\n",
       "      <th></th>\n",
       "      <th>Year</th>\n",
       "      <th>Depression</th>\n",
       "      <th>Anxiety</th>\n",
       "    </tr>\n",
       "  </thead>\n",
       "  <tbody>\n",
       "    <tr>\n",
       "      <th>0</th>\n",
       "      <td>1990</td>\n",
       "      <td>4.07</td>\n",
       "      <td>5.62</td>\n",
       "    </tr>\n",
       "    <tr>\n",
       "      <th>1</th>\n",
       "      <td>1991</td>\n",
       "      <td>4.20</td>\n",
       "      <td>5.64</td>\n",
       "    </tr>\n",
       "    <tr>\n",
       "      <th>2</th>\n",
       "      <td>1992</td>\n",
       "      <td>4.32</td>\n",
       "      <td>5.66</td>\n",
       "    </tr>\n",
       "    <tr>\n",
       "      <th>3</th>\n",
       "      <td>1993</td>\n",
       "      <td>4.44</td>\n",
       "      <td>5.69</td>\n",
       "    </tr>\n",
       "    <tr>\n",
       "      <th>4</th>\n",
       "      <td>1994</td>\n",
       "      <td>4.55</td>\n",
       "      <td>5.72</td>\n",
       "    </tr>\n",
       "  </tbody>\n",
       "</table>\n",
       "</div>"
      ],
      "text/plain": [
       "   Year  Depression  Anxiety\n",
       "0  1990        4.07     5.62\n",
       "1  1991        4.20     5.64\n",
       "2  1992        4.32     5.66\n",
       "3  1993        4.44     5.69\n",
       "4  1994        4.55     5.72"
      ]
     },
     "execution_count": 39,
     "metadata": {},
     "output_type": "execute_result"
    }
   ],
   "source": [
    "mental_health_df.head()"
   ]
  },
  {
   "cell_type": "code",
   "execution_count": 40,
   "id": "43c9eb19",
   "metadata": {},
   "outputs": [
    {
     "data": {
      "text/plain": [
       "<AxesSubplot:title={'center':'Smartphone Use Over Time'}, xlabel='Date', ylabel='Smartphone'>"
      ]
     },
     "execution_count": 40,
     "metadata": {},
     "output_type": "execute_result"
    }
   ],
   "source": [
    "sns.lineplot(data=mental_health_df, x='Year', y='Depression')"
   ]
  },
  {
   "cell_type": "code",
   "execution_count": 41,
   "id": "d0c6deae",
   "metadata": {},
   "outputs": [
    {
     "data": {
      "text/plain": [
       "<AxesSubplot:title={'center':'Smartphone Use Over Time'}, xlabel='Date', ylabel='Smartphone'>"
      ]
     },
     "execution_count": 41,
     "metadata": {},
     "output_type": "execute_result"
    }
   ],
   "source": [
    "sns.lineplot(data=mental_health_df, x='Year', y='Anxiety')"
   ]
  },
  {
   "cell_type": "code",
   "execution_count": 42,
   "id": "66649a49",
   "metadata": {},
   "outputs": [],
   "source": [
    "# import seaborn\n",
    "\n",
    "import seaborn as sns\n",
    "# set standard plot type as seaborn plot\n",
    "sns.set()\n",
    "\n",
    "# import matplotlib\n",
    "import matplotlib.pyplot as plt\n",
    "\n",
    "# write command for plots to appear in jupyter cells automatically\n",
    "%matplotlib inline"
   ]
  },
  {
   "cell_type": "code",
   "execution_count": 43,
   "id": "05c2fc14",
   "metadata": {},
   "outputs": [],
   "source": [
    "import plotly.express as px"
   ]
  },
  {
   "cell_type": "code",
   "execution_count": 44,
   "id": "3355a615",
   "metadata": {},
   "outputs": [
    {
     "data": {
      "text/html": [
       "<div>\n",
       "<style scoped>\n",
       "    .dataframe tbody tr th:only-of-type {\n",
       "        vertical-align: middle;\n",
       "    }\n",
       "\n",
       "    .dataframe tbody tr th {\n",
       "        vertical-align: top;\n",
       "    }\n",
       "\n",
       "    .dataframe thead th {\n",
       "        text-align: right;\n",
       "    }\n",
       "</style>\n",
       "<table border=\"1\" class=\"dataframe\">\n",
       "  <thead>\n",
       "    <tr style=\"text-align: right;\">\n",
       "      <th></th>\n",
       "      <th>Year</th>\n",
       "      <th>Depression</th>\n",
       "      <th>Anxiety</th>\n",
       "    </tr>\n",
       "  </thead>\n",
       "  <tbody>\n",
       "    <tr>\n",
       "      <th>0</th>\n",
       "      <td>1990</td>\n",
       "      <td>4.07</td>\n",
       "      <td>5.62</td>\n",
       "    </tr>\n",
       "    <tr>\n",
       "      <th>1</th>\n",
       "      <td>1991</td>\n",
       "      <td>4.20</td>\n",
       "      <td>5.64</td>\n",
       "    </tr>\n",
       "    <tr>\n",
       "      <th>2</th>\n",
       "      <td>1992</td>\n",
       "      <td>4.32</td>\n",
       "      <td>5.66</td>\n",
       "    </tr>\n",
       "    <tr>\n",
       "      <th>3</th>\n",
       "      <td>1993</td>\n",
       "      <td>4.44</td>\n",
       "      <td>5.69</td>\n",
       "    </tr>\n",
       "    <tr>\n",
       "      <th>4</th>\n",
       "      <td>1994</td>\n",
       "      <td>4.55</td>\n",
       "      <td>5.72</td>\n",
       "    </tr>\n",
       "  </tbody>\n",
       "</table>\n",
       "</div>"
      ],
      "text/plain": [
       "   Year  Depression  Anxiety\n",
       "0  1990        4.07     5.62\n",
       "1  1991        4.20     5.64\n",
       "2  1992        4.32     5.66\n",
       "3  1993        4.44     5.69\n",
       "4  1994        4.55     5.72"
      ]
     },
     "execution_count": 44,
     "metadata": {},
     "output_type": "execute_result"
    }
   ],
   "source": [
    "mental_health_df.head()"
   ]
  },
  {
   "cell_type": "code",
   "execution_count": 45,
   "id": "d1ae8023",
   "metadata": {},
   "outputs": [
    {
     "data": {
      "text/html": [
       "<div>\n",
       "<style scoped>\n",
       "    .dataframe tbody tr th:only-of-type {\n",
       "        vertical-align: middle;\n",
       "    }\n",
       "\n",
       "    .dataframe tbody tr th {\n",
       "        vertical-align: top;\n",
       "    }\n",
       "\n",
       "    .dataframe thead th {\n",
       "        text-align: right;\n",
       "    }\n",
       "</style>\n",
       "<table border=\"1\" class=\"dataframe\">\n",
       "  <thead>\n",
       "    <tr style=\"text-align: right;\">\n",
       "      <th></th>\n",
       "      <th>Date</th>\n",
       "      <th>Cellphone</th>\n",
       "      <th>Smartphone</th>\n",
       "    </tr>\n",
       "  </thead>\n",
       "  <tbody>\n",
       "    <tr>\n",
       "      <th>24</th>\n",
       "      <td>2011</td>\n",
       "      <td>0.83</td>\n",
       "      <td>0.35</td>\n",
       "    </tr>\n",
       "    <tr>\n",
       "      <th>39</th>\n",
       "      <td>2012</td>\n",
       "      <td>0.87</td>\n",
       "      <td>0.45</td>\n",
       "    </tr>\n",
       "    <tr>\n",
       "      <th>47</th>\n",
       "      <td>2013</td>\n",
       "      <td>0.92</td>\n",
       "      <td>0.58</td>\n",
       "    </tr>\n",
       "    <tr>\n",
       "      <th>54</th>\n",
       "      <td>2014</td>\n",
       "      <td>0.89</td>\n",
       "      <td>0.59</td>\n",
       "    </tr>\n",
       "    <tr>\n",
       "      <th>57</th>\n",
       "      <td>2015</td>\n",
       "      <td>0.91</td>\n",
       "      <td>0.69</td>\n",
       "    </tr>\n",
       "    <tr>\n",
       "      <th>60</th>\n",
       "      <td>2016</td>\n",
       "      <td>0.95</td>\n",
       "      <td>0.77</td>\n",
       "    </tr>\n",
       "    <tr>\n",
       "      <th>61</th>\n",
       "      <td>2018</td>\n",
       "      <td>0.95</td>\n",
       "      <td>0.77</td>\n",
       "    </tr>\n",
       "    <tr>\n",
       "      <th>62</th>\n",
       "      <td>2019</td>\n",
       "      <td>0.96</td>\n",
       "      <td>0.81</td>\n",
       "    </tr>\n",
       "    <tr>\n",
       "      <th>63</th>\n",
       "      <td>2021</td>\n",
       "      <td>0.97</td>\n",
       "      <td>0.85</td>\n",
       "    </tr>\n",
       "  </tbody>\n",
       "</table>\n",
       "</div>"
      ],
      "text/plain": [
       "    Date  Cellphone  Smartphone\n",
       "24  2011       0.83        0.35\n",
       "39  2012       0.87        0.45\n",
       "47  2013       0.92        0.58\n",
       "54  2014       0.89        0.59\n",
       "57  2015       0.91        0.69\n",
       "60  2016       0.95        0.77\n",
       "61  2018       0.95        0.77\n",
       "62  2019       0.96        0.81\n",
       "63  2021       0.97        0.85"
      ]
     },
     "execution_count": 45,
     "metadata": {},
     "output_type": "execute_result"
    }
   ],
   "source": [
    "phone_use_df"
   ]
  },
  {
   "cell_type": "code",
   "execution_count": 46,
   "id": "ef7da764",
   "metadata": {},
   "outputs": [],
   "source": [
    "pu_tomerge=phone_use_df.copy()"
   ]
  },
  {
   "cell_type": "code",
   "execution_count": null,
   "id": "e4b889a9",
   "metadata": {},
   "outputs": [],
   "source": [
    "mental_health_df.head()"
   ]
  },
  {
   "cell_type": "code",
   "execution_count": 53,
   "id": "455bb069",
   "metadata": {},
   "outputs": [],
   "source": [
    "mh_tomerge=mental_health_df.copy()"
   ]
  },
  {
   "cell_type": "code",
   "execution_count": 54,
   "id": "097c8cbd",
   "metadata": {},
   "outputs": [],
   "source": [
    "mh_combined=mental_health_df.melt(id_vars='Year')"
   ]
  },
  {
   "cell_type": "code",
   "execution_count": 128,
   "id": "9372797d",
   "metadata": {},
   "outputs": [
    {
     "data": {
      "application/vnd.plotly.v1+json": {
       "config": {
        "plotlyServerURL": "https://plot.ly"
       },
       "data": [
        {
         "hovertemplate": "variable=Depression<br>year=%{x}<br>value=%{y}<extra></extra>",
         "legendgroup": "Depression",
         "line": {
          "color": "#636efa",
          "dash": "solid"
         },
         "marker": {
          "symbol": "circle"
         },
         "mode": "lines",
         "name": "Depression",
         "orientation": "v",
         "showlegend": true,
         "type": "scatter",
         "x": [
          1990,
          1991,
          1992,
          1993,
          1994,
          1995,
          1996,
          1997,
          1998,
          1999,
          2000,
          2001,
          2002,
          2003,
          2004,
          2005,
          2006,
          2007,
          2008,
          2009,
          2010,
          2011,
          2012,
          2013,
          2014,
          2015,
          2016,
          2017,
          2018,
          2019
         ],
         "xaxis": "x",
         "y": [
          4.07,
          4.2,
          4.32,
          4.44,
          4.55,
          4.65,
          4.73,
          4.79,
          4.84,
          4.88,
          4.9,
          4.91,
          4.91,
          4.91,
          4.91,
          4.91,
          4.92,
          4.93,
          4.93,
          4.93,
          4.93,
          4.91,
          4.87,
          4.83,
          4.78,
          4.75,
          4.74,
          4.74,
          4.73,
          4.73
         ],
         "yaxis": "y"
        },
        {
         "hovertemplate": "variable=Anxiety<br>year=%{x}<br>value=%{y}<extra></extra>",
         "legendgroup": "Anxiety",
         "line": {
          "color": "#EF553B",
          "dash": "solid"
         },
         "marker": {
          "symbol": "circle"
         },
         "mode": "lines",
         "name": "Anxiety",
         "orientation": "v",
         "showlegend": true,
         "type": "scatter",
         "x": [
          1990,
          1991,
          1992,
          1993,
          1994,
          1995,
          1996,
          1997,
          1998,
          1999,
          2000,
          2001,
          2002,
          2003,
          2004,
          2005,
          2006,
          2007,
          2008,
          2009,
          2010,
          2011,
          2012,
          2013,
          2014,
          2015,
          2016,
          2017,
          2018,
          2019
         ],
         "xaxis": "x",
         "y": [
          5.62,
          5.64,
          5.66,
          5.69,
          5.72,
          5.75,
          5.93,
          6.32,
          6.77,
          7.15,
          7.31,
          7.25,
          7.12,
          6.95,
          6.77,
          6.65,
          6.57,
          6.52,
          6.47,
          6.42,
          6.35,
          6.22,
          6.03,
          5.84,
          5.68,
          5.61,
          5.6,
          5.61,
          5.79,
          6.16
         ],
         "yaxis": "y"
        }
       ],
       "layout": {
        "legend": {
         "title": {
          "text": "variable"
         },
         "tracegroupgap": 0
        },
        "template": {
         "data": {
          "bar": [
           {
            "error_x": {
             "color": "#2a3f5f"
            },
            "error_y": {
             "color": "#2a3f5f"
            },
            "marker": {
             "line": {
              "color": "#E5ECF6",
              "width": 0.5
             },
             "pattern": {
              "fillmode": "overlay",
              "size": 10,
              "solidity": 0.2
             }
            },
            "type": "bar"
           }
          ],
          "barpolar": [
           {
            "marker": {
             "line": {
              "color": "#E5ECF6",
              "width": 0.5
             },
             "pattern": {
              "fillmode": "overlay",
              "size": 10,
              "solidity": 0.2
             }
            },
            "type": "barpolar"
           }
          ],
          "carpet": [
           {
            "aaxis": {
             "endlinecolor": "#2a3f5f",
             "gridcolor": "white",
             "linecolor": "white",
             "minorgridcolor": "white",
             "startlinecolor": "#2a3f5f"
            },
            "baxis": {
             "endlinecolor": "#2a3f5f",
             "gridcolor": "white",
             "linecolor": "white",
             "minorgridcolor": "white",
             "startlinecolor": "#2a3f5f"
            },
            "type": "carpet"
           }
          ],
          "choropleth": [
           {
            "colorbar": {
             "outlinewidth": 0,
             "ticks": ""
            },
            "type": "choropleth"
           }
          ],
          "contour": [
           {
            "colorbar": {
             "outlinewidth": 0,
             "ticks": ""
            },
            "colorscale": [
             [
              0,
              "#0d0887"
             ],
             [
              0.1111111111111111,
              "#46039f"
             ],
             [
              0.2222222222222222,
              "#7201a8"
             ],
             [
              0.3333333333333333,
              "#9c179e"
             ],
             [
              0.4444444444444444,
              "#bd3786"
             ],
             [
              0.5555555555555556,
              "#d8576b"
             ],
             [
              0.6666666666666666,
              "#ed7953"
             ],
             [
              0.7777777777777778,
              "#fb9f3a"
             ],
             [
              0.8888888888888888,
              "#fdca26"
             ],
             [
              1,
              "#f0f921"
             ]
            ],
            "type": "contour"
           }
          ],
          "contourcarpet": [
           {
            "colorbar": {
             "outlinewidth": 0,
             "ticks": ""
            },
            "type": "contourcarpet"
           }
          ],
          "heatmap": [
           {
            "colorbar": {
             "outlinewidth": 0,
             "ticks": ""
            },
            "colorscale": [
             [
              0,
              "#0d0887"
             ],
             [
              0.1111111111111111,
              "#46039f"
             ],
             [
              0.2222222222222222,
              "#7201a8"
             ],
             [
              0.3333333333333333,
              "#9c179e"
             ],
             [
              0.4444444444444444,
              "#bd3786"
             ],
             [
              0.5555555555555556,
              "#d8576b"
             ],
             [
              0.6666666666666666,
              "#ed7953"
             ],
             [
              0.7777777777777778,
              "#fb9f3a"
             ],
             [
              0.8888888888888888,
              "#fdca26"
             ],
             [
              1,
              "#f0f921"
             ]
            ],
            "type": "heatmap"
           }
          ],
          "heatmapgl": [
           {
            "colorbar": {
             "outlinewidth": 0,
             "ticks": ""
            },
            "colorscale": [
             [
              0,
              "#0d0887"
             ],
             [
              0.1111111111111111,
              "#46039f"
             ],
             [
              0.2222222222222222,
              "#7201a8"
             ],
             [
              0.3333333333333333,
              "#9c179e"
             ],
             [
              0.4444444444444444,
              "#bd3786"
             ],
             [
              0.5555555555555556,
              "#d8576b"
             ],
             [
              0.6666666666666666,
              "#ed7953"
             ],
             [
              0.7777777777777778,
              "#fb9f3a"
             ],
             [
              0.8888888888888888,
              "#fdca26"
             ],
             [
              1,
              "#f0f921"
             ]
            ],
            "type": "heatmapgl"
           }
          ],
          "histogram": [
           {
            "marker": {
             "pattern": {
              "fillmode": "overlay",
              "size": 10,
              "solidity": 0.2
             }
            },
            "type": "histogram"
           }
          ],
          "histogram2d": [
           {
            "colorbar": {
             "outlinewidth": 0,
             "ticks": ""
            },
            "colorscale": [
             [
              0,
              "#0d0887"
             ],
             [
              0.1111111111111111,
              "#46039f"
             ],
             [
              0.2222222222222222,
              "#7201a8"
             ],
             [
              0.3333333333333333,
              "#9c179e"
             ],
             [
              0.4444444444444444,
              "#bd3786"
             ],
             [
              0.5555555555555556,
              "#d8576b"
             ],
             [
              0.6666666666666666,
              "#ed7953"
             ],
             [
              0.7777777777777778,
              "#fb9f3a"
             ],
             [
              0.8888888888888888,
              "#fdca26"
             ],
             [
              1,
              "#f0f921"
             ]
            ],
            "type": "histogram2d"
           }
          ],
          "histogram2dcontour": [
           {
            "colorbar": {
             "outlinewidth": 0,
             "ticks": ""
            },
            "colorscale": [
             [
              0,
              "#0d0887"
             ],
             [
              0.1111111111111111,
              "#46039f"
             ],
             [
              0.2222222222222222,
              "#7201a8"
             ],
             [
              0.3333333333333333,
              "#9c179e"
             ],
             [
              0.4444444444444444,
              "#bd3786"
             ],
             [
              0.5555555555555556,
              "#d8576b"
             ],
             [
              0.6666666666666666,
              "#ed7953"
             ],
             [
              0.7777777777777778,
              "#fb9f3a"
             ],
             [
              0.8888888888888888,
              "#fdca26"
             ],
             [
              1,
              "#f0f921"
             ]
            ],
            "type": "histogram2dcontour"
           }
          ],
          "mesh3d": [
           {
            "colorbar": {
             "outlinewidth": 0,
             "ticks": ""
            },
            "type": "mesh3d"
           }
          ],
          "parcoords": [
           {
            "line": {
             "colorbar": {
              "outlinewidth": 0,
              "ticks": ""
             }
            },
            "type": "parcoords"
           }
          ],
          "pie": [
           {
            "automargin": true,
            "type": "pie"
           }
          ],
          "scatter": [
           {
            "fillpattern": {
             "fillmode": "overlay",
             "size": 10,
             "solidity": 0.2
            },
            "type": "scatter"
           }
          ],
          "scatter3d": [
           {
            "line": {
             "colorbar": {
              "outlinewidth": 0,
              "ticks": ""
             }
            },
            "marker": {
             "colorbar": {
              "outlinewidth": 0,
              "ticks": ""
             }
            },
            "type": "scatter3d"
           }
          ],
          "scattercarpet": [
           {
            "marker": {
             "colorbar": {
              "outlinewidth": 0,
              "ticks": ""
             }
            },
            "type": "scattercarpet"
           }
          ],
          "scattergeo": [
           {
            "marker": {
             "colorbar": {
              "outlinewidth": 0,
              "ticks": ""
             }
            },
            "type": "scattergeo"
           }
          ],
          "scattergl": [
           {
            "marker": {
             "colorbar": {
              "outlinewidth": 0,
              "ticks": ""
             }
            },
            "type": "scattergl"
           }
          ],
          "scattermapbox": [
           {
            "marker": {
             "colorbar": {
              "outlinewidth": 0,
              "ticks": ""
             }
            },
            "type": "scattermapbox"
           }
          ],
          "scatterpolar": [
           {
            "marker": {
             "colorbar": {
              "outlinewidth": 0,
              "ticks": ""
             }
            },
            "type": "scatterpolar"
           }
          ],
          "scatterpolargl": [
           {
            "marker": {
             "colorbar": {
              "outlinewidth": 0,
              "ticks": ""
             }
            },
            "type": "scatterpolargl"
           }
          ],
          "scatterternary": [
           {
            "marker": {
             "colorbar": {
              "outlinewidth": 0,
              "ticks": ""
             }
            },
            "type": "scatterternary"
           }
          ],
          "surface": [
           {
            "colorbar": {
             "outlinewidth": 0,
             "ticks": ""
            },
            "colorscale": [
             [
              0,
              "#0d0887"
             ],
             [
              0.1111111111111111,
              "#46039f"
             ],
             [
              0.2222222222222222,
              "#7201a8"
             ],
             [
              0.3333333333333333,
              "#9c179e"
             ],
             [
              0.4444444444444444,
              "#bd3786"
             ],
             [
              0.5555555555555556,
              "#d8576b"
             ],
             [
              0.6666666666666666,
              "#ed7953"
             ],
             [
              0.7777777777777778,
              "#fb9f3a"
             ],
             [
              0.8888888888888888,
              "#fdca26"
             ],
             [
              1,
              "#f0f921"
             ]
            ],
            "type": "surface"
           }
          ],
          "table": [
           {
            "cells": {
             "fill": {
              "color": "#EBF0F8"
             },
             "line": {
              "color": "white"
             }
            },
            "header": {
             "fill": {
              "color": "#C8D4E3"
             },
             "line": {
              "color": "white"
             }
            },
            "type": "table"
           }
          ]
         },
         "layout": {
          "annotationdefaults": {
           "arrowcolor": "#2a3f5f",
           "arrowhead": 0,
           "arrowwidth": 1
          },
          "autotypenumbers": "strict",
          "coloraxis": {
           "colorbar": {
            "outlinewidth": 0,
            "ticks": ""
           }
          },
          "colorscale": {
           "diverging": [
            [
             0,
             "#8e0152"
            ],
            [
             0.1,
             "#c51b7d"
            ],
            [
             0.2,
             "#de77ae"
            ],
            [
             0.3,
             "#f1b6da"
            ],
            [
             0.4,
             "#fde0ef"
            ],
            [
             0.5,
             "#f7f7f7"
            ],
            [
             0.6,
             "#e6f5d0"
            ],
            [
             0.7,
             "#b8e186"
            ],
            [
             0.8,
             "#7fbc41"
            ],
            [
             0.9,
             "#4d9221"
            ],
            [
             1,
             "#276419"
            ]
           ],
           "sequential": [
            [
             0,
             "#0d0887"
            ],
            [
             0.1111111111111111,
             "#46039f"
            ],
            [
             0.2222222222222222,
             "#7201a8"
            ],
            [
             0.3333333333333333,
             "#9c179e"
            ],
            [
             0.4444444444444444,
             "#bd3786"
            ],
            [
             0.5555555555555556,
             "#d8576b"
            ],
            [
             0.6666666666666666,
             "#ed7953"
            ],
            [
             0.7777777777777778,
             "#fb9f3a"
            ],
            [
             0.8888888888888888,
             "#fdca26"
            ],
            [
             1,
             "#f0f921"
            ]
           ],
           "sequentialminus": [
            [
             0,
             "#0d0887"
            ],
            [
             0.1111111111111111,
             "#46039f"
            ],
            [
             0.2222222222222222,
             "#7201a8"
            ],
            [
             0.3333333333333333,
             "#9c179e"
            ],
            [
             0.4444444444444444,
             "#bd3786"
            ],
            [
             0.5555555555555556,
             "#d8576b"
            ],
            [
             0.6666666666666666,
             "#ed7953"
            ],
            [
             0.7777777777777778,
             "#fb9f3a"
            ],
            [
             0.8888888888888888,
             "#fdca26"
            ],
            [
             1,
             "#f0f921"
            ]
           ]
          },
          "colorway": [
           "#636efa",
           "#EF553B",
           "#00cc96",
           "#ab63fa",
           "#FFA15A",
           "#19d3f3",
           "#FF6692",
           "#B6E880",
           "#FF97FF",
           "#FECB52"
          ],
          "font": {
           "color": "#2a3f5f"
          },
          "geo": {
           "bgcolor": "white",
           "lakecolor": "white",
           "landcolor": "#E5ECF6",
           "showlakes": true,
           "showland": true,
           "subunitcolor": "white"
          },
          "hoverlabel": {
           "align": "left"
          },
          "hovermode": "closest",
          "mapbox": {
           "style": "light"
          },
          "paper_bgcolor": "white",
          "plot_bgcolor": "#E5ECF6",
          "polar": {
           "angularaxis": {
            "gridcolor": "white",
            "linecolor": "white",
            "ticks": ""
           },
           "bgcolor": "#E5ECF6",
           "radialaxis": {
            "gridcolor": "white",
            "linecolor": "white",
            "ticks": ""
           }
          },
          "scene": {
           "xaxis": {
            "backgroundcolor": "#E5ECF6",
            "gridcolor": "white",
            "gridwidth": 2,
            "linecolor": "white",
            "showbackground": true,
            "ticks": "",
            "zerolinecolor": "white"
           },
           "yaxis": {
            "backgroundcolor": "#E5ECF6",
            "gridcolor": "white",
            "gridwidth": 2,
            "linecolor": "white",
            "showbackground": true,
            "ticks": "",
            "zerolinecolor": "white"
           },
           "zaxis": {
            "backgroundcolor": "#E5ECF6",
            "gridcolor": "white",
            "gridwidth": 2,
            "linecolor": "white",
            "showbackground": true,
            "ticks": "",
            "zerolinecolor": "white"
           }
          },
          "shapedefaults": {
           "line": {
            "color": "#2a3f5f"
           }
          },
          "ternary": {
           "aaxis": {
            "gridcolor": "white",
            "linecolor": "white",
            "ticks": ""
           },
           "baxis": {
            "gridcolor": "white",
            "linecolor": "white",
            "ticks": ""
           },
           "bgcolor": "#E5ECF6",
           "caxis": {
            "gridcolor": "white",
            "linecolor": "white",
            "ticks": ""
           }
          },
          "title": {
           "x": 0.05
          },
          "xaxis": {
           "automargin": true,
           "gridcolor": "white",
           "linecolor": "white",
           "ticks": "",
           "title": {
            "standoff": 15
           },
           "zerolinecolor": "white",
           "zerolinewidth": 2
          },
          "yaxis": {
           "automargin": true,
           "gridcolor": "white",
           "linecolor": "white",
           "ticks": "",
           "title": {
            "standoff": 15
           },
           "zerolinecolor": "white",
           "zerolinewidth": 2
          }
         }
        },
        "title": {
         "text": "Depression and Anxiety Over Time"
        },
        "xaxis": {
         "anchor": "y",
         "domain": [
          0,
          1
         ],
         "title": {
          "text": "year"
         }
        },
        "yaxis": {
         "anchor": "x",
         "domain": [
          0,
          1
         ],
         "title": {
          "text": "value"
         }
        }
       }
      },
      "text/html": [
       "<div>                            <div id=\"b1526633-229b-480b-b7f7-79ae600bfb23\" class=\"plotly-graph-div\" style=\"height:525px; width:100%;\"></div>            <script type=\"text/javascript\">                require([\"plotly\"], function(Plotly) {                    window.PLOTLYENV=window.PLOTLYENV || {};                                    if (document.getElementById(\"b1526633-229b-480b-b7f7-79ae600bfb23\")) {                    Plotly.newPlot(                        \"b1526633-229b-480b-b7f7-79ae600bfb23\",                        [{\"hovertemplate\":\"variable=Depression<br>year=%{x}<br>value=%{y}<extra></extra>\",\"legendgroup\":\"Depression\",\"line\":{\"color\":\"#636efa\",\"dash\":\"solid\"},\"marker\":{\"symbol\":\"circle\"},\"mode\":\"lines\",\"name\":\"Depression\",\"orientation\":\"v\",\"showlegend\":true,\"x\":[1990,1991,1992,1993,1994,1995,1996,1997,1998,1999,2000,2001,2002,2003,2004,2005,2006,2007,2008,2009,2010,2011,2012,2013,2014,2015,2016,2017,2018,2019],\"xaxis\":\"x\",\"y\":[4.07,4.2,4.32,4.44,4.55,4.65,4.73,4.79,4.84,4.88,4.9,4.91,4.91,4.91,4.91,4.91,4.92,4.93,4.93,4.93,4.93,4.91,4.87,4.83,4.78,4.75,4.74,4.74,4.73,4.73],\"yaxis\":\"y\",\"type\":\"scatter\"},{\"hovertemplate\":\"variable=Anxiety<br>year=%{x}<br>value=%{y}<extra></extra>\",\"legendgroup\":\"Anxiety\",\"line\":{\"color\":\"#EF553B\",\"dash\":\"solid\"},\"marker\":{\"symbol\":\"circle\"},\"mode\":\"lines\",\"name\":\"Anxiety\",\"orientation\":\"v\",\"showlegend\":true,\"x\":[1990,1991,1992,1993,1994,1995,1996,1997,1998,1999,2000,2001,2002,2003,2004,2005,2006,2007,2008,2009,2010,2011,2012,2013,2014,2015,2016,2017,2018,2019],\"xaxis\":\"x\",\"y\":[5.62,5.64,5.66,5.69,5.72,5.75,5.93,6.32,6.77,7.15,7.31,7.25,7.12,6.95,6.77,6.65,6.57,6.52,6.47,6.42,6.35,6.22,6.03,5.84,5.68,5.61,5.6,5.61,5.79,6.16],\"yaxis\":\"y\",\"type\":\"scatter\"}],                        {\"template\":{\"data\":{\"histogram2dcontour\":[{\"type\":\"histogram2dcontour\",\"colorbar\":{\"outlinewidth\":0,\"ticks\":\"\"},\"colorscale\":[[0.0,\"#0d0887\"],[0.1111111111111111,\"#46039f\"],[0.2222222222222222,\"#7201a8\"],[0.3333333333333333,\"#9c179e\"],[0.4444444444444444,\"#bd3786\"],[0.5555555555555556,\"#d8576b\"],[0.6666666666666666,\"#ed7953\"],[0.7777777777777778,\"#fb9f3a\"],[0.8888888888888888,\"#fdca26\"],[1.0,\"#f0f921\"]]}],\"choropleth\":[{\"type\":\"choropleth\",\"colorbar\":{\"outlinewidth\":0,\"ticks\":\"\"}}],\"histogram2d\":[{\"type\":\"histogram2d\",\"colorbar\":{\"outlinewidth\":0,\"ticks\":\"\"},\"colorscale\":[[0.0,\"#0d0887\"],[0.1111111111111111,\"#46039f\"],[0.2222222222222222,\"#7201a8\"],[0.3333333333333333,\"#9c179e\"],[0.4444444444444444,\"#bd3786\"],[0.5555555555555556,\"#d8576b\"],[0.6666666666666666,\"#ed7953\"],[0.7777777777777778,\"#fb9f3a\"],[0.8888888888888888,\"#fdca26\"],[1.0,\"#f0f921\"]]}],\"heatmap\":[{\"type\":\"heatmap\",\"colorbar\":{\"outlinewidth\":0,\"ticks\":\"\"},\"colorscale\":[[0.0,\"#0d0887\"],[0.1111111111111111,\"#46039f\"],[0.2222222222222222,\"#7201a8\"],[0.3333333333333333,\"#9c179e\"],[0.4444444444444444,\"#bd3786\"],[0.5555555555555556,\"#d8576b\"],[0.6666666666666666,\"#ed7953\"],[0.7777777777777778,\"#fb9f3a\"],[0.8888888888888888,\"#fdca26\"],[1.0,\"#f0f921\"]]}],\"heatmapgl\":[{\"type\":\"heatmapgl\",\"colorbar\":{\"outlinewidth\":0,\"ticks\":\"\"},\"colorscale\":[[0.0,\"#0d0887\"],[0.1111111111111111,\"#46039f\"],[0.2222222222222222,\"#7201a8\"],[0.3333333333333333,\"#9c179e\"],[0.4444444444444444,\"#bd3786\"],[0.5555555555555556,\"#d8576b\"],[0.6666666666666666,\"#ed7953\"],[0.7777777777777778,\"#fb9f3a\"],[0.8888888888888888,\"#fdca26\"],[1.0,\"#f0f921\"]]}],\"contourcarpet\":[{\"type\":\"contourcarpet\",\"colorbar\":{\"outlinewidth\":0,\"ticks\":\"\"}}],\"contour\":[{\"type\":\"contour\",\"colorbar\":{\"outlinewidth\":0,\"ticks\":\"\"},\"colorscale\":[[0.0,\"#0d0887\"],[0.1111111111111111,\"#46039f\"],[0.2222222222222222,\"#7201a8\"],[0.3333333333333333,\"#9c179e\"],[0.4444444444444444,\"#bd3786\"],[0.5555555555555556,\"#d8576b\"],[0.6666666666666666,\"#ed7953\"],[0.7777777777777778,\"#fb9f3a\"],[0.8888888888888888,\"#fdca26\"],[1.0,\"#f0f921\"]]}],\"surface\":[{\"type\":\"surface\",\"colorbar\":{\"outlinewidth\":0,\"ticks\":\"\"},\"colorscale\":[[0.0,\"#0d0887\"],[0.1111111111111111,\"#46039f\"],[0.2222222222222222,\"#7201a8\"],[0.3333333333333333,\"#9c179e\"],[0.4444444444444444,\"#bd3786\"],[0.5555555555555556,\"#d8576b\"],[0.6666666666666666,\"#ed7953\"],[0.7777777777777778,\"#fb9f3a\"],[0.8888888888888888,\"#fdca26\"],[1.0,\"#f0f921\"]]}],\"mesh3d\":[{\"type\":\"mesh3d\",\"colorbar\":{\"outlinewidth\":0,\"ticks\":\"\"}}],\"scatter\":[{\"fillpattern\":{\"fillmode\":\"overlay\",\"size\":10,\"solidity\":0.2},\"type\":\"scatter\"}],\"parcoords\":[{\"type\":\"parcoords\",\"line\":{\"colorbar\":{\"outlinewidth\":0,\"ticks\":\"\"}}}],\"scatterpolargl\":[{\"type\":\"scatterpolargl\",\"marker\":{\"colorbar\":{\"outlinewidth\":0,\"ticks\":\"\"}}}],\"bar\":[{\"error_x\":{\"color\":\"#2a3f5f\"},\"error_y\":{\"color\":\"#2a3f5f\"},\"marker\":{\"line\":{\"color\":\"#E5ECF6\",\"width\":0.5},\"pattern\":{\"fillmode\":\"overlay\",\"size\":10,\"solidity\":0.2}},\"type\":\"bar\"}],\"scattergeo\":[{\"type\":\"scattergeo\",\"marker\":{\"colorbar\":{\"outlinewidth\":0,\"ticks\":\"\"}}}],\"scatterpolar\":[{\"type\":\"scatterpolar\",\"marker\":{\"colorbar\":{\"outlinewidth\":0,\"ticks\":\"\"}}}],\"histogram\":[{\"marker\":{\"pattern\":{\"fillmode\":\"overlay\",\"size\":10,\"solidity\":0.2}},\"type\":\"histogram\"}],\"scattergl\":[{\"type\":\"scattergl\",\"marker\":{\"colorbar\":{\"outlinewidth\":0,\"ticks\":\"\"}}}],\"scatter3d\":[{\"type\":\"scatter3d\",\"line\":{\"colorbar\":{\"outlinewidth\":0,\"ticks\":\"\"}},\"marker\":{\"colorbar\":{\"outlinewidth\":0,\"ticks\":\"\"}}}],\"scattermapbox\":[{\"type\":\"scattermapbox\",\"marker\":{\"colorbar\":{\"outlinewidth\":0,\"ticks\":\"\"}}}],\"scatterternary\":[{\"type\":\"scatterternary\",\"marker\":{\"colorbar\":{\"outlinewidth\":0,\"ticks\":\"\"}}}],\"scattercarpet\":[{\"type\":\"scattercarpet\",\"marker\":{\"colorbar\":{\"outlinewidth\":0,\"ticks\":\"\"}}}],\"carpet\":[{\"aaxis\":{\"endlinecolor\":\"#2a3f5f\",\"gridcolor\":\"white\",\"linecolor\":\"white\",\"minorgridcolor\":\"white\",\"startlinecolor\":\"#2a3f5f\"},\"baxis\":{\"endlinecolor\":\"#2a3f5f\",\"gridcolor\":\"white\",\"linecolor\":\"white\",\"minorgridcolor\":\"white\",\"startlinecolor\":\"#2a3f5f\"},\"type\":\"carpet\"}],\"table\":[{\"cells\":{\"fill\":{\"color\":\"#EBF0F8\"},\"line\":{\"color\":\"white\"}},\"header\":{\"fill\":{\"color\":\"#C8D4E3\"},\"line\":{\"color\":\"white\"}},\"type\":\"table\"}],\"barpolar\":[{\"marker\":{\"line\":{\"color\":\"#E5ECF6\",\"width\":0.5},\"pattern\":{\"fillmode\":\"overlay\",\"size\":10,\"solidity\":0.2}},\"type\":\"barpolar\"}],\"pie\":[{\"automargin\":true,\"type\":\"pie\"}]},\"layout\":{\"autotypenumbers\":\"strict\",\"colorway\":[\"#636efa\",\"#EF553B\",\"#00cc96\",\"#ab63fa\",\"#FFA15A\",\"#19d3f3\",\"#FF6692\",\"#B6E880\",\"#FF97FF\",\"#FECB52\"],\"font\":{\"color\":\"#2a3f5f\"},\"hovermode\":\"closest\",\"hoverlabel\":{\"align\":\"left\"},\"paper_bgcolor\":\"white\",\"plot_bgcolor\":\"#E5ECF6\",\"polar\":{\"bgcolor\":\"#E5ECF6\",\"angularaxis\":{\"gridcolor\":\"white\",\"linecolor\":\"white\",\"ticks\":\"\"},\"radialaxis\":{\"gridcolor\":\"white\",\"linecolor\":\"white\",\"ticks\":\"\"}},\"ternary\":{\"bgcolor\":\"#E5ECF6\",\"aaxis\":{\"gridcolor\":\"white\",\"linecolor\":\"white\",\"ticks\":\"\"},\"baxis\":{\"gridcolor\":\"white\",\"linecolor\":\"white\",\"ticks\":\"\"},\"caxis\":{\"gridcolor\":\"white\",\"linecolor\":\"white\",\"ticks\":\"\"}},\"coloraxis\":{\"colorbar\":{\"outlinewidth\":0,\"ticks\":\"\"}},\"colorscale\":{\"sequential\":[[0.0,\"#0d0887\"],[0.1111111111111111,\"#46039f\"],[0.2222222222222222,\"#7201a8\"],[0.3333333333333333,\"#9c179e\"],[0.4444444444444444,\"#bd3786\"],[0.5555555555555556,\"#d8576b\"],[0.6666666666666666,\"#ed7953\"],[0.7777777777777778,\"#fb9f3a\"],[0.8888888888888888,\"#fdca26\"],[1.0,\"#f0f921\"]],\"sequentialminus\":[[0.0,\"#0d0887\"],[0.1111111111111111,\"#46039f\"],[0.2222222222222222,\"#7201a8\"],[0.3333333333333333,\"#9c179e\"],[0.4444444444444444,\"#bd3786\"],[0.5555555555555556,\"#d8576b\"],[0.6666666666666666,\"#ed7953\"],[0.7777777777777778,\"#fb9f3a\"],[0.8888888888888888,\"#fdca26\"],[1.0,\"#f0f921\"]],\"diverging\":[[0,\"#8e0152\"],[0.1,\"#c51b7d\"],[0.2,\"#de77ae\"],[0.3,\"#f1b6da\"],[0.4,\"#fde0ef\"],[0.5,\"#f7f7f7\"],[0.6,\"#e6f5d0\"],[0.7,\"#b8e186\"],[0.8,\"#7fbc41\"],[0.9,\"#4d9221\"],[1,\"#276419\"]]},\"xaxis\":{\"gridcolor\":\"white\",\"linecolor\":\"white\",\"ticks\":\"\",\"title\":{\"standoff\":15},\"zerolinecolor\":\"white\",\"automargin\":true,\"zerolinewidth\":2},\"yaxis\":{\"gridcolor\":\"white\",\"linecolor\":\"white\",\"ticks\":\"\",\"title\":{\"standoff\":15},\"zerolinecolor\":\"white\",\"automargin\":true,\"zerolinewidth\":2},\"scene\":{\"xaxis\":{\"backgroundcolor\":\"#E5ECF6\",\"gridcolor\":\"white\",\"linecolor\":\"white\",\"showbackground\":true,\"ticks\":\"\",\"zerolinecolor\":\"white\",\"gridwidth\":2},\"yaxis\":{\"backgroundcolor\":\"#E5ECF6\",\"gridcolor\":\"white\",\"linecolor\":\"white\",\"showbackground\":true,\"ticks\":\"\",\"zerolinecolor\":\"white\",\"gridwidth\":2},\"zaxis\":{\"backgroundcolor\":\"#E5ECF6\",\"gridcolor\":\"white\",\"linecolor\":\"white\",\"showbackground\":true,\"ticks\":\"\",\"zerolinecolor\":\"white\",\"gridwidth\":2}},\"shapedefaults\":{\"line\":{\"color\":\"#2a3f5f\"}},\"annotationdefaults\":{\"arrowcolor\":\"#2a3f5f\",\"arrowhead\":0,\"arrowwidth\":1},\"geo\":{\"bgcolor\":\"white\",\"landcolor\":\"#E5ECF6\",\"subunitcolor\":\"white\",\"showland\":true,\"showlakes\":true,\"lakecolor\":\"white\"},\"title\":{\"x\":0.05},\"mapbox\":{\"style\":\"light\"}}},\"xaxis\":{\"anchor\":\"y\",\"domain\":[0.0,1.0],\"title\":{\"text\":\"year\"}},\"yaxis\":{\"anchor\":\"x\",\"domain\":[0.0,1.0],\"title\":{\"text\":\"value\"}},\"legend\":{\"title\":{\"text\":\"variable\"},\"tracegroupgap\":0},\"title\":{\"text\":\"Depression and Anxiety Over Time\"}},                        {\"responsive\": true}                    ).then(function(){\n",
       "                            \n",
       "var gd = document.getElementById('b1526633-229b-480b-b7f7-79ae600bfb23');\n",
       "var x = new MutationObserver(function (mutations, observer) {{\n",
       "        var display = window.getComputedStyle(gd).display;\n",
       "        if (!display || display === 'none') {{\n",
       "            console.log([gd, 'removed!']);\n",
       "            Plotly.purge(gd);\n",
       "            observer.disconnect();\n",
       "        }}\n",
       "}});\n",
       "\n",
       "// Listen for the removal of the full notebook cells\n",
       "var notebookContainer = gd.closest('#notebook-container');\n",
       "if (notebookContainer) {{\n",
       "    x.observe(notebookContainer, {childList: true});\n",
       "}}\n",
       "\n",
       "// Listen for the clearing of the current output cell\n",
       "var outputEl = gd.closest('.output');\n",
       "if (outputEl) {{\n",
       "    x.observe(outputEl, {childList: true});\n",
       "}}\n",
       "\n",
       "                        })                };                });            </script>        </div>"
      ]
     },
     "metadata": {},
     "output_type": "display_data"
    }
   ],
   "source": [
    "px.line(mh_combined,x='year',y='value',color='variable',title='Depression and Anxiety Over Time')"
   ]
  },
  {
   "cell_type": "code",
   "execution_count": 56,
   "id": "76790f94",
   "metadata": {},
   "outputs": [],
   "source": [
    "mh_combined=mh_combined.rename(columns={'Year':'year'})"
   ]
  },
  {
   "cell_type": "code",
   "execution_count": 57,
   "id": "21f5d1fb",
   "metadata": {},
   "outputs": [
    {
     "data": {
      "text/html": [
       "<div>\n",
       "<style scoped>\n",
       "    .dataframe tbody tr th:only-of-type {\n",
       "        vertical-align: middle;\n",
       "    }\n",
       "\n",
       "    .dataframe tbody tr th {\n",
       "        vertical-align: top;\n",
       "    }\n",
       "\n",
       "    .dataframe thead th {\n",
       "        text-align: right;\n",
       "    }\n",
       "</style>\n",
       "<table border=\"1\" class=\"dataframe\">\n",
       "  <thead>\n",
       "    <tr style=\"text-align: right;\">\n",
       "      <th></th>\n",
       "      <th>Date</th>\n",
       "      <th>Cellphone</th>\n",
       "      <th>Smartphone</th>\n",
       "    </tr>\n",
       "  </thead>\n",
       "  <tbody>\n",
       "    <tr>\n",
       "      <th>24</th>\n",
       "      <td>2011</td>\n",
       "      <td>0.83</td>\n",
       "      <td>0.35</td>\n",
       "    </tr>\n",
       "    <tr>\n",
       "      <th>39</th>\n",
       "      <td>2012</td>\n",
       "      <td>0.87</td>\n",
       "      <td>0.45</td>\n",
       "    </tr>\n",
       "    <tr>\n",
       "      <th>47</th>\n",
       "      <td>2013</td>\n",
       "      <td>0.92</td>\n",
       "      <td>0.58</td>\n",
       "    </tr>\n",
       "    <tr>\n",
       "      <th>54</th>\n",
       "      <td>2014</td>\n",
       "      <td>0.89</td>\n",
       "      <td>0.59</td>\n",
       "    </tr>\n",
       "    <tr>\n",
       "      <th>57</th>\n",
       "      <td>2015</td>\n",
       "      <td>0.91</td>\n",
       "      <td>0.69</td>\n",
       "    </tr>\n",
       "  </tbody>\n",
       "</table>\n",
       "</div>"
      ],
      "text/plain": [
       "    Date  Cellphone  Smartphone\n",
       "24  2011       0.83        0.35\n",
       "39  2012       0.87        0.45\n",
       "47  2013       0.92        0.58\n",
       "54  2014       0.89        0.59\n",
       "57  2015       0.91        0.69"
      ]
     },
     "execution_count": 57,
     "metadata": {},
     "output_type": "execute_result"
    }
   ],
   "source": [
    "phone_use_df.head()"
   ]
  },
  {
   "cell_type": "code",
   "execution_count": 58,
   "id": "33e7fa03",
   "metadata": {},
   "outputs": [],
   "source": [
    "sm_copy_df=pd.read_csv('social_media_use_copy.csv')"
   ]
  },
  {
   "cell_type": "code",
   "execution_count": 59,
   "id": "bb16da42",
   "metadata": {},
   "outputs": [],
   "source": [
    "sm_tomerge=sm_copy_df.copy()"
   ]
  },
  {
   "cell_type": "code",
   "execution_count": 60,
   "id": "08483269",
   "metadata": {},
   "outputs": [
    {
     "data": {
      "text/html": [
       "<div>\n",
       "<style scoped>\n",
       "    .dataframe tbody tr th:only-of-type {\n",
       "        vertical-align: middle;\n",
       "    }\n",
       "\n",
       "    .dataframe tbody tr th {\n",
       "        vertical-align: top;\n",
       "    }\n",
       "\n",
       "    .dataframe thead th {\n",
       "        text-align: right;\n",
       "    }\n",
       "</style>\n",
       "<table border=\"1\" class=\"dataframe\">\n",
       "  <thead>\n",
       "    <tr style=\"text-align: right;\">\n",
       "      <th></th>\n",
       "      <th>year</th>\n",
       "      <th>value</th>\n",
       "    </tr>\n",
       "  </thead>\n",
       "  <tbody>\n",
       "    <tr>\n",
       "      <th>9</th>\n",
       "      <td>2015</td>\n",
       "      <td>65.00%</td>\n",
       "    </tr>\n",
       "    <tr>\n",
       "      <th>10</th>\n",
       "      <td>2016</td>\n",
       "      <td>69.00%</td>\n",
       "    </tr>\n",
       "    <tr>\n",
       "      <th>11</th>\n",
       "      <td>2018</td>\n",
       "      <td>69.00%</td>\n",
       "    </tr>\n",
       "    <tr>\n",
       "      <th>12</th>\n",
       "      <td>2019</td>\n",
       "      <td>72.00%</td>\n",
       "    </tr>\n",
       "    <tr>\n",
       "      <th>13</th>\n",
       "      <td>2021</td>\n",
       "      <td>72.00%</td>\n",
       "    </tr>\n",
       "  </tbody>\n",
       "</table>\n",
       "</div>"
      ],
      "text/plain": [
       "    year   value\n",
       "9   2015  65.00%\n",
       "10  2016  69.00%\n",
       "11  2018  69.00%\n",
       "12  2019  72.00%\n",
       "13  2021  72.00%"
      ]
     },
     "execution_count": 60,
     "metadata": {},
     "output_type": "execute_result"
    }
   ],
   "source": [
    "sm_copy_df.tail()"
   ]
  },
  {
   "cell_type": "code",
   "execution_count": 61,
   "id": "e2e62396",
   "metadata": {},
   "outputs": [
    {
     "data": {
      "application/vnd.plotly.v1+json": {
       "config": {
        "plotlyServerURL": "https://plot.ly"
       },
       "data": [
        {
         "hovertemplate": "year=%{x}<br>value=%{y}<extra></extra>",
         "legendgroup": "",
         "line": {
          "color": "#636efa",
          "dash": "solid"
         },
         "marker": {
          "symbol": "circle"
         },
         "mode": "lines",
         "name": "",
         "orientation": "h",
         "showlegend": false,
         "type": "scatter",
         "x": [
          2005,
          2006,
          2008,
          2009,
          2010,
          2011,
          2012,
          2013,
          2014,
          2015,
          2016,
          2018,
          2019,
          2021
         ],
         "xaxis": "x",
         "y": [
          "8.00%",
          "11.00%",
          "26.00%",
          "42.00%",
          "47.00%",
          "50.00%",
          "54.00%",
          "63.00%",
          "62.00%",
          "65.00%",
          "69.00%",
          "69.00%",
          "72.00%",
          "72.00%"
         ],
         "yaxis": "y"
        }
       ],
       "layout": {
        "legend": {
         "tracegroupgap": 0
        },
        "template": {
         "data": {
          "bar": [
           {
            "error_x": {
             "color": "#2a3f5f"
            },
            "error_y": {
             "color": "#2a3f5f"
            },
            "marker": {
             "line": {
              "color": "#E5ECF6",
              "width": 0.5
             },
             "pattern": {
              "fillmode": "overlay",
              "size": 10,
              "solidity": 0.2
             }
            },
            "type": "bar"
           }
          ],
          "barpolar": [
           {
            "marker": {
             "line": {
              "color": "#E5ECF6",
              "width": 0.5
             },
             "pattern": {
              "fillmode": "overlay",
              "size": 10,
              "solidity": 0.2
             }
            },
            "type": "barpolar"
           }
          ],
          "carpet": [
           {
            "aaxis": {
             "endlinecolor": "#2a3f5f",
             "gridcolor": "white",
             "linecolor": "white",
             "minorgridcolor": "white",
             "startlinecolor": "#2a3f5f"
            },
            "baxis": {
             "endlinecolor": "#2a3f5f",
             "gridcolor": "white",
             "linecolor": "white",
             "minorgridcolor": "white",
             "startlinecolor": "#2a3f5f"
            },
            "type": "carpet"
           }
          ],
          "choropleth": [
           {
            "colorbar": {
             "outlinewidth": 0,
             "ticks": ""
            },
            "type": "choropleth"
           }
          ],
          "contour": [
           {
            "colorbar": {
             "outlinewidth": 0,
             "ticks": ""
            },
            "colorscale": [
             [
              0,
              "#0d0887"
             ],
             [
              0.1111111111111111,
              "#46039f"
             ],
             [
              0.2222222222222222,
              "#7201a8"
             ],
             [
              0.3333333333333333,
              "#9c179e"
             ],
             [
              0.4444444444444444,
              "#bd3786"
             ],
             [
              0.5555555555555556,
              "#d8576b"
             ],
             [
              0.6666666666666666,
              "#ed7953"
             ],
             [
              0.7777777777777778,
              "#fb9f3a"
             ],
             [
              0.8888888888888888,
              "#fdca26"
             ],
             [
              1,
              "#f0f921"
             ]
            ],
            "type": "contour"
           }
          ],
          "contourcarpet": [
           {
            "colorbar": {
             "outlinewidth": 0,
             "ticks": ""
            },
            "type": "contourcarpet"
           }
          ],
          "heatmap": [
           {
            "colorbar": {
             "outlinewidth": 0,
             "ticks": ""
            },
            "colorscale": [
             [
              0,
              "#0d0887"
             ],
             [
              0.1111111111111111,
              "#46039f"
             ],
             [
              0.2222222222222222,
              "#7201a8"
             ],
             [
              0.3333333333333333,
              "#9c179e"
             ],
             [
              0.4444444444444444,
              "#bd3786"
             ],
             [
              0.5555555555555556,
              "#d8576b"
             ],
             [
              0.6666666666666666,
              "#ed7953"
             ],
             [
              0.7777777777777778,
              "#fb9f3a"
             ],
             [
              0.8888888888888888,
              "#fdca26"
             ],
             [
              1,
              "#f0f921"
             ]
            ],
            "type": "heatmap"
           }
          ],
          "heatmapgl": [
           {
            "colorbar": {
             "outlinewidth": 0,
             "ticks": ""
            },
            "colorscale": [
             [
              0,
              "#0d0887"
             ],
             [
              0.1111111111111111,
              "#46039f"
             ],
             [
              0.2222222222222222,
              "#7201a8"
             ],
             [
              0.3333333333333333,
              "#9c179e"
             ],
             [
              0.4444444444444444,
              "#bd3786"
             ],
             [
              0.5555555555555556,
              "#d8576b"
             ],
             [
              0.6666666666666666,
              "#ed7953"
             ],
             [
              0.7777777777777778,
              "#fb9f3a"
             ],
             [
              0.8888888888888888,
              "#fdca26"
             ],
             [
              1,
              "#f0f921"
             ]
            ],
            "type": "heatmapgl"
           }
          ],
          "histogram": [
           {
            "marker": {
             "pattern": {
              "fillmode": "overlay",
              "size": 10,
              "solidity": 0.2
             }
            },
            "type": "histogram"
           }
          ],
          "histogram2d": [
           {
            "colorbar": {
             "outlinewidth": 0,
             "ticks": ""
            },
            "colorscale": [
             [
              0,
              "#0d0887"
             ],
             [
              0.1111111111111111,
              "#46039f"
             ],
             [
              0.2222222222222222,
              "#7201a8"
             ],
             [
              0.3333333333333333,
              "#9c179e"
             ],
             [
              0.4444444444444444,
              "#bd3786"
             ],
             [
              0.5555555555555556,
              "#d8576b"
             ],
             [
              0.6666666666666666,
              "#ed7953"
             ],
             [
              0.7777777777777778,
              "#fb9f3a"
             ],
             [
              0.8888888888888888,
              "#fdca26"
             ],
             [
              1,
              "#f0f921"
             ]
            ],
            "type": "histogram2d"
           }
          ],
          "histogram2dcontour": [
           {
            "colorbar": {
             "outlinewidth": 0,
             "ticks": ""
            },
            "colorscale": [
             [
              0,
              "#0d0887"
             ],
             [
              0.1111111111111111,
              "#46039f"
             ],
             [
              0.2222222222222222,
              "#7201a8"
             ],
             [
              0.3333333333333333,
              "#9c179e"
             ],
             [
              0.4444444444444444,
              "#bd3786"
             ],
             [
              0.5555555555555556,
              "#d8576b"
             ],
             [
              0.6666666666666666,
              "#ed7953"
             ],
             [
              0.7777777777777778,
              "#fb9f3a"
             ],
             [
              0.8888888888888888,
              "#fdca26"
             ],
             [
              1,
              "#f0f921"
             ]
            ],
            "type": "histogram2dcontour"
           }
          ],
          "mesh3d": [
           {
            "colorbar": {
             "outlinewidth": 0,
             "ticks": ""
            },
            "type": "mesh3d"
           }
          ],
          "parcoords": [
           {
            "line": {
             "colorbar": {
              "outlinewidth": 0,
              "ticks": ""
             }
            },
            "type": "parcoords"
           }
          ],
          "pie": [
           {
            "automargin": true,
            "type": "pie"
           }
          ],
          "scatter": [
           {
            "fillpattern": {
             "fillmode": "overlay",
             "size": 10,
             "solidity": 0.2
            },
            "type": "scatter"
           }
          ],
          "scatter3d": [
           {
            "line": {
             "colorbar": {
              "outlinewidth": 0,
              "ticks": ""
             }
            },
            "marker": {
             "colorbar": {
              "outlinewidth": 0,
              "ticks": ""
             }
            },
            "type": "scatter3d"
           }
          ],
          "scattercarpet": [
           {
            "marker": {
             "colorbar": {
              "outlinewidth": 0,
              "ticks": ""
             }
            },
            "type": "scattercarpet"
           }
          ],
          "scattergeo": [
           {
            "marker": {
             "colorbar": {
              "outlinewidth": 0,
              "ticks": ""
             }
            },
            "type": "scattergeo"
           }
          ],
          "scattergl": [
           {
            "marker": {
             "colorbar": {
              "outlinewidth": 0,
              "ticks": ""
             }
            },
            "type": "scattergl"
           }
          ],
          "scattermapbox": [
           {
            "marker": {
             "colorbar": {
              "outlinewidth": 0,
              "ticks": ""
             }
            },
            "type": "scattermapbox"
           }
          ],
          "scatterpolar": [
           {
            "marker": {
             "colorbar": {
              "outlinewidth": 0,
              "ticks": ""
             }
            },
            "type": "scatterpolar"
           }
          ],
          "scatterpolargl": [
           {
            "marker": {
             "colorbar": {
              "outlinewidth": 0,
              "ticks": ""
             }
            },
            "type": "scatterpolargl"
           }
          ],
          "scatterternary": [
           {
            "marker": {
             "colorbar": {
              "outlinewidth": 0,
              "ticks": ""
             }
            },
            "type": "scatterternary"
           }
          ],
          "surface": [
           {
            "colorbar": {
             "outlinewidth": 0,
             "ticks": ""
            },
            "colorscale": [
             [
              0,
              "#0d0887"
             ],
             [
              0.1111111111111111,
              "#46039f"
             ],
             [
              0.2222222222222222,
              "#7201a8"
             ],
             [
              0.3333333333333333,
              "#9c179e"
             ],
             [
              0.4444444444444444,
              "#bd3786"
             ],
             [
              0.5555555555555556,
              "#d8576b"
             ],
             [
              0.6666666666666666,
              "#ed7953"
             ],
             [
              0.7777777777777778,
              "#fb9f3a"
             ],
             [
              0.8888888888888888,
              "#fdca26"
             ],
             [
              1,
              "#f0f921"
             ]
            ],
            "type": "surface"
           }
          ],
          "table": [
           {
            "cells": {
             "fill": {
              "color": "#EBF0F8"
             },
             "line": {
              "color": "white"
             }
            },
            "header": {
             "fill": {
              "color": "#C8D4E3"
             },
             "line": {
              "color": "white"
             }
            },
            "type": "table"
           }
          ]
         },
         "layout": {
          "annotationdefaults": {
           "arrowcolor": "#2a3f5f",
           "arrowhead": 0,
           "arrowwidth": 1
          },
          "autotypenumbers": "strict",
          "coloraxis": {
           "colorbar": {
            "outlinewidth": 0,
            "ticks": ""
           }
          },
          "colorscale": {
           "diverging": [
            [
             0,
             "#8e0152"
            ],
            [
             0.1,
             "#c51b7d"
            ],
            [
             0.2,
             "#de77ae"
            ],
            [
             0.3,
             "#f1b6da"
            ],
            [
             0.4,
             "#fde0ef"
            ],
            [
             0.5,
             "#f7f7f7"
            ],
            [
             0.6,
             "#e6f5d0"
            ],
            [
             0.7,
             "#b8e186"
            ],
            [
             0.8,
             "#7fbc41"
            ],
            [
             0.9,
             "#4d9221"
            ],
            [
             1,
             "#276419"
            ]
           ],
           "sequential": [
            [
             0,
             "#0d0887"
            ],
            [
             0.1111111111111111,
             "#46039f"
            ],
            [
             0.2222222222222222,
             "#7201a8"
            ],
            [
             0.3333333333333333,
             "#9c179e"
            ],
            [
             0.4444444444444444,
             "#bd3786"
            ],
            [
             0.5555555555555556,
             "#d8576b"
            ],
            [
             0.6666666666666666,
             "#ed7953"
            ],
            [
             0.7777777777777778,
             "#fb9f3a"
            ],
            [
             0.8888888888888888,
             "#fdca26"
            ],
            [
             1,
             "#f0f921"
            ]
           ],
           "sequentialminus": [
            [
             0,
             "#0d0887"
            ],
            [
             0.1111111111111111,
             "#46039f"
            ],
            [
             0.2222222222222222,
             "#7201a8"
            ],
            [
             0.3333333333333333,
             "#9c179e"
            ],
            [
             0.4444444444444444,
             "#bd3786"
            ],
            [
             0.5555555555555556,
             "#d8576b"
            ],
            [
             0.6666666666666666,
             "#ed7953"
            ],
            [
             0.7777777777777778,
             "#fb9f3a"
            ],
            [
             0.8888888888888888,
             "#fdca26"
            ],
            [
             1,
             "#f0f921"
            ]
           ]
          },
          "colorway": [
           "#636efa",
           "#EF553B",
           "#00cc96",
           "#ab63fa",
           "#FFA15A",
           "#19d3f3",
           "#FF6692",
           "#B6E880",
           "#FF97FF",
           "#FECB52"
          ],
          "font": {
           "color": "#2a3f5f"
          },
          "geo": {
           "bgcolor": "white",
           "lakecolor": "white",
           "landcolor": "#E5ECF6",
           "showlakes": true,
           "showland": true,
           "subunitcolor": "white"
          },
          "hoverlabel": {
           "align": "left"
          },
          "hovermode": "closest",
          "mapbox": {
           "style": "light"
          },
          "paper_bgcolor": "white",
          "plot_bgcolor": "#E5ECF6",
          "polar": {
           "angularaxis": {
            "gridcolor": "white",
            "linecolor": "white",
            "ticks": ""
           },
           "bgcolor": "#E5ECF6",
           "radialaxis": {
            "gridcolor": "white",
            "linecolor": "white",
            "ticks": ""
           }
          },
          "scene": {
           "xaxis": {
            "backgroundcolor": "#E5ECF6",
            "gridcolor": "white",
            "gridwidth": 2,
            "linecolor": "white",
            "showbackground": true,
            "ticks": "",
            "zerolinecolor": "white"
           },
           "yaxis": {
            "backgroundcolor": "#E5ECF6",
            "gridcolor": "white",
            "gridwidth": 2,
            "linecolor": "white",
            "showbackground": true,
            "ticks": "",
            "zerolinecolor": "white"
           },
           "zaxis": {
            "backgroundcolor": "#E5ECF6",
            "gridcolor": "white",
            "gridwidth": 2,
            "linecolor": "white",
            "showbackground": true,
            "ticks": "",
            "zerolinecolor": "white"
           }
          },
          "shapedefaults": {
           "line": {
            "color": "#2a3f5f"
           }
          },
          "ternary": {
           "aaxis": {
            "gridcolor": "white",
            "linecolor": "white",
            "ticks": ""
           },
           "baxis": {
            "gridcolor": "white",
            "linecolor": "white",
            "ticks": ""
           },
           "bgcolor": "#E5ECF6",
           "caxis": {
            "gridcolor": "white",
            "linecolor": "white",
            "ticks": ""
           }
          },
          "title": {
           "x": 0.05
          },
          "xaxis": {
           "automargin": true,
           "gridcolor": "white",
           "linecolor": "white",
           "ticks": "",
           "title": {
            "standoff": 15
           },
           "zerolinecolor": "white",
           "zerolinewidth": 2
          },
          "yaxis": {
           "automargin": true,
           "gridcolor": "white",
           "linecolor": "white",
           "ticks": "",
           "title": {
            "standoff": 15
           },
           "zerolinecolor": "white",
           "zerolinewidth": 2
          }
         }
        },
        "title": {
         "text": "Social Media Use Over Time"
        },
        "xaxis": {
         "anchor": "y",
         "domain": [
          0,
          1
         ],
         "title": {
          "text": "year"
         }
        },
        "yaxis": {
         "anchor": "x",
         "domain": [
          0,
          1
         ],
         "title": {
          "text": "value"
         }
        }
       }
      },
      "text/html": [
       "<div>                            <div id=\"68af31b3-bce3-4e5b-9195-9ba0e4290346\" class=\"plotly-graph-div\" style=\"height:525px; width:100%;\"></div>            <script type=\"text/javascript\">                require([\"plotly\"], function(Plotly) {                    window.PLOTLYENV=window.PLOTLYENV || {};                                    if (document.getElementById(\"68af31b3-bce3-4e5b-9195-9ba0e4290346\")) {                    Plotly.newPlot(                        \"68af31b3-bce3-4e5b-9195-9ba0e4290346\",                        [{\"hovertemplate\":\"year=%{x}<br>value=%{y}<extra></extra>\",\"legendgroup\":\"\",\"line\":{\"color\":\"#636efa\",\"dash\":\"solid\"},\"marker\":{\"symbol\":\"circle\"},\"mode\":\"lines\",\"name\":\"\",\"orientation\":\"h\",\"showlegend\":false,\"x\":[2005,2006,2008,2009,2010,2011,2012,2013,2014,2015,2016,2018,2019,2021],\"xaxis\":\"x\",\"y\":[\"8.00%\",\"11.00%\",\"26.00%\",\"42.00%\",\"47.00%\",\"50.00%\",\"54.00%\",\"63.00%\",\"62.00%\",\"65.00%\",\"69.00%\",\"69.00%\",\"72.00%\",\"72.00%\"],\"yaxis\":\"y\",\"type\":\"scatter\"}],                        {\"template\":{\"data\":{\"histogram2dcontour\":[{\"type\":\"histogram2dcontour\",\"colorbar\":{\"outlinewidth\":0,\"ticks\":\"\"},\"colorscale\":[[0.0,\"#0d0887\"],[0.1111111111111111,\"#46039f\"],[0.2222222222222222,\"#7201a8\"],[0.3333333333333333,\"#9c179e\"],[0.4444444444444444,\"#bd3786\"],[0.5555555555555556,\"#d8576b\"],[0.6666666666666666,\"#ed7953\"],[0.7777777777777778,\"#fb9f3a\"],[0.8888888888888888,\"#fdca26\"],[1.0,\"#f0f921\"]]}],\"choropleth\":[{\"type\":\"choropleth\",\"colorbar\":{\"outlinewidth\":0,\"ticks\":\"\"}}],\"histogram2d\":[{\"type\":\"histogram2d\",\"colorbar\":{\"outlinewidth\":0,\"ticks\":\"\"},\"colorscale\":[[0.0,\"#0d0887\"],[0.1111111111111111,\"#46039f\"],[0.2222222222222222,\"#7201a8\"],[0.3333333333333333,\"#9c179e\"],[0.4444444444444444,\"#bd3786\"],[0.5555555555555556,\"#d8576b\"],[0.6666666666666666,\"#ed7953\"],[0.7777777777777778,\"#fb9f3a\"],[0.8888888888888888,\"#fdca26\"],[1.0,\"#f0f921\"]]}],\"heatmap\":[{\"type\":\"heatmap\",\"colorbar\":{\"outlinewidth\":0,\"ticks\":\"\"},\"colorscale\":[[0.0,\"#0d0887\"],[0.1111111111111111,\"#46039f\"],[0.2222222222222222,\"#7201a8\"],[0.3333333333333333,\"#9c179e\"],[0.4444444444444444,\"#bd3786\"],[0.5555555555555556,\"#d8576b\"],[0.6666666666666666,\"#ed7953\"],[0.7777777777777778,\"#fb9f3a\"],[0.8888888888888888,\"#fdca26\"],[1.0,\"#f0f921\"]]}],\"heatmapgl\":[{\"type\":\"heatmapgl\",\"colorbar\":{\"outlinewidth\":0,\"ticks\":\"\"},\"colorscale\":[[0.0,\"#0d0887\"],[0.1111111111111111,\"#46039f\"],[0.2222222222222222,\"#7201a8\"],[0.3333333333333333,\"#9c179e\"],[0.4444444444444444,\"#bd3786\"],[0.5555555555555556,\"#d8576b\"],[0.6666666666666666,\"#ed7953\"],[0.7777777777777778,\"#fb9f3a\"],[0.8888888888888888,\"#fdca26\"],[1.0,\"#f0f921\"]]}],\"contourcarpet\":[{\"type\":\"contourcarpet\",\"colorbar\":{\"outlinewidth\":0,\"ticks\":\"\"}}],\"contour\":[{\"type\":\"contour\",\"colorbar\":{\"outlinewidth\":0,\"ticks\":\"\"},\"colorscale\":[[0.0,\"#0d0887\"],[0.1111111111111111,\"#46039f\"],[0.2222222222222222,\"#7201a8\"],[0.3333333333333333,\"#9c179e\"],[0.4444444444444444,\"#bd3786\"],[0.5555555555555556,\"#d8576b\"],[0.6666666666666666,\"#ed7953\"],[0.7777777777777778,\"#fb9f3a\"],[0.8888888888888888,\"#fdca26\"],[1.0,\"#f0f921\"]]}],\"surface\":[{\"type\":\"surface\",\"colorbar\":{\"outlinewidth\":0,\"ticks\":\"\"},\"colorscale\":[[0.0,\"#0d0887\"],[0.1111111111111111,\"#46039f\"],[0.2222222222222222,\"#7201a8\"],[0.3333333333333333,\"#9c179e\"],[0.4444444444444444,\"#bd3786\"],[0.5555555555555556,\"#d8576b\"],[0.6666666666666666,\"#ed7953\"],[0.7777777777777778,\"#fb9f3a\"],[0.8888888888888888,\"#fdca26\"],[1.0,\"#f0f921\"]]}],\"mesh3d\":[{\"type\":\"mesh3d\",\"colorbar\":{\"outlinewidth\":0,\"ticks\":\"\"}}],\"scatter\":[{\"fillpattern\":{\"fillmode\":\"overlay\",\"size\":10,\"solidity\":0.2},\"type\":\"scatter\"}],\"parcoords\":[{\"type\":\"parcoords\",\"line\":{\"colorbar\":{\"outlinewidth\":0,\"ticks\":\"\"}}}],\"scatterpolargl\":[{\"type\":\"scatterpolargl\",\"marker\":{\"colorbar\":{\"outlinewidth\":0,\"ticks\":\"\"}}}],\"bar\":[{\"error_x\":{\"color\":\"#2a3f5f\"},\"error_y\":{\"color\":\"#2a3f5f\"},\"marker\":{\"line\":{\"color\":\"#E5ECF6\",\"width\":0.5},\"pattern\":{\"fillmode\":\"overlay\",\"size\":10,\"solidity\":0.2}},\"type\":\"bar\"}],\"scattergeo\":[{\"type\":\"scattergeo\",\"marker\":{\"colorbar\":{\"outlinewidth\":0,\"ticks\":\"\"}}}],\"scatterpolar\":[{\"type\":\"scatterpolar\",\"marker\":{\"colorbar\":{\"outlinewidth\":0,\"ticks\":\"\"}}}],\"histogram\":[{\"marker\":{\"pattern\":{\"fillmode\":\"overlay\",\"size\":10,\"solidity\":0.2}},\"type\":\"histogram\"}],\"scattergl\":[{\"type\":\"scattergl\",\"marker\":{\"colorbar\":{\"outlinewidth\":0,\"ticks\":\"\"}}}],\"scatter3d\":[{\"type\":\"scatter3d\",\"line\":{\"colorbar\":{\"outlinewidth\":0,\"ticks\":\"\"}},\"marker\":{\"colorbar\":{\"outlinewidth\":0,\"ticks\":\"\"}}}],\"scattermapbox\":[{\"type\":\"scattermapbox\",\"marker\":{\"colorbar\":{\"outlinewidth\":0,\"ticks\":\"\"}}}],\"scatterternary\":[{\"type\":\"scatterternary\",\"marker\":{\"colorbar\":{\"outlinewidth\":0,\"ticks\":\"\"}}}],\"scattercarpet\":[{\"type\":\"scattercarpet\",\"marker\":{\"colorbar\":{\"outlinewidth\":0,\"ticks\":\"\"}}}],\"carpet\":[{\"aaxis\":{\"endlinecolor\":\"#2a3f5f\",\"gridcolor\":\"white\",\"linecolor\":\"white\",\"minorgridcolor\":\"white\",\"startlinecolor\":\"#2a3f5f\"},\"baxis\":{\"endlinecolor\":\"#2a3f5f\",\"gridcolor\":\"white\",\"linecolor\":\"white\",\"minorgridcolor\":\"white\",\"startlinecolor\":\"#2a3f5f\"},\"type\":\"carpet\"}],\"table\":[{\"cells\":{\"fill\":{\"color\":\"#EBF0F8\"},\"line\":{\"color\":\"white\"}},\"header\":{\"fill\":{\"color\":\"#C8D4E3\"},\"line\":{\"color\":\"white\"}},\"type\":\"table\"}],\"barpolar\":[{\"marker\":{\"line\":{\"color\":\"#E5ECF6\",\"width\":0.5},\"pattern\":{\"fillmode\":\"overlay\",\"size\":10,\"solidity\":0.2}},\"type\":\"barpolar\"}],\"pie\":[{\"automargin\":true,\"type\":\"pie\"}]},\"layout\":{\"autotypenumbers\":\"strict\",\"colorway\":[\"#636efa\",\"#EF553B\",\"#00cc96\",\"#ab63fa\",\"#FFA15A\",\"#19d3f3\",\"#FF6692\",\"#B6E880\",\"#FF97FF\",\"#FECB52\"],\"font\":{\"color\":\"#2a3f5f\"},\"hovermode\":\"closest\",\"hoverlabel\":{\"align\":\"left\"},\"paper_bgcolor\":\"white\",\"plot_bgcolor\":\"#E5ECF6\",\"polar\":{\"bgcolor\":\"#E5ECF6\",\"angularaxis\":{\"gridcolor\":\"white\",\"linecolor\":\"white\",\"ticks\":\"\"},\"radialaxis\":{\"gridcolor\":\"white\",\"linecolor\":\"white\",\"ticks\":\"\"}},\"ternary\":{\"bgcolor\":\"#E5ECF6\",\"aaxis\":{\"gridcolor\":\"white\",\"linecolor\":\"white\",\"ticks\":\"\"},\"baxis\":{\"gridcolor\":\"white\",\"linecolor\":\"white\",\"ticks\":\"\"},\"caxis\":{\"gridcolor\":\"white\",\"linecolor\":\"white\",\"ticks\":\"\"}},\"coloraxis\":{\"colorbar\":{\"outlinewidth\":0,\"ticks\":\"\"}},\"colorscale\":{\"sequential\":[[0.0,\"#0d0887\"],[0.1111111111111111,\"#46039f\"],[0.2222222222222222,\"#7201a8\"],[0.3333333333333333,\"#9c179e\"],[0.4444444444444444,\"#bd3786\"],[0.5555555555555556,\"#d8576b\"],[0.6666666666666666,\"#ed7953\"],[0.7777777777777778,\"#fb9f3a\"],[0.8888888888888888,\"#fdca26\"],[1.0,\"#f0f921\"]],\"sequentialminus\":[[0.0,\"#0d0887\"],[0.1111111111111111,\"#46039f\"],[0.2222222222222222,\"#7201a8\"],[0.3333333333333333,\"#9c179e\"],[0.4444444444444444,\"#bd3786\"],[0.5555555555555556,\"#d8576b\"],[0.6666666666666666,\"#ed7953\"],[0.7777777777777778,\"#fb9f3a\"],[0.8888888888888888,\"#fdca26\"],[1.0,\"#f0f921\"]],\"diverging\":[[0,\"#8e0152\"],[0.1,\"#c51b7d\"],[0.2,\"#de77ae\"],[0.3,\"#f1b6da\"],[0.4,\"#fde0ef\"],[0.5,\"#f7f7f7\"],[0.6,\"#e6f5d0\"],[0.7,\"#b8e186\"],[0.8,\"#7fbc41\"],[0.9,\"#4d9221\"],[1,\"#276419\"]]},\"xaxis\":{\"gridcolor\":\"white\",\"linecolor\":\"white\",\"ticks\":\"\",\"title\":{\"standoff\":15},\"zerolinecolor\":\"white\",\"automargin\":true,\"zerolinewidth\":2},\"yaxis\":{\"gridcolor\":\"white\",\"linecolor\":\"white\",\"ticks\":\"\",\"title\":{\"standoff\":15},\"zerolinecolor\":\"white\",\"automargin\":true,\"zerolinewidth\":2},\"scene\":{\"xaxis\":{\"backgroundcolor\":\"#E5ECF6\",\"gridcolor\":\"white\",\"linecolor\":\"white\",\"showbackground\":true,\"ticks\":\"\",\"zerolinecolor\":\"white\",\"gridwidth\":2},\"yaxis\":{\"backgroundcolor\":\"#E5ECF6\",\"gridcolor\":\"white\",\"linecolor\":\"white\",\"showbackground\":true,\"ticks\":\"\",\"zerolinecolor\":\"white\",\"gridwidth\":2},\"zaxis\":{\"backgroundcolor\":\"#E5ECF6\",\"gridcolor\":\"white\",\"linecolor\":\"white\",\"showbackground\":true,\"ticks\":\"\",\"zerolinecolor\":\"white\",\"gridwidth\":2}},\"shapedefaults\":{\"line\":{\"color\":\"#2a3f5f\"}},\"annotationdefaults\":{\"arrowcolor\":\"#2a3f5f\",\"arrowhead\":0,\"arrowwidth\":1},\"geo\":{\"bgcolor\":\"white\",\"landcolor\":\"#E5ECF6\",\"subunitcolor\":\"white\",\"showland\":true,\"showlakes\":true,\"lakecolor\":\"white\"},\"title\":{\"x\":0.05},\"mapbox\":{\"style\":\"light\"}}},\"xaxis\":{\"anchor\":\"y\",\"domain\":[0.0,1.0],\"title\":{\"text\":\"year\"}},\"yaxis\":{\"anchor\":\"x\",\"domain\":[0.0,1.0],\"title\":{\"text\":\"value\"}},\"legend\":{\"tracegroupgap\":0},\"title\":{\"text\":\"Social Media Use Over Time\"}},                        {\"responsive\": true}                    ).then(function(){\n",
       "                            \n",
       "var gd = document.getElementById('68af31b3-bce3-4e5b-9195-9ba0e4290346');\n",
       "var x = new MutationObserver(function (mutations, observer) {{\n",
       "        var display = window.getComputedStyle(gd).display;\n",
       "        if (!display || display === 'none') {{\n",
       "            console.log([gd, 'removed!']);\n",
       "            Plotly.purge(gd);\n",
       "            observer.disconnect();\n",
       "        }}\n",
       "}});\n",
       "\n",
       "// Listen for the removal of the full notebook cells\n",
       "var notebookContainer = gd.closest('#notebook-container');\n",
       "if (notebookContainer) {{\n",
       "    x.observe(notebookContainer, {childList: true});\n",
       "}}\n",
       "\n",
       "// Listen for the clearing of the current output cell\n",
       "var outputEl = gd.closest('.output');\n",
       "if (outputEl) {{\n",
       "    x.observe(outputEl, {childList: true});\n",
       "}}\n",
       "\n",
       "                        })                };                });            </script>        </div>"
      ]
     },
     "metadata": {},
     "output_type": "display_data"
    }
   ],
   "source": [
    "px.line(sm_copy_df, x='year', y='value', title='Social Media Use Over Time')"
   ]
  },
  {
   "cell_type": "code",
   "execution_count": 62,
   "id": "85a71235",
   "metadata": {},
   "outputs": [],
   "source": [
    "sm_combined=sm_copy_df.copy()"
   ]
  },
  {
   "cell_type": "code",
   "execution_count": 63,
   "id": "d04b9cc9",
   "metadata": {},
   "outputs": [],
   "source": [
    "sm_combined.insert(1,'variable', 'Percent of Social Media Use')"
   ]
  },
  {
   "cell_type": "code",
   "execution_count": 64,
   "id": "08e77cd8",
   "metadata": {},
   "outputs": [
    {
     "data": {
      "text/html": [
       "<div>\n",
       "<style scoped>\n",
       "    .dataframe tbody tr th:only-of-type {\n",
       "        vertical-align: middle;\n",
       "    }\n",
       "\n",
       "    .dataframe tbody tr th {\n",
       "        vertical-align: top;\n",
       "    }\n",
       "\n",
       "    .dataframe thead th {\n",
       "        text-align: right;\n",
       "    }\n",
       "</style>\n",
       "<table border=\"1\" class=\"dataframe\">\n",
       "  <thead>\n",
       "    <tr style=\"text-align: right;\">\n",
       "      <th></th>\n",
       "      <th>year</th>\n",
       "      <th>variable</th>\n",
       "      <th>value</th>\n",
       "    </tr>\n",
       "  </thead>\n",
       "  <tbody>\n",
       "    <tr>\n",
       "      <th>9</th>\n",
       "      <td>2015</td>\n",
       "      <td>Percent of Social Media Use</td>\n",
       "      <td>65.00%</td>\n",
       "    </tr>\n",
       "    <tr>\n",
       "      <th>10</th>\n",
       "      <td>2016</td>\n",
       "      <td>Percent of Social Media Use</td>\n",
       "      <td>69.00%</td>\n",
       "    </tr>\n",
       "    <tr>\n",
       "      <th>11</th>\n",
       "      <td>2018</td>\n",
       "      <td>Percent of Social Media Use</td>\n",
       "      <td>69.00%</td>\n",
       "    </tr>\n",
       "    <tr>\n",
       "      <th>12</th>\n",
       "      <td>2019</td>\n",
       "      <td>Percent of Social Media Use</td>\n",
       "      <td>72.00%</td>\n",
       "    </tr>\n",
       "    <tr>\n",
       "      <th>13</th>\n",
       "      <td>2021</td>\n",
       "      <td>Percent of Social Media Use</td>\n",
       "      <td>72.00%</td>\n",
       "    </tr>\n",
       "  </tbody>\n",
       "</table>\n",
       "</div>"
      ],
      "text/plain": [
       "    year                     variable   value\n",
       "9   2015  Percent of Social Media Use  65.00%\n",
       "10  2016  Percent of Social Media Use  69.00%\n",
       "11  2018  Percent of Social Media Use  69.00%\n",
       "12  2019  Percent of Social Media Use  72.00%\n",
       "13  2021  Percent of Social Media Use  72.00%"
      ]
     },
     "execution_count": 64,
     "metadata": {},
     "output_type": "execute_result"
    }
   ],
   "source": [
    "sm_combined.tail()"
   ]
  },
  {
   "cell_type": "code",
   "execution_count": 65,
   "id": "790fa474",
   "metadata": {},
   "outputs": [
    {
     "name": "stderr",
     "output_type": "stream",
     "text": [
      "C:\\Users\\cmwill\\anaconda3\\envs\\cap2\\lib\\site-packages\\ipykernel_launcher.py:1: FutureWarning:\n",
      "\n",
      "The default value of regex will change from True to False in a future version.\n",
      "\n"
     ]
    }
   ],
   "source": [
    "sm_combined.value=sm_combined['value'].str.replace('.00%','')"
   ]
  },
  {
   "cell_type": "code",
   "execution_count": 66,
   "id": "141e6aa5",
   "metadata": {},
   "outputs": [],
   "source": [
    "sm_combined.value=sm_combined.value.astype(int)"
   ]
  },
  {
   "cell_type": "code",
   "execution_count": 67,
   "id": "c116d6d3",
   "metadata": {},
   "outputs": [
    {
     "data": {
      "text/html": [
       "<div>\n",
       "<style scoped>\n",
       "    .dataframe tbody tr th:only-of-type {\n",
       "        vertical-align: middle;\n",
       "    }\n",
       "\n",
       "    .dataframe tbody tr th {\n",
       "        vertical-align: top;\n",
       "    }\n",
       "\n",
       "    .dataframe thead th {\n",
       "        text-align: right;\n",
       "    }\n",
       "</style>\n",
       "<table border=\"1\" class=\"dataframe\">\n",
       "  <thead>\n",
       "    <tr style=\"text-align: right;\">\n",
       "      <th></th>\n",
       "      <th>year</th>\n",
       "      <th>variable</th>\n",
       "      <th>value</th>\n",
       "    </tr>\n",
       "  </thead>\n",
       "  <tbody>\n",
       "    <tr>\n",
       "      <th>0</th>\n",
       "      <td>2005</td>\n",
       "      <td>Percent of Social Media Use</td>\n",
       "      <td>8</td>\n",
       "    </tr>\n",
       "    <tr>\n",
       "      <th>1</th>\n",
       "      <td>2006</td>\n",
       "      <td>Percent of Social Media Use</td>\n",
       "      <td>11</td>\n",
       "    </tr>\n",
       "    <tr>\n",
       "      <th>2</th>\n",
       "      <td>2008</td>\n",
       "      <td>Percent of Social Media Use</td>\n",
       "      <td>26</td>\n",
       "    </tr>\n",
       "    <tr>\n",
       "      <th>3</th>\n",
       "      <td>2009</td>\n",
       "      <td>Percent of Social Media Use</td>\n",
       "      <td>42</td>\n",
       "    </tr>\n",
       "    <tr>\n",
       "      <th>4</th>\n",
       "      <td>2010</td>\n",
       "      <td>Percent of Social Media Use</td>\n",
       "      <td>47</td>\n",
       "    </tr>\n",
       "  </tbody>\n",
       "</table>\n",
       "</div>"
      ],
      "text/plain": [
       "   year                     variable  value\n",
       "0  2005  Percent of Social Media Use      8\n",
       "1  2006  Percent of Social Media Use     11\n",
       "2  2008  Percent of Social Media Use     26\n",
       "3  2009  Percent of Social Media Use     42\n",
       "4  2010  Percent of Social Media Use     47"
      ]
     },
     "execution_count": 67,
     "metadata": {},
     "output_type": "execute_result"
    }
   ],
   "source": [
    "sm_combined.head()"
   ]
  },
  {
   "cell_type": "code",
   "execution_count": 68,
   "id": "ed01c4cd",
   "metadata": {},
   "outputs": [
    {
     "data": {
      "application/vnd.plotly.v1+json": {
       "config": {
        "plotlyServerURL": "https://plot.ly"
       },
       "data": [
        {
         "hovertemplate": "variable=Percent of Social Media Use<br>year=%{x}<br>value=%{y}<extra></extra>",
         "legendgroup": "Percent of Social Media Use",
         "line": {
          "color": "#636efa",
          "dash": "solid"
         },
         "marker": {
          "symbol": "circle"
         },
         "mode": "lines",
         "name": "Percent of Social Media Use",
         "orientation": "v",
         "showlegend": true,
         "type": "scatter",
         "x": [
          2005,
          2006,
          2008,
          2009,
          2010,
          2011,
          2012,
          2013,
          2014,
          2015,
          2016,
          2018,
          2019,
          2021
         ],
         "xaxis": "x",
         "y": [
          8,
          11,
          26,
          42,
          47,
          50,
          54,
          63,
          62,
          65,
          69,
          69,
          72,
          72
         ],
         "yaxis": "y"
        }
       ],
       "layout": {
        "legend": {
         "title": {
          "text": "variable"
         },
         "tracegroupgap": 0
        },
        "margin": {
         "t": 60
        },
        "template": {
         "data": {
          "bar": [
           {
            "error_x": {
             "color": "#2a3f5f"
            },
            "error_y": {
             "color": "#2a3f5f"
            },
            "marker": {
             "line": {
              "color": "#E5ECF6",
              "width": 0.5
             },
             "pattern": {
              "fillmode": "overlay",
              "size": 10,
              "solidity": 0.2
             }
            },
            "type": "bar"
           }
          ],
          "barpolar": [
           {
            "marker": {
             "line": {
              "color": "#E5ECF6",
              "width": 0.5
             },
             "pattern": {
              "fillmode": "overlay",
              "size": 10,
              "solidity": 0.2
             }
            },
            "type": "barpolar"
           }
          ],
          "carpet": [
           {
            "aaxis": {
             "endlinecolor": "#2a3f5f",
             "gridcolor": "white",
             "linecolor": "white",
             "minorgridcolor": "white",
             "startlinecolor": "#2a3f5f"
            },
            "baxis": {
             "endlinecolor": "#2a3f5f",
             "gridcolor": "white",
             "linecolor": "white",
             "minorgridcolor": "white",
             "startlinecolor": "#2a3f5f"
            },
            "type": "carpet"
           }
          ],
          "choropleth": [
           {
            "colorbar": {
             "outlinewidth": 0,
             "ticks": ""
            },
            "type": "choropleth"
           }
          ],
          "contour": [
           {
            "colorbar": {
             "outlinewidth": 0,
             "ticks": ""
            },
            "colorscale": [
             [
              0,
              "#0d0887"
             ],
             [
              0.1111111111111111,
              "#46039f"
             ],
             [
              0.2222222222222222,
              "#7201a8"
             ],
             [
              0.3333333333333333,
              "#9c179e"
             ],
             [
              0.4444444444444444,
              "#bd3786"
             ],
             [
              0.5555555555555556,
              "#d8576b"
             ],
             [
              0.6666666666666666,
              "#ed7953"
             ],
             [
              0.7777777777777778,
              "#fb9f3a"
             ],
             [
              0.8888888888888888,
              "#fdca26"
             ],
             [
              1,
              "#f0f921"
             ]
            ],
            "type": "contour"
           }
          ],
          "contourcarpet": [
           {
            "colorbar": {
             "outlinewidth": 0,
             "ticks": ""
            },
            "type": "contourcarpet"
           }
          ],
          "heatmap": [
           {
            "colorbar": {
             "outlinewidth": 0,
             "ticks": ""
            },
            "colorscale": [
             [
              0,
              "#0d0887"
             ],
             [
              0.1111111111111111,
              "#46039f"
             ],
             [
              0.2222222222222222,
              "#7201a8"
             ],
             [
              0.3333333333333333,
              "#9c179e"
             ],
             [
              0.4444444444444444,
              "#bd3786"
             ],
             [
              0.5555555555555556,
              "#d8576b"
             ],
             [
              0.6666666666666666,
              "#ed7953"
             ],
             [
              0.7777777777777778,
              "#fb9f3a"
             ],
             [
              0.8888888888888888,
              "#fdca26"
             ],
             [
              1,
              "#f0f921"
             ]
            ],
            "type": "heatmap"
           }
          ],
          "heatmapgl": [
           {
            "colorbar": {
             "outlinewidth": 0,
             "ticks": ""
            },
            "colorscale": [
             [
              0,
              "#0d0887"
             ],
             [
              0.1111111111111111,
              "#46039f"
             ],
             [
              0.2222222222222222,
              "#7201a8"
             ],
             [
              0.3333333333333333,
              "#9c179e"
             ],
             [
              0.4444444444444444,
              "#bd3786"
             ],
             [
              0.5555555555555556,
              "#d8576b"
             ],
             [
              0.6666666666666666,
              "#ed7953"
             ],
             [
              0.7777777777777778,
              "#fb9f3a"
             ],
             [
              0.8888888888888888,
              "#fdca26"
             ],
             [
              1,
              "#f0f921"
             ]
            ],
            "type": "heatmapgl"
           }
          ],
          "histogram": [
           {
            "marker": {
             "pattern": {
              "fillmode": "overlay",
              "size": 10,
              "solidity": 0.2
             }
            },
            "type": "histogram"
           }
          ],
          "histogram2d": [
           {
            "colorbar": {
             "outlinewidth": 0,
             "ticks": ""
            },
            "colorscale": [
             [
              0,
              "#0d0887"
             ],
             [
              0.1111111111111111,
              "#46039f"
             ],
             [
              0.2222222222222222,
              "#7201a8"
             ],
             [
              0.3333333333333333,
              "#9c179e"
             ],
             [
              0.4444444444444444,
              "#bd3786"
             ],
             [
              0.5555555555555556,
              "#d8576b"
             ],
             [
              0.6666666666666666,
              "#ed7953"
             ],
             [
              0.7777777777777778,
              "#fb9f3a"
             ],
             [
              0.8888888888888888,
              "#fdca26"
             ],
             [
              1,
              "#f0f921"
             ]
            ],
            "type": "histogram2d"
           }
          ],
          "histogram2dcontour": [
           {
            "colorbar": {
             "outlinewidth": 0,
             "ticks": ""
            },
            "colorscale": [
             [
              0,
              "#0d0887"
             ],
             [
              0.1111111111111111,
              "#46039f"
             ],
             [
              0.2222222222222222,
              "#7201a8"
             ],
             [
              0.3333333333333333,
              "#9c179e"
             ],
             [
              0.4444444444444444,
              "#bd3786"
             ],
             [
              0.5555555555555556,
              "#d8576b"
             ],
             [
              0.6666666666666666,
              "#ed7953"
             ],
             [
              0.7777777777777778,
              "#fb9f3a"
             ],
             [
              0.8888888888888888,
              "#fdca26"
             ],
             [
              1,
              "#f0f921"
             ]
            ],
            "type": "histogram2dcontour"
           }
          ],
          "mesh3d": [
           {
            "colorbar": {
             "outlinewidth": 0,
             "ticks": ""
            },
            "type": "mesh3d"
           }
          ],
          "parcoords": [
           {
            "line": {
             "colorbar": {
              "outlinewidth": 0,
              "ticks": ""
             }
            },
            "type": "parcoords"
           }
          ],
          "pie": [
           {
            "automargin": true,
            "type": "pie"
           }
          ],
          "scatter": [
           {
            "fillpattern": {
             "fillmode": "overlay",
             "size": 10,
             "solidity": 0.2
            },
            "type": "scatter"
           }
          ],
          "scatter3d": [
           {
            "line": {
             "colorbar": {
              "outlinewidth": 0,
              "ticks": ""
             }
            },
            "marker": {
             "colorbar": {
              "outlinewidth": 0,
              "ticks": ""
             }
            },
            "type": "scatter3d"
           }
          ],
          "scattercarpet": [
           {
            "marker": {
             "colorbar": {
              "outlinewidth": 0,
              "ticks": ""
             }
            },
            "type": "scattercarpet"
           }
          ],
          "scattergeo": [
           {
            "marker": {
             "colorbar": {
              "outlinewidth": 0,
              "ticks": ""
             }
            },
            "type": "scattergeo"
           }
          ],
          "scattergl": [
           {
            "marker": {
             "colorbar": {
              "outlinewidth": 0,
              "ticks": ""
             }
            },
            "type": "scattergl"
           }
          ],
          "scattermapbox": [
           {
            "marker": {
             "colorbar": {
              "outlinewidth": 0,
              "ticks": ""
             }
            },
            "type": "scattermapbox"
           }
          ],
          "scatterpolar": [
           {
            "marker": {
             "colorbar": {
              "outlinewidth": 0,
              "ticks": ""
             }
            },
            "type": "scatterpolar"
           }
          ],
          "scatterpolargl": [
           {
            "marker": {
             "colorbar": {
              "outlinewidth": 0,
              "ticks": ""
             }
            },
            "type": "scatterpolargl"
           }
          ],
          "scatterternary": [
           {
            "marker": {
             "colorbar": {
              "outlinewidth": 0,
              "ticks": ""
             }
            },
            "type": "scatterternary"
           }
          ],
          "surface": [
           {
            "colorbar": {
             "outlinewidth": 0,
             "ticks": ""
            },
            "colorscale": [
             [
              0,
              "#0d0887"
             ],
             [
              0.1111111111111111,
              "#46039f"
             ],
             [
              0.2222222222222222,
              "#7201a8"
             ],
             [
              0.3333333333333333,
              "#9c179e"
             ],
             [
              0.4444444444444444,
              "#bd3786"
             ],
             [
              0.5555555555555556,
              "#d8576b"
             ],
             [
              0.6666666666666666,
              "#ed7953"
             ],
             [
              0.7777777777777778,
              "#fb9f3a"
             ],
             [
              0.8888888888888888,
              "#fdca26"
             ],
             [
              1,
              "#f0f921"
             ]
            ],
            "type": "surface"
           }
          ],
          "table": [
           {
            "cells": {
             "fill": {
              "color": "#EBF0F8"
             },
             "line": {
              "color": "white"
             }
            },
            "header": {
             "fill": {
              "color": "#C8D4E3"
             },
             "line": {
              "color": "white"
             }
            },
            "type": "table"
           }
          ]
         },
         "layout": {
          "annotationdefaults": {
           "arrowcolor": "#2a3f5f",
           "arrowhead": 0,
           "arrowwidth": 1
          },
          "autotypenumbers": "strict",
          "coloraxis": {
           "colorbar": {
            "outlinewidth": 0,
            "ticks": ""
           }
          },
          "colorscale": {
           "diverging": [
            [
             0,
             "#8e0152"
            ],
            [
             0.1,
             "#c51b7d"
            ],
            [
             0.2,
             "#de77ae"
            ],
            [
             0.3,
             "#f1b6da"
            ],
            [
             0.4,
             "#fde0ef"
            ],
            [
             0.5,
             "#f7f7f7"
            ],
            [
             0.6,
             "#e6f5d0"
            ],
            [
             0.7,
             "#b8e186"
            ],
            [
             0.8,
             "#7fbc41"
            ],
            [
             0.9,
             "#4d9221"
            ],
            [
             1,
             "#276419"
            ]
           ],
           "sequential": [
            [
             0,
             "#0d0887"
            ],
            [
             0.1111111111111111,
             "#46039f"
            ],
            [
             0.2222222222222222,
             "#7201a8"
            ],
            [
             0.3333333333333333,
             "#9c179e"
            ],
            [
             0.4444444444444444,
             "#bd3786"
            ],
            [
             0.5555555555555556,
             "#d8576b"
            ],
            [
             0.6666666666666666,
             "#ed7953"
            ],
            [
             0.7777777777777778,
             "#fb9f3a"
            ],
            [
             0.8888888888888888,
             "#fdca26"
            ],
            [
             1,
             "#f0f921"
            ]
           ],
           "sequentialminus": [
            [
             0,
             "#0d0887"
            ],
            [
             0.1111111111111111,
             "#46039f"
            ],
            [
             0.2222222222222222,
             "#7201a8"
            ],
            [
             0.3333333333333333,
             "#9c179e"
            ],
            [
             0.4444444444444444,
             "#bd3786"
            ],
            [
             0.5555555555555556,
             "#d8576b"
            ],
            [
             0.6666666666666666,
             "#ed7953"
            ],
            [
             0.7777777777777778,
             "#fb9f3a"
            ],
            [
             0.8888888888888888,
             "#fdca26"
            ],
            [
             1,
             "#f0f921"
            ]
           ]
          },
          "colorway": [
           "#636efa",
           "#EF553B",
           "#00cc96",
           "#ab63fa",
           "#FFA15A",
           "#19d3f3",
           "#FF6692",
           "#B6E880",
           "#FF97FF",
           "#FECB52"
          ],
          "font": {
           "color": "#2a3f5f"
          },
          "geo": {
           "bgcolor": "white",
           "lakecolor": "white",
           "landcolor": "#E5ECF6",
           "showlakes": true,
           "showland": true,
           "subunitcolor": "white"
          },
          "hoverlabel": {
           "align": "left"
          },
          "hovermode": "closest",
          "mapbox": {
           "style": "light"
          },
          "paper_bgcolor": "white",
          "plot_bgcolor": "#E5ECF6",
          "polar": {
           "angularaxis": {
            "gridcolor": "white",
            "linecolor": "white",
            "ticks": ""
           },
           "bgcolor": "#E5ECF6",
           "radialaxis": {
            "gridcolor": "white",
            "linecolor": "white",
            "ticks": ""
           }
          },
          "scene": {
           "xaxis": {
            "backgroundcolor": "#E5ECF6",
            "gridcolor": "white",
            "gridwidth": 2,
            "linecolor": "white",
            "showbackground": true,
            "ticks": "",
            "zerolinecolor": "white"
           },
           "yaxis": {
            "backgroundcolor": "#E5ECF6",
            "gridcolor": "white",
            "gridwidth": 2,
            "linecolor": "white",
            "showbackground": true,
            "ticks": "",
            "zerolinecolor": "white"
           },
           "zaxis": {
            "backgroundcolor": "#E5ECF6",
            "gridcolor": "white",
            "gridwidth": 2,
            "linecolor": "white",
            "showbackground": true,
            "ticks": "",
            "zerolinecolor": "white"
           }
          },
          "shapedefaults": {
           "line": {
            "color": "#2a3f5f"
           }
          },
          "ternary": {
           "aaxis": {
            "gridcolor": "white",
            "linecolor": "white",
            "ticks": ""
           },
           "baxis": {
            "gridcolor": "white",
            "linecolor": "white",
            "ticks": ""
           },
           "bgcolor": "#E5ECF6",
           "caxis": {
            "gridcolor": "white",
            "linecolor": "white",
            "ticks": ""
           }
          },
          "title": {
           "x": 0.05
          },
          "xaxis": {
           "automargin": true,
           "gridcolor": "white",
           "linecolor": "white",
           "ticks": "",
           "title": {
            "standoff": 15
           },
           "zerolinecolor": "white",
           "zerolinewidth": 2
          },
          "yaxis": {
           "automargin": true,
           "gridcolor": "white",
           "linecolor": "white",
           "ticks": "",
           "title": {
            "standoff": 15
           },
           "zerolinecolor": "white",
           "zerolinewidth": 2
          }
         }
        },
        "xaxis": {
         "anchor": "y",
         "domain": [
          0,
          1
         ],
         "title": {
          "text": "year"
         }
        },
        "yaxis": {
         "anchor": "x",
         "domain": [
          0,
          1
         ],
         "title": {
          "text": "value"
         }
        }
       }
      },
      "text/html": [
       "<div>                            <div id=\"06b7d38a-c369-4769-b5cd-09c7b5ff652a\" class=\"plotly-graph-div\" style=\"height:525px; width:100%;\"></div>            <script type=\"text/javascript\">                require([\"plotly\"], function(Plotly) {                    window.PLOTLYENV=window.PLOTLYENV || {};                                    if (document.getElementById(\"06b7d38a-c369-4769-b5cd-09c7b5ff652a\")) {                    Plotly.newPlot(                        \"06b7d38a-c369-4769-b5cd-09c7b5ff652a\",                        [{\"hovertemplate\":\"variable=Percent of Social Media Use<br>year=%{x}<br>value=%{y}<extra></extra>\",\"legendgroup\":\"Percent of Social Media Use\",\"line\":{\"color\":\"#636efa\",\"dash\":\"solid\"},\"marker\":{\"symbol\":\"circle\"},\"mode\":\"lines\",\"name\":\"Percent of Social Media Use\",\"orientation\":\"v\",\"showlegend\":true,\"x\":[2005,2006,2008,2009,2010,2011,2012,2013,2014,2015,2016,2018,2019,2021],\"xaxis\":\"x\",\"y\":[8,11,26,42,47,50,54,63,62,65,69,69,72,72],\"yaxis\":\"y\",\"type\":\"scatter\"}],                        {\"template\":{\"data\":{\"histogram2dcontour\":[{\"type\":\"histogram2dcontour\",\"colorbar\":{\"outlinewidth\":0,\"ticks\":\"\"},\"colorscale\":[[0.0,\"#0d0887\"],[0.1111111111111111,\"#46039f\"],[0.2222222222222222,\"#7201a8\"],[0.3333333333333333,\"#9c179e\"],[0.4444444444444444,\"#bd3786\"],[0.5555555555555556,\"#d8576b\"],[0.6666666666666666,\"#ed7953\"],[0.7777777777777778,\"#fb9f3a\"],[0.8888888888888888,\"#fdca26\"],[1.0,\"#f0f921\"]]}],\"choropleth\":[{\"type\":\"choropleth\",\"colorbar\":{\"outlinewidth\":0,\"ticks\":\"\"}}],\"histogram2d\":[{\"type\":\"histogram2d\",\"colorbar\":{\"outlinewidth\":0,\"ticks\":\"\"},\"colorscale\":[[0.0,\"#0d0887\"],[0.1111111111111111,\"#46039f\"],[0.2222222222222222,\"#7201a8\"],[0.3333333333333333,\"#9c179e\"],[0.4444444444444444,\"#bd3786\"],[0.5555555555555556,\"#d8576b\"],[0.6666666666666666,\"#ed7953\"],[0.7777777777777778,\"#fb9f3a\"],[0.8888888888888888,\"#fdca26\"],[1.0,\"#f0f921\"]]}],\"heatmap\":[{\"type\":\"heatmap\",\"colorbar\":{\"outlinewidth\":0,\"ticks\":\"\"},\"colorscale\":[[0.0,\"#0d0887\"],[0.1111111111111111,\"#46039f\"],[0.2222222222222222,\"#7201a8\"],[0.3333333333333333,\"#9c179e\"],[0.4444444444444444,\"#bd3786\"],[0.5555555555555556,\"#d8576b\"],[0.6666666666666666,\"#ed7953\"],[0.7777777777777778,\"#fb9f3a\"],[0.8888888888888888,\"#fdca26\"],[1.0,\"#f0f921\"]]}],\"heatmapgl\":[{\"type\":\"heatmapgl\",\"colorbar\":{\"outlinewidth\":0,\"ticks\":\"\"},\"colorscale\":[[0.0,\"#0d0887\"],[0.1111111111111111,\"#46039f\"],[0.2222222222222222,\"#7201a8\"],[0.3333333333333333,\"#9c179e\"],[0.4444444444444444,\"#bd3786\"],[0.5555555555555556,\"#d8576b\"],[0.6666666666666666,\"#ed7953\"],[0.7777777777777778,\"#fb9f3a\"],[0.8888888888888888,\"#fdca26\"],[1.0,\"#f0f921\"]]}],\"contourcarpet\":[{\"type\":\"contourcarpet\",\"colorbar\":{\"outlinewidth\":0,\"ticks\":\"\"}}],\"contour\":[{\"type\":\"contour\",\"colorbar\":{\"outlinewidth\":0,\"ticks\":\"\"},\"colorscale\":[[0.0,\"#0d0887\"],[0.1111111111111111,\"#46039f\"],[0.2222222222222222,\"#7201a8\"],[0.3333333333333333,\"#9c179e\"],[0.4444444444444444,\"#bd3786\"],[0.5555555555555556,\"#d8576b\"],[0.6666666666666666,\"#ed7953\"],[0.7777777777777778,\"#fb9f3a\"],[0.8888888888888888,\"#fdca26\"],[1.0,\"#f0f921\"]]}],\"surface\":[{\"type\":\"surface\",\"colorbar\":{\"outlinewidth\":0,\"ticks\":\"\"},\"colorscale\":[[0.0,\"#0d0887\"],[0.1111111111111111,\"#46039f\"],[0.2222222222222222,\"#7201a8\"],[0.3333333333333333,\"#9c179e\"],[0.4444444444444444,\"#bd3786\"],[0.5555555555555556,\"#d8576b\"],[0.6666666666666666,\"#ed7953\"],[0.7777777777777778,\"#fb9f3a\"],[0.8888888888888888,\"#fdca26\"],[1.0,\"#f0f921\"]]}],\"mesh3d\":[{\"type\":\"mesh3d\",\"colorbar\":{\"outlinewidth\":0,\"ticks\":\"\"}}],\"scatter\":[{\"fillpattern\":{\"fillmode\":\"overlay\",\"size\":10,\"solidity\":0.2},\"type\":\"scatter\"}],\"parcoords\":[{\"type\":\"parcoords\",\"line\":{\"colorbar\":{\"outlinewidth\":0,\"ticks\":\"\"}}}],\"scatterpolargl\":[{\"type\":\"scatterpolargl\",\"marker\":{\"colorbar\":{\"outlinewidth\":0,\"ticks\":\"\"}}}],\"bar\":[{\"error_x\":{\"color\":\"#2a3f5f\"},\"error_y\":{\"color\":\"#2a3f5f\"},\"marker\":{\"line\":{\"color\":\"#E5ECF6\",\"width\":0.5},\"pattern\":{\"fillmode\":\"overlay\",\"size\":10,\"solidity\":0.2}},\"type\":\"bar\"}],\"scattergeo\":[{\"type\":\"scattergeo\",\"marker\":{\"colorbar\":{\"outlinewidth\":0,\"ticks\":\"\"}}}],\"scatterpolar\":[{\"type\":\"scatterpolar\",\"marker\":{\"colorbar\":{\"outlinewidth\":0,\"ticks\":\"\"}}}],\"histogram\":[{\"marker\":{\"pattern\":{\"fillmode\":\"overlay\",\"size\":10,\"solidity\":0.2}},\"type\":\"histogram\"}],\"scattergl\":[{\"type\":\"scattergl\",\"marker\":{\"colorbar\":{\"outlinewidth\":0,\"ticks\":\"\"}}}],\"scatter3d\":[{\"type\":\"scatter3d\",\"line\":{\"colorbar\":{\"outlinewidth\":0,\"ticks\":\"\"}},\"marker\":{\"colorbar\":{\"outlinewidth\":0,\"ticks\":\"\"}}}],\"scattermapbox\":[{\"type\":\"scattermapbox\",\"marker\":{\"colorbar\":{\"outlinewidth\":0,\"ticks\":\"\"}}}],\"scatterternary\":[{\"type\":\"scatterternary\",\"marker\":{\"colorbar\":{\"outlinewidth\":0,\"ticks\":\"\"}}}],\"scattercarpet\":[{\"type\":\"scattercarpet\",\"marker\":{\"colorbar\":{\"outlinewidth\":0,\"ticks\":\"\"}}}],\"carpet\":[{\"aaxis\":{\"endlinecolor\":\"#2a3f5f\",\"gridcolor\":\"white\",\"linecolor\":\"white\",\"minorgridcolor\":\"white\",\"startlinecolor\":\"#2a3f5f\"},\"baxis\":{\"endlinecolor\":\"#2a3f5f\",\"gridcolor\":\"white\",\"linecolor\":\"white\",\"minorgridcolor\":\"white\",\"startlinecolor\":\"#2a3f5f\"},\"type\":\"carpet\"}],\"table\":[{\"cells\":{\"fill\":{\"color\":\"#EBF0F8\"},\"line\":{\"color\":\"white\"}},\"header\":{\"fill\":{\"color\":\"#C8D4E3\"},\"line\":{\"color\":\"white\"}},\"type\":\"table\"}],\"barpolar\":[{\"marker\":{\"line\":{\"color\":\"#E5ECF6\",\"width\":0.5},\"pattern\":{\"fillmode\":\"overlay\",\"size\":10,\"solidity\":0.2}},\"type\":\"barpolar\"}],\"pie\":[{\"automargin\":true,\"type\":\"pie\"}]},\"layout\":{\"autotypenumbers\":\"strict\",\"colorway\":[\"#636efa\",\"#EF553B\",\"#00cc96\",\"#ab63fa\",\"#FFA15A\",\"#19d3f3\",\"#FF6692\",\"#B6E880\",\"#FF97FF\",\"#FECB52\"],\"font\":{\"color\":\"#2a3f5f\"},\"hovermode\":\"closest\",\"hoverlabel\":{\"align\":\"left\"},\"paper_bgcolor\":\"white\",\"plot_bgcolor\":\"#E5ECF6\",\"polar\":{\"bgcolor\":\"#E5ECF6\",\"angularaxis\":{\"gridcolor\":\"white\",\"linecolor\":\"white\",\"ticks\":\"\"},\"radialaxis\":{\"gridcolor\":\"white\",\"linecolor\":\"white\",\"ticks\":\"\"}},\"ternary\":{\"bgcolor\":\"#E5ECF6\",\"aaxis\":{\"gridcolor\":\"white\",\"linecolor\":\"white\",\"ticks\":\"\"},\"baxis\":{\"gridcolor\":\"white\",\"linecolor\":\"white\",\"ticks\":\"\"},\"caxis\":{\"gridcolor\":\"white\",\"linecolor\":\"white\",\"ticks\":\"\"}},\"coloraxis\":{\"colorbar\":{\"outlinewidth\":0,\"ticks\":\"\"}},\"colorscale\":{\"sequential\":[[0.0,\"#0d0887\"],[0.1111111111111111,\"#46039f\"],[0.2222222222222222,\"#7201a8\"],[0.3333333333333333,\"#9c179e\"],[0.4444444444444444,\"#bd3786\"],[0.5555555555555556,\"#d8576b\"],[0.6666666666666666,\"#ed7953\"],[0.7777777777777778,\"#fb9f3a\"],[0.8888888888888888,\"#fdca26\"],[1.0,\"#f0f921\"]],\"sequentialminus\":[[0.0,\"#0d0887\"],[0.1111111111111111,\"#46039f\"],[0.2222222222222222,\"#7201a8\"],[0.3333333333333333,\"#9c179e\"],[0.4444444444444444,\"#bd3786\"],[0.5555555555555556,\"#d8576b\"],[0.6666666666666666,\"#ed7953\"],[0.7777777777777778,\"#fb9f3a\"],[0.8888888888888888,\"#fdca26\"],[1.0,\"#f0f921\"]],\"diverging\":[[0,\"#8e0152\"],[0.1,\"#c51b7d\"],[0.2,\"#de77ae\"],[0.3,\"#f1b6da\"],[0.4,\"#fde0ef\"],[0.5,\"#f7f7f7\"],[0.6,\"#e6f5d0\"],[0.7,\"#b8e186\"],[0.8,\"#7fbc41\"],[0.9,\"#4d9221\"],[1,\"#276419\"]]},\"xaxis\":{\"gridcolor\":\"white\",\"linecolor\":\"white\",\"ticks\":\"\",\"title\":{\"standoff\":15},\"zerolinecolor\":\"white\",\"automargin\":true,\"zerolinewidth\":2},\"yaxis\":{\"gridcolor\":\"white\",\"linecolor\":\"white\",\"ticks\":\"\",\"title\":{\"standoff\":15},\"zerolinecolor\":\"white\",\"automargin\":true,\"zerolinewidth\":2},\"scene\":{\"xaxis\":{\"backgroundcolor\":\"#E5ECF6\",\"gridcolor\":\"white\",\"linecolor\":\"white\",\"showbackground\":true,\"ticks\":\"\",\"zerolinecolor\":\"white\",\"gridwidth\":2},\"yaxis\":{\"backgroundcolor\":\"#E5ECF6\",\"gridcolor\":\"white\",\"linecolor\":\"white\",\"showbackground\":true,\"ticks\":\"\",\"zerolinecolor\":\"white\",\"gridwidth\":2},\"zaxis\":{\"backgroundcolor\":\"#E5ECF6\",\"gridcolor\":\"white\",\"linecolor\":\"white\",\"showbackground\":true,\"ticks\":\"\",\"zerolinecolor\":\"white\",\"gridwidth\":2}},\"shapedefaults\":{\"line\":{\"color\":\"#2a3f5f\"}},\"annotationdefaults\":{\"arrowcolor\":\"#2a3f5f\",\"arrowhead\":0,\"arrowwidth\":1},\"geo\":{\"bgcolor\":\"white\",\"landcolor\":\"#E5ECF6\",\"subunitcolor\":\"white\",\"showland\":true,\"showlakes\":true,\"lakecolor\":\"white\"},\"title\":{\"x\":0.05},\"mapbox\":{\"style\":\"light\"}}},\"xaxis\":{\"anchor\":\"y\",\"domain\":[0.0,1.0],\"title\":{\"text\":\"year\"}},\"yaxis\":{\"anchor\":\"x\",\"domain\":[0.0,1.0],\"title\":{\"text\":\"value\"}},\"legend\":{\"title\":{\"text\":\"variable\"},\"tracegroupgap\":0},\"margin\":{\"t\":60}},                        {\"responsive\": true}                    ).then(function(){\n",
       "                            \n",
       "var gd = document.getElementById('06b7d38a-c369-4769-b5cd-09c7b5ff652a');\n",
       "var x = new MutationObserver(function (mutations, observer) {{\n",
       "        var display = window.getComputedStyle(gd).display;\n",
       "        if (!display || display === 'none') {{\n",
       "            console.log([gd, 'removed!']);\n",
       "            Plotly.purge(gd);\n",
       "            observer.disconnect();\n",
       "        }}\n",
       "}});\n",
       "\n",
       "// Listen for the removal of the full notebook cells\n",
       "var notebookContainer = gd.closest('#notebook-container');\n",
       "if (notebookContainer) {{\n",
       "    x.observe(notebookContainer, {childList: true});\n",
       "}}\n",
       "\n",
       "// Listen for the clearing of the current output cell\n",
       "var outputEl = gd.closest('.output');\n",
       "if (outputEl) {{\n",
       "    x.observe(outputEl, {childList: true});\n",
       "}}\n",
       "\n",
       "                        })                };                });            </script>        </div>"
      ]
     },
     "metadata": {},
     "output_type": "display_data"
    }
   ],
   "source": [
    "px.line(sm_combined,x='year',y='value',color='variable')"
   ]
  },
  {
   "cell_type": "code",
   "execution_count": 69,
   "id": "e25c5b41",
   "metadata": {},
   "outputs": [],
   "source": [
    "mh_tomerge.rename(columns={'Year':'year'},inplace=True)"
   ]
  },
  {
   "cell_type": "code",
   "execution_count": 70,
   "id": "06a94ac0",
   "metadata": {},
   "outputs": [],
   "source": [
    "pu_tomerge.rename(columns={'Date':'year'},inplace=True)"
   ]
  },
  {
   "cell_type": "code",
   "execution_count": 71,
   "id": "0b17bdfa",
   "metadata": {},
   "outputs": [],
   "source": [
    "merged_master=mh_tomerge.merge(pu_tomerge, on='year')"
   ]
  },
  {
   "cell_type": "code",
   "execution_count": 72,
   "id": "89337066",
   "metadata": {},
   "outputs": [],
   "source": [
    "merged_master=merged_master.merge(sm_tomerge, on='year')"
   ]
  },
  {
   "cell_type": "code",
   "execution_count": 73,
   "id": "56cdd741",
   "metadata": {},
   "outputs": [
    {
     "data": {
      "text/html": [
       "<div>\n",
       "<style scoped>\n",
       "    .dataframe tbody tr th:only-of-type {\n",
       "        vertical-align: middle;\n",
       "    }\n",
       "\n",
       "    .dataframe tbody tr th {\n",
       "        vertical-align: top;\n",
       "    }\n",
       "\n",
       "    .dataframe thead th {\n",
       "        text-align: right;\n",
       "    }\n",
       "</style>\n",
       "<table border=\"1\" class=\"dataframe\">\n",
       "  <thead>\n",
       "    <tr style=\"text-align: right;\">\n",
       "      <th></th>\n",
       "      <th>year</th>\n",
       "      <th>Depression</th>\n",
       "      <th>Anxiety</th>\n",
       "      <th>Cellphone</th>\n",
       "      <th>Smartphone</th>\n",
       "      <th>value</th>\n",
       "    </tr>\n",
       "  </thead>\n",
       "  <tbody>\n",
       "    <tr>\n",
       "      <th>0</th>\n",
       "      <td>2011</td>\n",
       "      <td>4.91</td>\n",
       "      <td>6.22</td>\n",
       "      <td>0.83</td>\n",
       "      <td>0.35</td>\n",
       "      <td>50.00%</td>\n",
       "    </tr>\n",
       "    <tr>\n",
       "      <th>1</th>\n",
       "      <td>2012</td>\n",
       "      <td>4.87</td>\n",
       "      <td>6.03</td>\n",
       "      <td>0.87</td>\n",
       "      <td>0.45</td>\n",
       "      <td>54.00%</td>\n",
       "    </tr>\n",
       "    <tr>\n",
       "      <th>2</th>\n",
       "      <td>2013</td>\n",
       "      <td>4.83</td>\n",
       "      <td>5.84</td>\n",
       "      <td>0.92</td>\n",
       "      <td>0.58</td>\n",
       "      <td>63.00%</td>\n",
       "    </tr>\n",
       "    <tr>\n",
       "      <th>3</th>\n",
       "      <td>2014</td>\n",
       "      <td>4.78</td>\n",
       "      <td>5.68</td>\n",
       "      <td>0.89</td>\n",
       "      <td>0.59</td>\n",
       "      <td>62.00%</td>\n",
       "    </tr>\n",
       "    <tr>\n",
       "      <th>4</th>\n",
       "      <td>2015</td>\n",
       "      <td>4.75</td>\n",
       "      <td>5.61</td>\n",
       "      <td>0.91</td>\n",
       "      <td>0.69</td>\n",
       "      <td>65.00%</td>\n",
       "    </tr>\n",
       "    <tr>\n",
       "      <th>5</th>\n",
       "      <td>2016</td>\n",
       "      <td>4.74</td>\n",
       "      <td>5.60</td>\n",
       "      <td>0.95</td>\n",
       "      <td>0.77</td>\n",
       "      <td>69.00%</td>\n",
       "    </tr>\n",
       "    <tr>\n",
       "      <th>6</th>\n",
       "      <td>2018</td>\n",
       "      <td>4.73</td>\n",
       "      <td>5.79</td>\n",
       "      <td>0.95</td>\n",
       "      <td>0.77</td>\n",
       "      <td>69.00%</td>\n",
       "    </tr>\n",
       "    <tr>\n",
       "      <th>7</th>\n",
       "      <td>2019</td>\n",
       "      <td>4.73</td>\n",
       "      <td>6.16</td>\n",
       "      <td>0.96</td>\n",
       "      <td>0.81</td>\n",
       "      <td>72.00%</td>\n",
       "    </tr>\n",
       "  </tbody>\n",
       "</table>\n",
       "</div>"
      ],
      "text/plain": [
       "   year  Depression  Anxiety  Cellphone  Smartphone   value\n",
       "0  2011        4.91     6.22       0.83        0.35  50.00%\n",
       "1  2012        4.87     6.03       0.87        0.45  54.00%\n",
       "2  2013        4.83     5.84       0.92        0.58  63.00%\n",
       "3  2014        4.78     5.68       0.89        0.59  62.00%\n",
       "4  2015        4.75     5.61       0.91        0.69  65.00%\n",
       "5  2016        4.74     5.60       0.95        0.77  69.00%\n",
       "6  2018        4.73     5.79       0.95        0.77  69.00%\n",
       "7  2019        4.73     6.16       0.96        0.81  72.00%"
      ]
     },
     "execution_count": 73,
     "metadata": {},
     "output_type": "execute_result"
    }
   ],
   "source": [
    "merged_master"
   ]
  },
  {
   "cell_type": "code",
   "execution_count": 74,
   "id": "940f1682",
   "metadata": {},
   "outputs": [],
   "source": [
    "merged_master.rename(columns={'value':'social_media_use'},inplace=True)"
   ]
  },
  {
   "cell_type": "code",
   "execution_count": 75,
   "id": "cc321c4d",
   "metadata": {},
   "outputs": [
    {
     "name": "stderr",
     "output_type": "stream",
     "text": [
      "C:\\Users\\cmwill\\anaconda3\\envs\\cap2\\lib\\site-packages\\ipykernel_launcher.py:1: FutureWarning:\n",
      "\n",
      "The default value of regex will change from True to False in a future version.\n",
      "\n"
     ]
    }
   ],
   "source": [
    "merged_master['social_media_use']=merged_master['social_media_use'].str.replace('.00%','')"
   ]
  },
  {
   "cell_type": "code",
   "execution_count": 76,
   "id": "248a85ef",
   "metadata": {},
   "outputs": [],
   "source": [
    "merged_master['social_media_use']=merged_master['social_media_use'].astype(int)"
   ]
  },
  {
   "cell_type": "code",
   "execution_count": 77,
   "id": "e4d7162a",
   "metadata": {},
   "outputs": [],
   "source": [
    "merged_master.drop(columns=['Cellphone'],inplace=True)"
   ]
  },
  {
   "cell_type": "code",
   "execution_count": 78,
   "id": "b3537f70",
   "metadata": {},
   "outputs": [
    {
     "name": "stdout",
     "output_type": "stream",
     "text": [
      "<class 'pandas.core.frame.DataFrame'>\n",
      "Int64Index: 8 entries, 0 to 7\n",
      "Data columns (total 5 columns):\n",
      " #   Column            Non-Null Count  Dtype  \n",
      "---  ------            --------------  -----  \n",
      " 0   year              8 non-null      int64  \n",
      " 1   Depression        8 non-null      float64\n",
      " 2   Anxiety           8 non-null      float64\n",
      " 3   Smartphone        8 non-null      float64\n",
      " 4   social_media_use  8 non-null      int32  \n",
      "dtypes: float64(3), int32(1), int64(1)\n",
      "memory usage: 352.0 bytes\n"
     ]
    }
   ],
   "source": [
    "merged_master.info()"
   ]
  },
  {
   "cell_type": "code",
   "execution_count": 79,
   "id": "ce4db762",
   "metadata": {},
   "outputs": [],
   "source": [
    "ymh_tomerge['year']=ymh_tomerge['year'].astype(int)"
   ]
  },
  {
   "cell_type": "code",
   "execution_count": 80,
   "id": "a2ec597b",
   "metadata": {},
   "outputs": [],
   "source": [
    "merged_master=merged_master.merge(ymh_tomerge,on='year')"
   ]
  },
  {
   "cell_type": "code",
   "execution_count": 81,
   "id": "386e04c2",
   "metadata": {},
   "outputs": [
    {
     "name": "stdout",
     "output_type": "stream",
     "text": [
      "<class 'pandas.core.frame.DataFrame'>\n",
      "Int64Index: 8 entries, 0 to 7\n",
      "Data columns (total 7 columns):\n",
      " #   Column              Non-Null Count  Dtype  \n",
      "---  ------              --------------  -----  \n",
      " 0   year                8 non-null      int64  \n",
      " 1   Depression          8 non-null      float64\n",
      " 2   Anxiety             8 non-null      float64\n",
      " 3   Smartphone          8 non-null      float64\n",
      " 4   social_media_use    8 non-null      int32  \n",
      " 5   m_youth_depression  8 non-null      object \n",
      " 6   f_youth_depression  8 non-null      object \n",
      "dtypes: float64(3), int32(1), int64(1), object(2)\n",
      "memory usage: 480.0+ bytes\n"
     ]
    }
   ],
   "source": [
    "merged_master.info()"
   ]
  },
  {
   "cell_type": "code",
   "execution_count": 82,
   "id": "7cb2c3c4",
   "metadata": {},
   "outputs": [],
   "source": [
    "merged_master['m_youth_depression']=merged_master['m_youth_depression'].astype(float)"
   ]
  },
  {
   "cell_type": "code",
   "execution_count": 83,
   "id": "cd0c914b",
   "metadata": {},
   "outputs": [],
   "source": [
    "merged_master['f_youth_depression']=merged_master['f_youth_depression'].astype(float)"
   ]
  },
  {
   "cell_type": "code",
   "execution_count": 84,
   "id": "94900efb",
   "metadata": {},
   "outputs": [],
   "source": [
    "merged_master['Smartphone']=merged_master['Smartphone'].apply(lambda x:x*100)"
   ]
  },
  {
   "cell_type": "code",
   "execution_count": 118,
   "id": "996f8b05",
   "metadata": {},
   "outputs": [
    {
     "data": {
      "text/plain": [
       "<AxesSubplot:xlabel='f_youth_depression', ylabel='social_media_use'>"
      ]
     },
     "execution_count": 118,
     "metadata": {},
     "output_type": "execute_result"
    },
    {
     "data": {
      "image/png": "[encoded data removed]",
      "text/plain": [
       "<Figure size 640x480 with 1 Axes>"
      ]
     },
     "metadata": {},
     "output_type": "display_data"
    }
   ],
   "source": [
    "sns.scatterplot(x=merged_master['f_youth_depression'], y=merged_master['social_media_use'])"
   ]
  },
  {
   "cell_type": "code",
   "execution_count": 129,
   "id": "c2348656",
   "metadata": {},
   "outputs": [
    {
     "data": {
      "text/plain": [
       "<AxesSubplot:xlabel='m_youth_depression', ylabel='social_media_use'>"
      ]
     },
     "execution_count": 129,
     "metadata": {},
     "output_type": "execute_result"
    },
    {
     "data": {
      "image/png": "[encoded data removed]",
      "text/plain": [
       "<Figure size 640x480 with 1 Axes>"
      ]
     },
     "metadata": {},
     "output_type": "display_data"
    }
   ],
   "source": [
    "sns.scatterplot(x=merged_master['m_youth_depression'], y=merged_master['social_media_use'])"
   ]
  },
  {
   "cell_type": "code",
   "execution_count": 131,
   "id": "db88d496",
   "metadata": {},
   "outputs": [
    {
     "data": {
      "text/plain": [
       "<seaborn.axisgrid.PairGrid at 0x207bfa94388>"
      ]
     },
     "execution_count": 131,
     "metadata": {},
     "output_type": "execute_result"
    },
    {
     "data": {
      "image/png": "[encoded data removed]",
      "text/plain": [
       "<Figure size 1750x1750 with 56 Axes>"
      ]
     },
     "metadata": {},
     "output_type": "display_data"
    }
   ],
   "source": [
    "sns.pairplot(merged_master)"
   ]
  },
  {
   "cell_type": "code",
   "execution_count": 138,
   "id": "3cbd4a38",
   "metadata": {},
   "outputs": [],
   "source": [
    "# set X \n",
    "x1 = merged_master['social_media_use']\n",
    "\n",
    "# set Y \n",
    "y = merged_master['f_youth_depression']"
   ]
  },
  {
   "cell_type": "code",
   "execution_count": 139,
   "id": "660b9f9e",
   "metadata": {
    "scrolled": true
   },
   "outputs": [
    {
     "data": {
      "application/javascript": [
       "/* Put everything inside the global mpl namespace */\n",
       "/* global mpl */\n",
       "window.mpl = {};\n",
       "\n",
       "mpl.get_websocket_type = function () {\n",
       "    if (typeof WebSocket !== 'undefined') {\n",
       "        return WebSocket;\n",
       "    } else if (typeof MozWebSocket !== 'undefined') {\n",
       "        return MozWebSocket;\n",
       "    } else {\n",
       "        alert(\n",
       "            'Your browser does not have WebSocket support. ' +\n",
       "                'Please try Chrome, Safari or Firefox ≥ 6. ' +\n",
       "                'Firefox 4 and 5 are also supported but you ' +\n",
       "                'have to enable WebSockets in about:config.'\n",
       "        );\n",
       "    }\n",
       "};\n",
       "\n",
       "mpl.figure = function (figure_id, websocket, ondownload, parent_element) {\n",
       "    this.id = figure_id;\n",
       "\n",
       "    this.ws = websocket;\n",
       "\n",
       "    this.supports_binary = this.ws.binaryType !== undefined;\n",
       "\n",
       "    if (!this.supports_binary) {\n",
       "        var warnings = document.getElementById('mpl-warnings');\n",
       "        if (warnings) {\n",
       "            warnings.style.display = 'block';\n",
       "            warnings.textContent =\n",
       "                'This browser does not support binary websocket messages. ' +\n",
       "                'Performance may be slow.';\n",
       "        }\n",
       "    }\n",
       "\n",
       "    this.imageObj = new Image();\n",
       "\n",
       "    this.context = undefined;\n",
       "    this.message = undefined;\n",
       "    this.canvas = undefined;\n",
       "    this.rubberband_canvas = undefined;\n",
       "    this.rubberband_context = undefined;\n",
       "    this.format_dropdown = undefined;\n",
       "\n",
       "    this.image_mode = 'full';\n",
       "\n",
       "    this.root = document.createElement('div');\n",
       "    this.root.setAttribute('style', 'display: inline-block');\n",
       "    this._root_extra_style(this.root);\n",
       "\n",
       "    parent_element.appendChild(this.root);\n",
       "\n",
       "    this._init_header(this);\n",
       "    this._init_canvas(this);\n",
       "    this._init_toolbar(this);\n",
       "\n",
       "    var fig = this;\n",
       "\n",
       "    this.waiting = false;\n",
       "\n",
       "    this.ws.onopen = function () {\n",
       "        fig.send_message('supports_binary', { value: fig.supports_binary });\n",
       "        fig.send_message('send_image_mode', {});\n",
       "        if (fig.ratio !== 1) {\n",
       "            fig.send_message('set_device_pixel_ratio', {\n",
       "                device_pixel_ratio: fig.ratio,\n",
       "            });\n",
       "        }\n",
       "        fig.send_message('refresh', {});\n",
       "    };\n",
       "\n",
       "    this.imageObj.onload = function () {\n",
       "        if (fig.image_mode === 'full') {\n",
       "            // Full images could contain transparency (where diff images\n",
       "            // almost always do), so we need to clear the canvas so that\n",
       "            // there is no ghosting.\n",
       "            fig.context.clearRect(0, 0, fig.canvas.width, fig.canvas.height);\n",
       "        }\n",
       "        fig.context.drawImage(fig.imageObj, 0, 0);\n",
       "    };\n",
       "\n",
       "    this.imageObj.onunload = function () {\n",
       "        fig.ws.close();\n",
       "    };\n",
       "\n",
       "    this.ws.onmessage = this._make_on_message_function(this);\n",
       "\n",
       "    this.ondownload = ondownload;\n",
       "};\n",
       "\n",
       "mpl.figure.prototype._init_header = function () {\n",
       "    var titlebar = document.createElement('div');\n",
       "    titlebar.classList =\n",
       "        'ui-dialog-titlebar ui-widget-header ui-corner-all ui-helper-clearfix';\n",
       "    var titletext = document.createElement('div');\n",
       "    titletext.classList = 'ui-dialog-title';\n",
       "    titletext.setAttribute(\n",
       "        'style',\n",
       "        'width: 100%; text-align: center; padding: 3px;'\n",
       "    );\n",
       "    titlebar.appendChild(titletext);\n",
       "    this.root.appendChild(titlebar);\n",
       "    this.header = titletext;\n",
       "};\n",
       "\n",
       "mpl.figure.prototype._canvas_extra_style = function (_canvas_div) {};\n",
       "\n",
       "mpl.figure.prototype._root_extra_style = function (_canvas_div) {};\n",
       "\n",
       "mpl.figure.prototype._init_canvas = function () {\n",
       "    var fig = this;\n",
       "\n",
       "    var canvas_div = (this.canvas_div = document.createElement('div'));\n",
       "    canvas_div.setAttribute(\n",
       "        'style',\n",
       "        'border: 1px solid #ddd;' +\n",
       "            'box-sizing: content-box;' +\n",
       "            'clear: both;' +\n",
       "            'min-height: 1px;' +\n",
       "            'min-width: 1px;' +\n",
       "            'outline: 0;' +\n",
       "            'overflow: hidden;' +\n",
       "            'position: relative;' +\n",
       "            'resize: both;'\n",
       "    );\n",
       "\n",
       "    function on_keyboard_event_closure(name) {\n",
       "        return function (event) {\n",
       "            return fig.key_event(event, name);\n",
       "        };\n",
       "    }\n",
       "\n",
       "    canvas_div.addEventListener(\n",
       "        'keydown',\n",
       "        on_keyboard_event_closure('key_press')\n",
       "    );\n",
       "    canvas_div.addEventListener(\n",
       "        'keyup',\n",
       "        on_keyboard_event_closure('key_release')\n",
       "    );\n",
       "\n",
       "    this._canvas_extra_style(canvas_div);\n",
       "    this.root.appendChild(canvas_div);\n",
       "\n",
       "    var canvas = (this.canvas = document.createElement('canvas'));\n",
       "    canvas.classList.add('mpl-canvas');\n",
       "    canvas.setAttribute('style', 'box-sizing: content-box;');\n",
       "\n",
       "    this.context = canvas.getContext('2d');\n",
       "\n",
       "    var backingStore =\n",
       "        this.context.backingStorePixelRatio ||\n",
       "        this.context.webkitBackingStorePixelRatio ||\n",
       "        this.context.mozBackingStorePixelRatio ||\n",
       "        this.context.msBackingStorePixelRatio ||\n",
       "        this.context.oBackingStorePixelRatio ||\n",
       "        this.context.backingStorePixelRatio ||\n",
       "        1;\n",
       "\n",
       "    this.ratio = (window.devicePixelRatio || 1) / backingStore;\n",
       "\n",
       "    var rubberband_canvas = (this.rubberband_canvas = document.createElement(\n",
       "        'canvas'\n",
       "    ));\n",
       "    rubberband_canvas.setAttribute(\n",
       "        'style',\n",
       "        'box-sizing: content-box; position: absolute; left: 0; top: 0; z-index: 1;'\n",
       "    );\n",
       "\n",
       "    // Apply a ponyfill if ResizeObserver is not implemented by browser.\n",
       "    if (this.ResizeObserver === undefined) {\n",
       "        if (window.ResizeObserver !== undefined) {\n",
       "            this.ResizeObserver = window.ResizeObserver;\n",
       "        } else {\n",
       "            var obs = _JSXTOOLS_RESIZE_OBSERVER({});\n",
       "            this.ResizeObserver = obs.ResizeObserver;\n",
       "        }\n",
       "    }\n",
       "\n",
       "    this.resizeObserverInstance = new this.ResizeObserver(function (entries) {\n",
       "        var nentries = entries.length;\n",
       "        for (var i = 0; i < nentries; i++) {\n",
       "            var entry = entries[i];\n",
       "            var width, height;\n",
       "            if (entry.contentBoxSize) {\n",
       "                if (entry.contentBoxSize instanceof Array) {\n",
       "                    // Chrome 84 implements new version of spec.\n",
       "                    width = entry.contentBoxSize[0].inlineSize;\n",
       "                    height = entry.contentBoxSize[0].blockSize;\n",
       "                } else {\n",
       "                    // Firefox implements old version of spec.\n",
       "                    width = entry.contentBoxSize.inlineSize;\n",
       "                    height = entry.contentBoxSize.blockSize;\n",
       "                }\n",
       "            } else {\n",
       "                // Chrome <84 implements even older version of spec.\n",
       "                width = entry.contentRect.width;\n",
       "                height = entry.contentRect.height;\n",
       "            }\n",
       "\n",
       "            // Keep the size of the canvas and rubber band canvas in sync with\n",
       "            // the canvas container.\n",
       "            if (entry.devicePixelContentBoxSize) {\n",
       "                // Chrome 84 implements new version of spec.\n",
       "                canvas.setAttribute(\n",
       "                    'width',\n",
       "                    entry.devicePixelContentBoxSize[0].inlineSize\n",
       "                );\n",
       "                canvas.setAttribute(\n",
       "                    'height',\n",
       "                    entry.devicePixelContentBoxSize[0].blockSize\n",
       "                );\n",
       "            } else {\n",
       "                canvas.setAttribute('width', width * fig.ratio);\n",
       "                canvas.setAttribute('height', height * fig.ratio);\n",
       "            }\n",
       "            canvas.setAttribute(\n",
       "                'style',\n",
       "                'width: ' + width + 'px; height: ' + height + 'px;'\n",
       "            );\n",
       "\n",
       "            rubberband_canvas.setAttribute('width', width);\n",
       "            rubberband_canvas.setAttribute('height', height);\n",
       "\n",
       "            // And update the size in Python. We ignore the initial 0/0 size\n",
       "            // that occurs as the element is placed into the DOM, which should\n",
       "            // otherwise not happen due to the minimum size styling.\n",
       "            if (fig.ws.readyState == 1 && width != 0 && height != 0) {\n",
       "                fig.request_resize(width, height);\n",
       "            }\n",
       "        }\n",
       "    });\n",
       "    this.resizeObserverInstance.observe(canvas_div);\n",
       "\n",
       "    function on_mouse_event_closure(name) {\n",
       "        return function (event) {\n",
       "            return fig.mouse_event(event, name);\n",
       "        };\n",
       "    }\n",
       "\n",
       "    rubberband_canvas.addEventListener(\n",
       "        'mousedown',\n",
       "        on_mouse_event_closure('button_press')\n",
       "    );\n",
       "    rubberband_canvas.addEventListener(\n",
       "        'mouseup',\n",
       "        on_mouse_event_closure('button_release')\n",
       "    );\n",
       "    rubberband_canvas.addEventListener(\n",
       "        'dblclick',\n",
       "        on_mouse_event_closure('dblclick')\n",
       "    );\n",
       "    // Throttle sequential mouse events to 1 every 20ms.\n",
       "    rubberband_canvas.addEventListener(\n",
       "        'mousemove',\n",
       "        on_mouse_event_closure('motion_notify')\n",
       "    );\n",
       "\n",
       "    rubberband_canvas.addEventListener(\n",
       "        'mouseenter',\n",
       "        on_mouse_event_closure('figure_enter')\n",
       "    );\n",
       "    rubberband_canvas.addEventListener(\n",
       "        'mouseleave',\n",
       "        on_mouse_event_closure('figure_leave')\n",
       "    );\n",
       "\n",
       "    canvas_div.addEventListener('wheel', function (event) {\n",
       "        if (event.deltaY < 0) {\n",
       "            event.step = 1;\n",
       "        } else {\n",
       "            event.step = -1;\n",
       "        }\n",
       "        on_mouse_event_closure('scroll')(event);\n",
       "    });\n",
       "\n",
       "    canvas_div.appendChild(canvas);\n",
       "    canvas_div.appendChild(rubberband_canvas);\n",
       "\n",
       "    this.rubberband_context = rubberband_canvas.getContext('2d');\n",
       "    this.rubberband_context.strokeStyle = '#000000';\n",
       "\n",
       "    this._resize_canvas = function (width, height, forward) {\n",
       "        if (forward) {\n",
       "            canvas_div.style.width = width + 'px';\n",
       "            canvas_div.style.height = height + 'px';\n",
       "        }\n",
       "    };\n",
       "\n",
       "    // Disable right mouse context menu.\n",
       "    this.rubberband_canvas.addEventListener('contextmenu', function (_e) {\n",
       "        event.preventDefault();\n",
       "        return false;\n",
       "    });\n",
       "\n",
       "    function set_focus() {\n",
       "        canvas.focus();\n",
       "        canvas_div.focus();\n",
       "    }\n",
       "\n",
       "    window.setTimeout(set_focus, 100);\n",
       "};\n",
       "\n",
       "mpl.figure.prototype._init_toolbar = function () {\n",
       "    var fig = this;\n",
       "\n",
       "    var toolbar = document.createElement('div');\n",
       "    toolbar.classList = 'mpl-toolbar';\n",
       "    this.root.appendChild(toolbar);\n",
       "\n",
       "    function on_click_closure(name) {\n",
       "        return function (_event) {\n",
       "            return fig.toolbar_button_onclick(name);\n",
       "        };\n",
       "    }\n",
       "\n",
       "    function on_mouseover_closure(tooltip) {\n",
       "        return function (event) {\n",
       "            if (!event.currentTarget.disabled) {\n",
       "                return fig.toolbar_button_onmouseover(tooltip);\n",
       "            }\n",
       "        };\n",
       "    }\n",
       "\n",
       "    fig.buttons = {};\n",
       "    var buttonGroup = document.createElement('div');\n",
       "    buttonGroup.classList = 'mpl-button-group';\n",
       "    for (var toolbar_ind in mpl.toolbar_items) {\n",
       "        var name = mpl.toolbar_items[toolbar_ind][0];\n",
       "        var tooltip = mpl.toolbar_items[toolbar_ind][1];\n",
       "        var image = mpl.toolbar_items[toolbar_ind][2];\n",
       "        var method_name = mpl.toolbar_items[toolbar_ind][3];\n",
       "\n",
       "        if (!name) {\n",
       "            /* Instead of a spacer, we start a new button group. */\n",
       "            if (buttonGroup.hasChildNodes()) {\n",
       "                toolbar.appendChild(buttonGroup);\n",
       "            }\n",
       "            buttonGroup = document.createElement('div');\n",
       "            buttonGroup.classList = 'mpl-button-group';\n",
       "            continue;\n",
       "        }\n",
       "\n",
       "        var button = (fig.buttons[name] = document.createElement('button'));\n",
       "        button.classList = 'mpl-widget';\n",
       "        button.setAttribute('role', 'button');\n",
       "        button.setAttribute('aria-disabled', 'false');\n",
       "        button.addEventListener('click', on_click_closure(method_name));\n",
       "        button.addEventListener('mouseover', on_mouseover_closure(tooltip));\n",
       "\n",
       "        var icon_img = document.createElement('img');\n",
       "        icon_img.src = '_images/' + image + '.png';\n",
       "        icon_img.srcset = '_images/' + image + '_large.png 2x';\n",
       "        icon_img.alt = tooltip;\n",
       "        button.appendChild(icon_img);\n",
       "\n",
       "        buttonGroup.appendChild(button);\n",
       "    }\n",
       "\n",
       "    if (buttonGroup.hasChildNodes()) {\n",
       "        toolbar.appendChild(buttonGroup);\n",
       "    }\n",
       "\n",
       "    var fmt_picker = document.createElement('select');\n",
       "    fmt_picker.classList = 'mpl-widget';\n",
       "    toolbar.appendChild(fmt_picker);\n",
       "    this.format_dropdown = fmt_picker;\n",
       "\n",
       "    for (var ind in mpl.extensions) {\n",
       "        var fmt = mpl.extensions[ind];\n",
       "        var option = document.createElement('option');\n",
       "        option.selected = fmt === mpl.default_extension;\n",
       "        option.innerHTML = fmt;\n",
       "        fmt_picker.appendChild(option);\n",
       "    }\n",
       "\n",
       "    var status_bar = document.createElement('span');\n",
       "    status_bar.classList = 'mpl-message';\n",
       "    toolbar.appendChild(status_bar);\n",
       "    this.message = status_bar;\n",
       "};\n",
       "\n",
       "mpl.figure.prototype.request_resize = function (x_pixels, y_pixels) {\n",
       "    // Request matplotlib to resize the figure. Matplotlib will then trigger a resize in the client,\n",
       "    // which will in turn request a refresh of the image.\n",
       "    this.send_message('resize', { width: x_pixels, height: y_pixels });\n",
       "};\n",
       "\n",
       "mpl.figure.prototype.send_message = function (type, properties) {\n",
       "    properties['type'] = type;\n",
       "    properties['figure_id'] = this.id;\n",
       "    this.ws.send(JSON.stringify(properties));\n",
       "};\n",
       "\n",
       "mpl.figure.prototype.send_draw_message = function () {\n",
       "    if (!this.waiting) {\n",
       "        this.waiting = true;\n",
       "        this.ws.send(JSON.stringify({ type: 'draw', figure_id: this.id }));\n",
       "    }\n",
       "};\n",
       "\n",
       "mpl.figure.prototype.handle_save = function (fig, _msg) {\n",
       "    var format_dropdown = fig.format_dropdown;\n",
       "    var format = format_dropdown.options[format_dropdown.selectedIndex].value;\n",
       "    fig.ondownload(fig, format);\n",
       "};\n",
       "\n",
       "mpl.figure.prototype.handle_resize = function (fig, msg) {\n",
       "    var size = msg['size'];\n",
       "    if (size[0] !== fig.canvas.width || size[1] !== fig.canvas.height) {\n",
       "        fig._resize_canvas(size[0], size[1], msg['forward']);\n",
       "        fig.send_message('refresh', {});\n",
       "    }\n",
       "};\n",
       "\n",
       "mpl.figure.prototype.handle_rubberband = function (fig, msg) {\n",
       "    var x0 = msg['x0'] / fig.ratio;\n",
       "    var y0 = (fig.canvas.height - msg['y0']) / fig.ratio;\n",
       "    var x1 = msg['x1'] / fig.ratio;\n",
       "    var y1 = (fig.canvas.height - msg['y1']) / fig.ratio;\n",
       "    x0 = Math.floor(x0) + 0.5;\n",
       "    y0 = Math.floor(y0) + 0.5;\n",
       "    x1 = Math.floor(x1) + 0.5;\n",
       "    y1 = Math.floor(y1) + 0.5;\n",
       "    var min_x = Math.min(x0, x1);\n",
       "    var min_y = Math.min(y0, y1);\n",
       "    var width = Math.abs(x1 - x0);\n",
       "    var height = Math.abs(y1 - y0);\n",
       "\n",
       "    fig.rubberband_context.clearRect(\n",
       "        0,\n",
       "        0,\n",
       "        fig.canvas.width / fig.ratio,\n",
       "        fig.canvas.height / fig.ratio\n",
       "    );\n",
       "\n",
       "    fig.rubberband_context.strokeRect(min_x, min_y, width, height);\n",
       "};\n",
       "\n",
       "mpl.figure.prototype.handle_figure_label = function (fig, msg) {\n",
       "    // Updates the figure title.\n",
       "    fig.header.textContent = msg['label'];\n",
       "};\n",
       "\n",
       "mpl.figure.prototype.handle_cursor = function (fig, msg) {\n",
       "    fig.rubberband_canvas.style.cursor = msg['cursor'];\n",
       "};\n",
       "\n",
       "mpl.figure.prototype.handle_message = function (fig, msg) {\n",
       "    fig.message.textContent = msg['message'];\n",
       "};\n",
       "\n",
       "mpl.figure.prototype.handle_draw = function (fig, _msg) {\n",
       "    // Request the server to send over a new figure.\n",
       "    fig.send_draw_message();\n",
       "};\n",
       "\n",
       "mpl.figure.prototype.handle_image_mode = function (fig, msg) {\n",
       "    fig.image_mode = msg['mode'];\n",
       "};\n",
       "\n",
       "mpl.figure.prototype.handle_history_buttons = function (fig, msg) {\n",
       "    for (var key in msg) {\n",
       "        if (!(key in fig.buttons)) {\n",
       "            continue;\n",
       "        }\n",
       "        fig.buttons[key].disabled = !msg[key];\n",
       "        fig.buttons[key].setAttribute('aria-disabled', !msg[key]);\n",
       "    }\n",
       "};\n",
       "\n",
       "mpl.figure.prototype.handle_navigate_mode = function (fig, msg) {\n",
       "    if (msg['mode'] === 'PAN') {\n",
       "        fig.buttons['Pan'].classList.add('active');\n",
       "        fig.buttons['Zoom'].classList.remove('active');\n",
       "    } else if (msg['mode'] === 'ZOOM') {\n",
       "        fig.buttons['Pan'].classList.remove('active');\n",
       "        fig.buttons['Zoom'].classList.add('active');\n",
       "    } else {\n",
       "        fig.buttons['Pan'].classList.remove('active');\n",
       "        fig.buttons['Zoom'].classList.remove('active');\n",
       "    }\n",
       "};\n",
       "\n",
       "mpl.figure.prototype.updated_canvas_event = function () {\n",
       "    // Called whenever the canvas gets updated.\n",
       "    this.send_message('ack', {});\n",
       "};\n",
       "\n",
       "// A function to construct a web socket function for onmessage handling.\n",
       "// Called in the figure constructor.\n",
       "mpl.figure.prototype._make_on_message_function = function (fig) {\n",
       "    return function socket_on_message(evt) {\n",
       "        if (evt.data instanceof Blob) {\n",
       "            var img = evt.data;\n",
       "            if (img.type !== 'image/png') {\n",
       "                /* FIXME: We get \"Resource interpreted as Image but\n",
       "                 * transferred with MIME type text/plain:\" errors on\n",
       "                 * Chrome.  But how to set the MIME type?  It doesn't seem\n",
       "                 * to be part of the websocket stream */\n",
       "                img.type = 'image/png';\n",
       "            }\n",
       "\n",
       "            /* Free the memory for the previous frames */\n",
       "            if (fig.imageObj.src) {\n",
       "                (window.URL || window.webkitURL).revokeObjectURL(\n",
       "                    fig.imageObj.src\n",
       "                );\n",
       "            }\n",
       "\n",
       "            fig.imageObj.src = (window.URL || window.webkitURL).createObjectURL(\n",
       "                img\n",
       "            );\n",
       "            fig.updated_canvas_event();\n",
       "            fig.waiting = false;\n",
       "            return;\n",
       "        } else if (\n",
       "            typeof evt.data === 'string' &&\n",
       "            evt.data.slice(0, 21) === 'data:image/png;base64'\n",
       "        ) {\n",
       "            fig.imageObj.src = evt.data;\n",
       "            fig.updated_canvas_event();\n",
       "            fig.waiting = false;\n",
       "            return;\n",
       "        }\n",
       "\n",
       "        var msg = JSON.parse(evt.data);\n",
       "        var msg_type = msg['type'];\n",
       "\n",
       "        // Call the  \"handle_{type}\" callback, which takes\n",
       "        // the figure and JSON message as its only arguments.\n",
       "        try {\n",
       "            var callback = fig['handle_' + msg_type];\n",
       "        } catch (e) {\n",
       "            console.log(\n",
       "                \"No handler for the '\" + msg_type + \"' message type: \",\n",
       "                msg\n",
       "            );\n",
       "            return;\n",
       "        }\n",
       "\n",
       "        if (callback) {\n",
       "            try {\n",
       "                // console.log(\"Handling '\" + msg_type + \"' message: \", msg);\n",
       "                callback(fig, msg);\n",
       "            } catch (e) {\n",
       "                console.log(\n",
       "                    \"Exception inside the 'handler_\" + msg_type + \"' callback:\",\n",
       "                    e,\n",
       "                    e.stack,\n",
       "                    msg\n",
       "                );\n",
       "            }\n",
       "        }\n",
       "    };\n",
       "};\n",
       "\n",
       "// from https://stackoverflow.com/questions/1114465/getting-mouse-location-in-canvas\n",
       "mpl.findpos = function (e) {\n",
       "    //this section is from http://www.quirksmode.org/js/events_properties.html\n",
       "    var targ;\n",
       "    if (!e) {\n",
       "        e = window.event;\n",
       "    }\n",
       "    if (e.target) {\n",
       "        targ = e.target;\n",
       "    } else if (e.srcElement) {\n",
       "        targ = e.srcElement;\n",
       "    }\n",
       "    if (targ.nodeType === 3) {\n",
       "        // defeat Safari bug\n",
       "        targ = targ.parentNode;\n",
       "    }\n",
       "\n",
       "    // pageX,Y are the mouse positions relative to the document\n",
       "    var boundingRect = targ.getBoundingClientRect();\n",
       "    var x = e.pageX - (boundingRect.left + document.body.scrollLeft);\n",
       "    var y = e.pageY - (boundingRect.top + document.body.scrollTop);\n",
       "\n",
       "    return { x: x, y: y };\n",
       "};\n",
       "\n",
       "/*\n",
       " * return a copy of an object with only non-object keys\n",
       " * we need this to avoid circular references\n",
       " * https://stackoverflow.com/a/24161582/3208463\n",
       " */\n",
       "function simpleKeys(original) {\n",
       "    return Object.keys(original).reduce(function (obj, key) {\n",
       "        if (typeof original[key] !== 'object') {\n",
       "            obj[key] = original[key];\n",
       "        }\n",
       "        return obj;\n",
       "    }, {});\n",
       "}\n",
       "\n",
       "mpl.figure.prototype.mouse_event = function (event, name) {\n",
       "    var canvas_pos = mpl.findpos(event);\n",
       "\n",
       "    if (name === 'button_press') {\n",
       "        this.canvas.focus();\n",
       "        this.canvas_div.focus();\n",
       "    }\n",
       "\n",
       "    var x = canvas_pos.x * this.ratio;\n",
       "    var y = canvas_pos.y * this.ratio;\n",
       "\n",
       "    this.send_message(name, {\n",
       "        x: x,\n",
       "        y: y,\n",
       "        button: event.button,\n",
       "        step: event.step,\n",
       "        guiEvent: simpleKeys(event),\n",
       "    });\n",
       "\n",
       "    /* This prevents the web browser from automatically changing to\n",
       "     * the text insertion cursor when the button is pressed.  We want\n",
       "     * to control all of the cursor setting manually through the\n",
       "     * 'cursor' event from matplotlib */\n",
       "    event.preventDefault();\n",
       "    return false;\n",
       "};\n",
       "\n",
       "mpl.figure.prototype._key_event_extra = function (_event, _name) {\n",
       "    // Handle any extra behaviour associated with a key event\n",
       "};\n",
       "\n",
       "mpl.figure.prototype.key_event = function (event, name) {\n",
       "    // Prevent repeat events\n",
       "    if (name === 'key_press') {\n",
       "        if (event.key === this._key) {\n",
       "            return;\n",
       "        } else {\n",
       "            this._key = event.key;\n",
       "        }\n",
       "    }\n",
       "    if (name === 'key_release') {\n",
       "        this._key = null;\n",
       "    }\n",
       "\n",
       "    var value = '';\n",
       "    if (event.ctrlKey && event.key !== 'Control') {\n",
       "        value += 'ctrl+';\n",
       "    }\n",
       "    else if (event.altKey && event.key !== 'Alt') {\n",
       "        value += 'alt+';\n",
       "    }\n",
       "    else if (event.shiftKey && event.key !== 'Shift') {\n",
       "        value += 'shift+';\n",
       "    }\n",
       "\n",
       "    value += 'k' + event.key;\n",
       "\n",
       "    this._key_event_extra(event, name);\n",
       "\n",
       "    this.send_message(name, { key: value, guiEvent: simpleKeys(event) });\n",
       "    return false;\n",
       "};\n",
       "\n",
       "mpl.figure.prototype.toolbar_button_onclick = function (name) {\n",
       "    if (name === 'download') {\n",
       "        this.handle_save(this, null);\n",
       "    } else {\n",
       "        this.send_message('toolbar_button', { name: name });\n",
       "    }\n",
       "};\n",
       "\n",
       "mpl.figure.prototype.toolbar_button_onmouseover = function (tooltip) {\n",
       "    this.message.textContent = tooltip;\n",
       "};\n",
       "\n",
       "///////////////// REMAINING CONTENT GENERATED BY embed_js.py /////////////////\n",
       "// prettier-ignore\n",
       "var _JSXTOOLS_RESIZE_OBSERVER=function(A){var t,i=new WeakMap,n=new WeakMap,a=new WeakMap,r=new WeakMap,o=new Set;function s(e){if(!(this instanceof s))throw new TypeError(\"Constructor requires 'new' operator\");i.set(this,e)}function h(){throw new TypeError(\"Function is not a constructor\")}function c(e,t,i,n){e=0 in arguments?Number(arguments[0]):0,t=1 in arguments?Number(arguments[1]):0,i=2 in arguments?Number(arguments[2]):0,n=3 in arguments?Number(arguments[3]):0,this.right=(this.x=this.left=e)+(this.width=i),this.bottom=(this.y=this.top=t)+(this.height=n),Object.freeze(this)}function d(){t=requestAnimationFrame(d);var s=new WeakMap,p=new Set;o.forEach((function(t){r.get(t).forEach((function(i){var r=t instanceof window.SVGElement,o=a.get(t),d=r?0:parseFloat(o.paddingTop),f=r?0:parseFloat(o.paddingRight),l=r?0:parseFloat(o.paddingBottom),u=r?0:parseFloat(o.paddingLeft),g=r?0:parseFloat(o.borderTopWidth),m=r?0:parseFloat(o.borderRightWidth),w=r?0:parseFloat(o.borderBottomWidth),b=u+f,F=d+l,v=(r?0:parseFloat(o.borderLeftWidth))+m,W=g+w,y=r?0:t.offsetHeight-W-t.clientHeight,E=r?0:t.offsetWidth-v-t.clientWidth,R=b+v,z=F+W,M=r?t.width:parseFloat(o.width)-R-E,O=r?t.height:parseFloat(o.height)-z-y;if(n.has(t)){var k=n.get(t);if(k[0]===M&&k[1]===O)return}n.set(t,[M,O]);var S=Object.create(h.prototype);S.target=t,S.contentRect=new c(u,d,M,O),s.has(i)||(s.set(i,[]),p.add(i)),s.get(i).push(S)}))})),p.forEach((function(e){i.get(e).call(e,s.get(e),e)}))}return s.prototype.observe=function(i){if(i instanceof window.Element){r.has(i)||(r.set(i,new Set),o.add(i),a.set(i,window.getComputedStyle(i)));var n=r.get(i);n.has(this)||n.add(this),cancelAnimationFrame(t),t=requestAnimationFrame(d)}},s.prototype.unobserve=function(i){if(i instanceof window.Element&&r.has(i)){var n=r.get(i);n.has(this)&&(n.delete(this),n.size||(r.delete(i),o.delete(i))),n.size||r.delete(i),o.size||cancelAnimationFrame(t)}},A.DOMRectReadOnly=c,A.ResizeObserver=s,A.ResizeObserverEntry=h,A}; // eslint-disable-line\n",
       "mpl.toolbar_items = [[\"Home\", \"Reset original view\", \"fa fa-home icon-home\", \"home\"], [\"Back\", \"Back to previous view\", \"fa fa-arrow-left icon-arrow-left\", \"back\"], [\"Forward\", \"Forward to next view\", \"fa fa-arrow-right icon-arrow-right\", \"forward\"], [\"\", \"\", \"\", \"\"], [\"Pan\", \"Left button pans, Right button zooms\\nx/y fixes axis, CTRL fixes aspect\", \"fa fa-arrows icon-move\", \"pan\"], [\"Zoom\", \"Zoom to rectangle\\nx/y fixes axis\", \"fa fa-square-o icon-check-empty\", \"zoom\"], [\"\", \"\", \"\", \"\"], [\"Download\", \"Download plot\", \"fa fa-floppy-o icon-save\", \"download\"]];\n",
       "\n",
       "mpl.extensions = [\"eps\", \"jpeg\", \"pgf\", \"pdf\", \"png\", \"ps\", \"raw\", \"svg\", \"tif\"];\n",
       "\n",
       "mpl.default_extension = \"png\";/* global mpl */\n",
       "\n",
       "var comm_websocket_adapter = function (comm) {\n",
       "    // Create a \"websocket\"-like object which calls the given IPython comm\n",
       "    // object with the appropriate methods. Currently this is a non binary\n",
       "    // socket, so there is still some room for performance tuning.\n",
       "    var ws = {};\n",
       "\n",
       "    ws.binaryType = comm.kernel.ws.binaryType;\n",
       "    ws.readyState = comm.kernel.ws.readyState;\n",
       "    function updateReadyState(_event) {\n",
       "        if (comm.kernel.ws) {\n",
       "            ws.readyState = comm.kernel.ws.readyState;\n",
       "        } else {\n",
       "            ws.readyState = 3; // Closed state.\n",
       "        }\n",
       "    }\n",
       "    comm.kernel.ws.addEventListener('open', updateReadyState);\n",
       "    comm.kernel.ws.addEventListener('close', updateReadyState);\n",
       "    comm.kernel.ws.addEventListener('error', updateReadyState);\n",
       "\n",
       "    ws.close = function () {\n",
       "        comm.close();\n",
       "    };\n",
       "    ws.send = function (m) {\n",
       "        //console.log('sending', m);\n",
       "        comm.send(m);\n",
       "    };\n",
       "    // Register the callback with on_msg.\n",
       "    comm.on_msg(function (msg) {\n",
       "        //console.log('receiving', msg['content']['data'], msg);\n",
       "        var data = msg['content']['data'];\n",
       "        if (data['blob'] !== undefined) {\n",
       "            data = {\n",
       "                data: new Blob(msg['buffers'], { type: data['blob'] }),\n",
       "            };\n",
       "        }\n",
       "        // Pass the mpl event to the overridden (by mpl) onmessage function.\n",
       "        ws.onmessage(data);\n",
       "    });\n",
       "    return ws;\n",
       "};\n",
       "\n",
       "mpl.mpl_figure_comm = function (comm, msg) {\n",
       "    // This is the function which gets called when the mpl process\n",
       "    // starts-up an IPython Comm through the \"matplotlib\" channel.\n",
       "\n",
       "    var id = msg.content.data.id;\n",
       "    // Get hold of the div created by the display call when the Comm\n",
       "    // socket was opened in Python.\n",
       "    var element = document.getElementById(id);\n",
       "    var ws_proxy = comm_websocket_adapter(comm);\n",
       "\n",
       "    function ondownload(figure, _format) {\n",
       "        window.open(figure.canvas.toDataURL());\n",
       "    }\n",
       "\n",
       "    var fig = new mpl.figure(id, ws_proxy, ondownload, element);\n",
       "\n",
       "    // Call onopen now - mpl needs it, as it is assuming we've passed it a real\n",
       "    // web socket which is closed, not our websocket->open comm proxy.\n",
       "    ws_proxy.onopen();\n",
       "\n",
       "    fig.parent_element = element;\n",
       "    fig.cell_info = mpl.find_output_cell(\"<div id='\" + id + \"'></div>\");\n",
       "    if (!fig.cell_info) {\n",
       "        console.error('Failed to find cell for figure', id, fig);\n",
       "        return;\n",
       "    }\n",
       "    fig.cell_info[0].output_area.element.on(\n",
       "        'cleared',\n",
       "        { fig: fig },\n",
       "        fig._remove_fig_handler\n",
       "    );\n",
       "};\n",
       "\n",
       "mpl.figure.prototype.handle_close = function (fig, msg) {\n",
       "    var width = fig.canvas.width / fig.ratio;\n",
       "    fig.cell_info[0].output_area.element.off(\n",
       "        'cleared',\n",
       "        fig._remove_fig_handler\n",
       "    );\n",
       "    fig.resizeObserverInstance.unobserve(fig.canvas_div);\n",
       "\n",
       "    // Update the output cell to use the data from the current canvas.\n",
       "    fig.push_to_output();\n",
       "    var dataURL = fig.canvas.toDataURL();\n",
       "    // Re-enable the keyboard manager in IPython - without this line, in FF,\n",
       "    // the notebook keyboard shortcuts fail.\n",
       "    IPython.keyboard_manager.enable();\n",
       "    fig.parent_element.innerHTML =\n",
       "        '<img src=\"' + dataURL + '\" width=\"' + width + '\">';\n",
       "    fig.close_ws(fig, msg);\n",
       "};\n",
       "\n",
       "mpl.figure.prototype.close_ws = function (fig, msg) {\n",
       "    fig.send_message('closing', msg);\n",
       "    // fig.ws.close()\n",
       "};\n",
       "\n",
       "mpl.figure.prototype.push_to_output = function (_remove_interactive) {\n",
       "    // Turn the data on the canvas into data in the output cell.\n",
       "    var width = this.canvas.width / this.ratio;\n",
       "    var dataURL = this.canvas.toDataURL();\n",
       "    this.cell_info[1]['text/html'] =\n",
       "        '<img src=\"' + dataURL + '\" width=\"' + width + '\">';\n",
       "};\n",
       "\n",
       "mpl.figure.prototype.updated_canvas_event = function () {\n",
       "    // Tell IPython that the notebook contents must change.\n",
       "    IPython.notebook.set_dirty(true);\n",
       "    this.send_message('ack', {});\n",
       "    var fig = this;\n",
       "    // Wait a second, then push the new image to the DOM so\n",
       "    // that it is saved nicely (might be nice to debounce this).\n",
       "    setTimeout(function () {\n",
       "        fig.push_to_output();\n",
       "    }, 1000);\n",
       "};\n",
       "\n",
       "mpl.figure.prototype._init_toolbar = function () {\n",
       "    var fig = this;\n",
       "\n",
       "    var toolbar = document.createElement('div');\n",
       "    toolbar.classList = 'btn-toolbar';\n",
       "    this.root.appendChild(toolbar);\n",
       "\n",
       "    function on_click_closure(name) {\n",
       "        return function (_event) {\n",
       "            return fig.toolbar_button_onclick(name);\n",
       "        };\n",
       "    }\n",
       "\n",
       "    function on_mouseover_closure(tooltip) {\n",
       "        return function (event) {\n",
       "            if (!event.currentTarget.disabled) {\n",
       "                return fig.toolbar_button_onmouseover(tooltip);\n",
       "            }\n",
       "        };\n",
       "    }\n",
       "\n",
       "    fig.buttons = {};\n",
       "    var buttonGroup = document.createElement('div');\n",
       "    buttonGroup.classList = 'btn-group';\n",
       "    var button;\n",
       "    for (var toolbar_ind in mpl.toolbar_items) {\n",
       "        var name = mpl.toolbar_items[toolbar_ind][0];\n",
       "        var tooltip = mpl.toolbar_items[toolbar_ind][1];\n",
       "        var image = mpl.toolbar_items[toolbar_ind][2];\n",
       "        var method_name = mpl.toolbar_items[toolbar_ind][3];\n",
       "\n",
       "        if (!name) {\n",
       "            /* Instead of a spacer, we start a new button group. */\n",
       "            if (buttonGroup.hasChildNodes()) {\n",
       "                toolbar.appendChild(buttonGroup);\n",
       "            }\n",
       "            buttonGroup = document.createElement('div');\n",
       "            buttonGroup.classList = 'btn-group';\n",
       "            continue;\n",
       "        }\n",
       "\n",
       "        button = fig.buttons[name] = document.createElement('button');\n",
       "        button.classList = 'btn btn-default';\n",
       "        button.href = '#';\n",
       "        button.title = name;\n",
       "        button.innerHTML = '<i class=\"fa ' + image + ' fa-lg\"></i>';\n",
       "        button.addEventListener('click', on_click_closure(method_name));\n",
       "        button.addEventListener('mouseover', on_mouseover_closure(tooltip));\n",
       "        buttonGroup.appendChild(button);\n",
       "    }\n",
       "\n",
       "    if (buttonGroup.hasChildNodes()) {\n",
       "        toolbar.appendChild(buttonGroup);\n",
       "    }\n",
       "\n",
       "    // Add the status bar.\n",
       "    var status_bar = document.createElement('span');\n",
       "    status_bar.classList = 'mpl-message pull-right';\n",
       "    toolbar.appendChild(status_bar);\n",
       "    this.message = status_bar;\n",
       "\n",
       "    // Add the close button to the window.\n",
       "    var buttongrp = document.createElement('div');\n",
       "    buttongrp.classList = 'btn-group inline pull-right';\n",
       "    button = document.createElement('button');\n",
       "    button.classList = 'btn btn-mini btn-primary';\n",
       "    button.href = '#';\n",
       "    button.title = 'Stop Interaction';\n",
       "    button.innerHTML = '<i class=\"fa fa-power-off icon-remove icon-large\"></i>';\n",
       "    button.addEventListener('click', function (_evt) {\n",
       "        fig.handle_close(fig, {});\n",
       "    });\n",
       "    button.addEventListener(\n",
       "        'mouseover',\n",
       "        on_mouseover_closure('Stop Interaction')\n",
       "    );\n",
       "    buttongrp.appendChild(button);\n",
       "    var titlebar = this.root.querySelector('.ui-dialog-titlebar');\n",
       "    titlebar.insertBefore(buttongrp, titlebar.firstChild);\n",
       "};\n",
       "\n",
       "mpl.figure.prototype._remove_fig_handler = function (event) {\n",
       "    var fig = event.data.fig;\n",
       "    if (event.target !== this) {\n",
       "        // Ignore bubbled events from children.\n",
       "        return;\n",
       "    }\n",
       "    fig.close_ws(fig, {});\n",
       "};\n",
       "\n",
       "mpl.figure.prototype._root_extra_style = function (el) {\n",
       "    el.style.boxSizing = 'content-box'; // override notebook setting of border-box.\n",
       "};\n",
       "\n",
       "mpl.figure.prototype._canvas_extra_style = function (el) {\n",
       "    // this is important to make the div 'focusable\n",
       "    el.setAttribute('tabindex', 0);\n",
       "    // reach out to IPython and tell the keyboard manager to turn it's self\n",
       "    // off when our div gets focus\n",
       "\n",
       "    // location in version 3\n",
       "    if (IPython.notebook.keyboard_manager) {\n",
       "        IPython.notebook.keyboard_manager.register_events(el);\n",
       "    } else {\n",
       "        // location in version 2\n",
       "        IPython.keyboard_manager.register_events(el);\n",
       "    }\n",
       "};\n",
       "\n",
       "mpl.figure.prototype._key_event_extra = function (event, _name) {\n",
       "    // Check for shift+enter\n",
       "    if (event.shiftKey && event.which === 13) {\n",
       "        this.canvas_div.blur();\n",
       "        // select the cell after this one\n",
       "        var index = IPython.notebook.find_cell_index(this.cell_info[0]);\n",
       "        IPython.notebook.select(index + 1);\n",
       "    }\n",
       "};\n",
       "\n",
       "mpl.figure.prototype.handle_save = function (fig, _msg) {\n",
       "    fig.ondownload(fig, null);\n",
       "};\n",
       "\n",
       "mpl.find_output_cell = function (html_output) {\n",
       "    // Return the cell and output element which can be found *uniquely* in the notebook.\n",
       "    // Note - this is a bit hacky, but it is done because the \"notebook_saving.Notebook\"\n",
       "    // IPython event is triggered only after the cells have been serialised, which for\n",
       "    // our purposes (turning an active figure into a static one), is too late.\n",
       "    var cells = IPython.notebook.get_cells();\n",
       "    var ncells = cells.length;\n",
       "    for (var i = 0; i < ncells; i++) {\n",
       "        var cell = cells[i];\n",
       "        if (cell.cell_type === 'code') {\n",
       "            for (var j = 0; j < cell.output_area.outputs.length; j++) {\n",
       "                var data = cell.output_area.outputs[j];\n",
       "                if (data.data) {\n",
       "                    // IPython >= 3 moved mimebundle to data attribute of output\n",
       "                    data = data.data;\n",
       "                }\n",
       "                if (data['text/html'] === html_output) {\n",
       "                    return [cell, data, j];\n",
       "                }\n",
       "            }\n",
       "        }\n",
       "    }\n",
       "};\n",
       "\n",
       "// Register the function which deals with the matplotlib target/channel.\n",
       "// The kernel may be null if the page has been refreshed.\n",
       "if (IPython.notebook.kernel !== null) {\n",
       "    IPython.notebook.kernel.comm_manager.register_target(\n",
       "        'matplotlib',\n",
       "        mpl.mpl_figure_comm\n",
       "    );\n",
       "}\n"
      ],
      "text/plain": [
       "<IPython.core.display.Javascript object>"
      ]
     },
     "metadata": {},
     "output_type": "display_data"
    },
    {
     "data": {
      "text/html": [
       "<img src=\"data:image/png;base64,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\" width=\"1000\">"
      ],
      "text/plain": [
       "<IPython.core.display.HTML object>"
      ]
     },
     "metadata": {},
     "output_type": "display_data"
    }
   ],
   "source": [
    "plt.figure(figsize=(10,6))\n",
    "plt.scatter(x1, y)\n",
    "plt.xlabel('Female Youth Depression', fontsize=14)\n",
    "plt.ylabel('Social Media Use', fontsize=14);"
   ]
  },
  {
   "cell_type": "code",
   "execution_count": 140,
   "id": "fbd77f53",
   "metadata": {},
   "outputs": [
    {
     "name": "stderr",
     "output_type": "stream",
     "text": [
      "C:\\Users\\cmwill\\anaconda3\\envs\\cap2\\lib\\site-packages\\scipy\\stats\\stats.py:1542: UserWarning:\n",
      "\n",
      "kurtosistest only valid for n>=20 ... continuing anyway, n=8\n",
      "\n"
     ]
    },
    {
     "data": {
      "text/html": [
       "<table class=\"simpletable\">\n",
       "<caption>OLS Regression Results</caption>\n",
       "<tr>\n",
       "  <th>Dep. Variable:</th>    <td>f_youth_depression</td> <th>  R-squared:         </th> <td>   0.934</td>\n",
       "</tr>\n",
       "<tr>\n",
       "  <th>Model:</th>                    <td>OLS</td>        <th>  Adj. R-squared:    </th> <td>   0.923</td>\n",
       "</tr>\n",
       "<tr>\n",
       "  <th>Method:</th>              <td>Least Squares</td>   <th>  F-statistic:       </th> <td>   84.60</td>\n",
       "</tr>\n",
       "<tr>\n",
       "  <th>Date:</th>              <td>Fri, 07 Oct 2022</td>  <th>  Prob (F-statistic):</th> <td>9.31e-05</td>\n",
       "</tr>\n",
       "<tr>\n",
       "  <th>Time:</th>                  <td>10:34:58</td>      <th>  Log-Likelihood:    </th> <td> -10.526</td>\n",
       "</tr>\n",
       "<tr>\n",
       "  <th>No. Observations:</th>       <td>     8</td>       <th>  AIC:               </th> <td>   25.05</td>\n",
       "</tr>\n",
       "<tr>\n",
       "  <th>Df Residuals:</th>           <td>     6</td>       <th>  BIC:               </th> <td>   25.21</td>\n",
       "</tr>\n",
       "<tr>\n",
       "  <th>Df Model:</th>               <td>     1</td>       <th>                     </th>     <td> </td>   \n",
       "</tr>\n",
       "<tr>\n",
       "  <th>Covariance Type:</th>       <td>nonrobust</td>     <th>                     </th>     <td> </td>   \n",
       "</tr>\n",
       "</table>\n",
       "<table class=\"simpletable\">\n",
       "<tr>\n",
       "          <td></td>            <th>coef</th>     <th>std err</th>      <th>t</th>      <th>P>|t|</th>  <th>[0.025</th>    <th>0.975]</th>  \n",
       "</tr>\n",
       "<tr>\n",
       "  <th>const</th>            <td>  -12.0412</td> <td>    3.269</td> <td>   -3.683</td> <td> 0.010</td> <td>  -20.041</td> <td>   -4.042</td>\n",
       "</tr>\n",
       "<tr>\n",
       "  <th>social_media_use</th> <td>    0.4743</td> <td>    0.052</td> <td>    9.198</td> <td> 0.000</td> <td>    0.348</td> <td>    0.600</td>\n",
       "</tr>\n",
       "</table>\n",
       "<table class=\"simpletable\">\n",
       "<tr>\n",
       "  <th>Omnibus:</th>       <td> 1.882</td> <th>  Durbin-Watson:     </th> <td>   2.259</td>\n",
       "</tr>\n",
       "<tr>\n",
       "  <th>Prob(Omnibus):</th> <td> 0.390</td> <th>  Jarque-Bera (JB):  </th> <td>   1.143</td>\n",
       "</tr>\n",
       "<tr>\n",
       "  <th>Skew:</th>          <td>-0.817</td> <th>  Prob(JB):          </th> <td>   0.565</td>\n",
       "</tr>\n",
       "<tr>\n",
       "  <th>Kurtosis:</th>      <td> 2.130</td> <th>  Cond. No.          </th> <td>    563.</td>\n",
       "</tr>\n",
       "</table><br/><br/>Notes:<br/>[1] Standard Errors assume that the covariance matrix of the errors is correctly specified."
      ],
      "text/plain": [
       "<class 'statsmodels.iolib.summary.Summary'>\n",
       "\"\"\"\n",
       "                            OLS Regression Results                            \n",
       "==============================================================================\n",
       "Dep. Variable:     f_youth_depression   R-squared:                       0.934\n",
       "Model:                            OLS   Adj. R-squared:                  0.923\n",
       "Method:                 Least Squares   F-statistic:                     84.60\n",
       "Date:                Fri, 07 Oct 2022   Prob (F-statistic):           9.31e-05\n",
       "Time:                        10:34:58   Log-Likelihood:                -10.526\n",
       "No. Observations:                   8   AIC:                             25.05\n",
       "Df Residuals:                       6   BIC:                             25.21\n",
       "Df Model:                           1                                         \n",
       "Covariance Type:            nonrobust                                         \n",
       "====================================================================================\n",
       "                       coef    std err          t      P>|t|      [0.025      0.975]\n",
       "------------------------------------------------------------------------------------\n",
       "const              -12.0412      3.269     -3.683      0.010     -20.041      -4.042\n",
       "social_media_use     0.4743      0.052      9.198      0.000       0.348       0.600\n",
       "==============================================================================\n",
       "Omnibus:                        1.882   Durbin-Watson:                   2.259\n",
       "Prob(Omnibus):                  0.390   Jarque-Bera (JB):                1.143\n",
       "Skew:                          -0.817   Prob(JB):                        0.565\n",
       "Kurtosis:                       2.130   Cond. No.                         563.\n",
       "==============================================================================\n",
       "\n",
       "Notes:\n",
       "[1] Standard Errors assume that the covariance matrix of the errors is correctly specified.\n",
       "\"\"\""
      ]
     },
     "execution_count": 140,
     "metadata": {},
     "output_type": "execute_result"
    }
   ],
   "source": [
    "x = sm.add_constant(x1)\n",
    "results = sm.OLS(y,x).fit()\n",
    "results.summary()"
   ]
  },
  {
   "cell_type": "code",
   "execution_count": 85,
   "id": "ec62bc80",
   "metadata": {},
   "outputs": [
    {
     "data": {
      "text/plain": [
       "<AxesSubplot:>"
      ]
     },
     "execution_count": 85,
     "metadata": {},
     "output_type": "execute_result"
    },
    {
     "data": {
      "image/png": "[encoded data removed]",
      "text/plain": [
       "<Figure size 640x480 with 2 Axes>"
      ]
     },
     "metadata": {},
     "output_type": "display_data"
    }
   ],
   "source": [
    "sns.heatmap(merged_master.corr(),annot=True)"
   ]
  },
  {
   "cell_type": "code",
   "execution_count": 86,
   "id": "476bc230",
   "metadata": {},
   "outputs": [
    {
     "data": {
      "text/html": [
       "<div>\n",
       "<style scoped>\n",
       "    .dataframe tbody tr th:only-of-type {\n",
       "        vertical-align: middle;\n",
       "    }\n",
       "\n",
       "    .dataframe tbody tr th {\n",
       "        vertical-align: top;\n",
       "    }\n",
       "\n",
       "    .dataframe thead th {\n",
       "        text-align: right;\n",
       "    }\n",
       "</style>\n",
       "<table border=\"1\" class=\"dataframe\">\n",
       "  <thead>\n",
       "    <tr style=\"text-align: right;\">\n",
       "      <th></th>\n",
       "      <th>year</th>\n",
       "      <th>Depression</th>\n",
       "      <th>Anxiety</th>\n",
       "      <th>Smartphone</th>\n",
       "      <th>social_media_use</th>\n",
       "      <th>m_youth_depression</th>\n",
       "      <th>f_youth_depression</th>\n",
       "    </tr>\n",
       "  </thead>\n",
       "  <tbody>\n",
       "    <tr>\n",
       "      <th>0</th>\n",
       "      <td>2011</td>\n",
       "      <td>4.91</td>\n",
       "      <td>6.22</td>\n",
       "      <td>35.0</td>\n",
       "      <td>50</td>\n",
       "      <td>4.5</td>\n",
       "      <td>12.1</td>\n",
       "    </tr>\n",
       "    <tr>\n",
       "      <th>1</th>\n",
       "      <td>2012</td>\n",
       "      <td>4.87</td>\n",
       "      <td>6.03</td>\n",
       "      <td>45.0</td>\n",
       "      <td>54</td>\n",
       "      <td>4.7</td>\n",
       "      <td>13.7</td>\n",
       "    </tr>\n",
       "    <tr>\n",
       "      <th>2</th>\n",
       "      <td>2013</td>\n",
       "      <td>4.83</td>\n",
       "      <td>5.84</td>\n",
       "      <td>58.0</td>\n",
       "      <td>63</td>\n",
       "      <td>5.3</td>\n",
       "      <td>16.2</td>\n",
       "    </tr>\n",
       "    <tr>\n",
       "      <th>3</th>\n",
       "      <td>2014</td>\n",
       "      <td>4.78</td>\n",
       "      <td>5.68</td>\n",
       "      <td>59.0</td>\n",
       "      <td>62</td>\n",
       "      <td>5.7</td>\n",
       "      <td>17.3</td>\n",
       "    </tr>\n",
       "    <tr>\n",
       "      <th>4</th>\n",
       "      <td>2015</td>\n",
       "      <td>4.75</td>\n",
       "      <td>5.61</td>\n",
       "      <td>69.0</td>\n",
       "      <td>65</td>\n",
       "      <td>5.8</td>\n",
       "      <td>19.5</td>\n",
       "    </tr>\n",
       "  </tbody>\n",
       "</table>\n",
       "</div>"
      ],
      "text/plain": [
       "   year  Depression  Anxiety  Smartphone  social_media_use  \\\n",
       "0  2011        4.91     6.22        35.0                50   \n",
       "1  2012        4.87     6.03        45.0                54   \n",
       "2  2013        4.83     5.84        58.0                63   \n",
       "3  2014        4.78     5.68        59.0                62   \n",
       "4  2015        4.75     5.61        69.0                65   \n",
       "\n",
       "   m_youth_depression  f_youth_depression  \n",
       "0                 4.5                12.1  \n",
       "1                 4.7                13.7  \n",
       "2                 5.3                16.2  \n",
       "3                 5.7                17.3  \n",
       "4                 5.8                19.5  "
      ]
     },
     "execution_count": 86,
     "metadata": {},
     "output_type": "execute_result"
    }
   ],
   "source": [
    "merged_master.head()"
   ]
  },
  {
   "cell_type": "code",
   "execution_count": 87,
   "id": "941f8827",
   "metadata": {},
   "outputs": [],
   "source": [
    "merged_master.to_csv('merged_master.csv',index=False)"
   ]
  },
  {
   "cell_type": "code",
   "execution_count": 88,
   "id": "87e821a3",
   "metadata": {},
   "outputs": [],
   "source": [
    "melted_master=merged_master.melt(id_vars='year')"
   ]
  },
  {
   "cell_type": "code",
   "execution_count": 120,
   "id": "f79b34c7",
   "metadata": {},
   "outputs": [
    {
     "data": {
      "text/html": [
       "<div>\n",
       "<style scoped>\n",
       "    .dataframe tbody tr th:only-of-type {\n",
       "        vertical-align: middle;\n",
       "    }\n",
       "\n",
       "    .dataframe tbody tr th {\n",
       "        vertical-align: top;\n",
       "    }\n",
       "\n",
       "    .dataframe thead th {\n",
       "        text-align: right;\n",
       "    }\n",
       "</style>\n",
       "<table border=\"1\" class=\"dataframe\">\n",
       "  <thead>\n",
       "    <tr style=\"text-align: right;\">\n",
       "      <th></th>\n",
       "      <th>year</th>\n",
       "      <th>Depression</th>\n",
       "      <th>Anxiety</th>\n",
       "      <th>Smartphone</th>\n",
       "      <th>social_media_use</th>\n",
       "      <th>m_youth_depression</th>\n",
       "      <th>f_youth_depression</th>\n",
       "    </tr>\n",
       "  </thead>\n",
       "  <tbody>\n",
       "    <tr>\n",
       "      <th>year</th>\n",
       "      <td>1.000000</td>\n",
       "      <td>-0.916981</td>\n",
       "      <td>-0.205518</td>\n",
       "      <td>0.946200</td>\n",
       "      <td>0.930361</td>\n",
       "      <td>0.977333</td>\n",
       "      <td>0.979969</td>\n",
       "    </tr>\n",
       "    <tr>\n",
       "      <th>Depression</th>\n",
       "      <td>-0.916981</td>\n",
       "      <td>1.000000</td>\n",
       "      <td>0.564400</td>\n",
       "      <td>-0.975642</td>\n",
       "      <td>-0.956668</td>\n",
       "      <td>-0.824260</td>\n",
       "      <td>-0.962944</td>\n",
       "    </tr>\n",
       "    <tr>\n",
       "      <th>Anxiety</th>\n",
       "      <td>-0.205518</td>\n",
       "      <td>0.564400</td>\n",
       "      <td>1.000000</td>\n",
       "      <td>-0.463180</td>\n",
       "      <td>-0.445970</td>\n",
       "      <td>-0.012516</td>\n",
       "      <td>-0.339207</td>\n",
       "    </tr>\n",
       "    <tr>\n",
       "      <th>Smartphone</th>\n",
       "      <td>0.946200</td>\n",
       "      <td>-0.975642</td>\n",
       "      <td>-0.463180</td>\n",
       "      <td>1.000000</td>\n",
       "      <td>0.990430</td>\n",
       "      <td>0.872763</td>\n",
       "      <td>0.975479</td>\n",
       "    </tr>\n",
       "    <tr>\n",
       "      <th>social_media_use</th>\n",
       "      <td>0.930361</td>\n",
       "      <td>-0.956668</td>\n",
       "      <td>-0.445970</td>\n",
       "      <td>0.990430</td>\n",
       "      <td>1.000000</td>\n",
       "      <td>0.870668</td>\n",
       "      <td>0.966320</td>\n",
       "    </tr>\n",
       "    <tr>\n",
       "      <th>m_youth_depression</th>\n",
       "      <td>0.977333</td>\n",
       "      <td>-0.824260</td>\n",
       "      <td>-0.012516</td>\n",
       "      <td>0.872763</td>\n",
       "      <td>0.870668</td>\n",
       "      <td>1.000000</td>\n",
       "      <td>0.933762</td>\n",
       "    </tr>\n",
       "    <tr>\n",
       "      <th>f_youth_depression</th>\n",
       "      <td>0.979969</td>\n",
       "      <td>-0.962944</td>\n",
       "      <td>-0.339207</td>\n",
       "      <td>0.975479</td>\n",
       "      <td>0.966320</td>\n",
       "      <td>0.933762</td>\n",
       "      <td>1.000000</td>\n",
       "    </tr>\n",
       "  </tbody>\n",
       "</table>\n",
       "</div>"
      ],
      "text/plain": [
       "                        year  Depression   Anxiety  Smartphone  \\\n",
       "year                1.000000   -0.916981 -0.205518    0.946200   \n",
       "Depression         -0.916981    1.000000  0.564400   -0.975642   \n",
       "Anxiety            -0.205518    0.564400  1.000000   -0.463180   \n",
       "Smartphone          0.946200   -0.975642 -0.463180    1.000000   \n",
       "social_media_use    0.930361   -0.956668 -0.445970    0.990430   \n",
       "m_youth_depression  0.977333   -0.824260 -0.012516    0.872763   \n",
       "f_youth_depression  0.979969   -0.962944 -0.339207    0.975479   \n",
       "\n",
       "                    social_media_use  m_youth_depression  f_youth_depression  \n",
       "year                        0.930361            0.977333            0.979969  \n",
       "Depression                 -0.956668           -0.824260           -0.962944  \n",
       "Anxiety                    -0.445970           -0.012516           -0.339207  \n",
       "Smartphone                  0.990430            0.872763            0.975479  \n",
       "social_media_use            1.000000            0.870668            0.966320  \n",
       "m_youth_depression          0.870668            1.000000            0.933762  \n",
       "f_youth_depression          0.966320            0.933762            1.000000  "
      ]
     },
     "execution_count": 120,
     "metadata": {},
     "output_type": "execute_result"
    }
   ],
   "source": [
    "merged_master.corr()"
   ]
  },
  {
   "cell_type": "code",
   "execution_count": 123,
   "id": "7aeea116",
   "metadata": {},
   "outputs": [
    {
     "data": {
      "application/vnd.plotly.v1+json": {
       "config": {
        "plotlyServerURL": "https://plot.ly"
       },
       "data": [
        {
         "hovertemplate": "variable=Depression<br>year=%{x}<br>value=%{y}<extra></extra>",
         "legendgroup": "Depression",
         "line": {
          "color": "#636efa",
          "dash": "solid"
         },
         "marker": {
          "symbol": "circle"
         },
         "mode": "lines",
         "name": "Depression",
         "orientation": "v",
         "showlegend": true,
         "type": "scatter",
         "x": [
          2011,
          2012,
          2013,
          2014,
          2015,
          2016,
          2018,
          2019
         ],
         "xaxis": "x",
         "y": [
          4.91,
          4.87,
          4.83,
          4.78,
          4.75,
          4.74,
          4.73,
          4.73
         ],
         "yaxis": "y"
        },
        {
         "hovertemplate": "variable=Anxiety<br>year=%{x}<br>value=%{y}<extra></extra>",
         "legendgroup": "Anxiety",
         "line": {
          "color": "#EF553B",
          "dash": "solid"
         },
         "marker": {
          "symbol": "circle"
         },
         "mode": "lines",
         "name": "Anxiety",
         "orientation": "v",
         "showlegend": true,
         "type": "scatter",
         "x": [
          2011,
          2012,
          2013,
          2014,
          2015,
          2016,
          2018,
          2019
         ],
         "xaxis": "x",
         "y": [
          6.22,
          6.03,
          5.84,
          5.68,
          5.61,
          5.6,
          5.79,
          6.16
         ],
         "yaxis": "y"
        },
        {
         "hovertemplate": "variable=Smartphone<br>year=%{x}<br>value=%{y}<extra></extra>",
         "legendgroup": "Smartphone",
         "line": {
          "color": "#00cc96",
          "dash": "solid"
         },
         "marker": {
          "symbol": "circle"
         },
         "mode": "lines",
         "name": "Smartphone",
         "orientation": "v",
         "showlegend": true,
         "type": "scatter",
         "x": [
          2011,
          2012,
          2013,
          2014,
          2015,
          2016,
          2018,
          2019
         ],
         "xaxis": "x",
         "y": [
          35,
          45,
          57.99999999999999,
          59,
          69,
          77,
          77,
          81
         ],
         "yaxis": "y"
        },
        {
         "hovertemplate": "variable=social_media_use<br>year=%{x}<br>value=%{y}<extra></extra>",
         "legendgroup": "social_media_use",
         "line": {
          "color": "#ab63fa",
          "dash": "solid"
         },
         "marker": {
          "symbol": "circle"
         },
         "mode": "lines",
         "name": "social_media_use",
         "orientation": "v",
         "showlegend": true,
         "type": "scatter",
         "x": [
          2011,
          2012,
          2013,
          2014,
          2015,
          2016,
          2018,
          2019
         ],
         "xaxis": "x",
         "y": [
          50,
          54,
          63,
          62,
          65,
          69,
          69,
          72
         ],
         "yaxis": "y"
        },
        {
         "hovertemplate": "variable=m_youth_depression<br>year=%{x}<br>value=%{y}<extra></extra>",
         "legendgroup": "m_youth_depression",
         "line": {
          "color": "#FFA15A",
          "dash": "solid"
         },
         "marker": {
          "symbol": "circle"
         },
         "mode": "lines",
         "name": "m_youth_depression",
         "orientation": "v",
         "showlegend": true,
         "type": "scatter",
         "x": [
          2011,
          2012,
          2013,
          2014,
          2015,
          2016,
          2018,
          2019
         ],
         "xaxis": "x",
         "y": [
          4.5,
          4.7,
          5.3,
          5.7,
          5.8,
          6.4,
          7.7,
          8.8
         ],
         "yaxis": "y"
        },
        {
         "hovertemplate": "variable=f_youth_depression<br>year=%{x}<br>value=%{y}<extra></extra>",
         "legendgroup": "f_youth_depression",
         "line": {
          "color": "#19d3f3",
          "dash": "solid"
         },
         "marker": {
          "symbol": "circle"
         },
         "mode": "lines",
         "name": "f_youth_depression",
         "orientation": "v",
         "showlegend": true,
         "type": "scatter",
         "x": [
          2011,
          2012,
          2013,
          2014,
          2015,
          2016,
          2018,
          2019
         ],
         "xaxis": "x",
         "y": [
          12.1,
          13.7,
          16.2,
          17.3,
          19.5,
          19.4,
          21.5,
          23
         ],
         "yaxis": "y"
        }
       ],
       "layout": {
        "legend": {
         "title": {
          "text": "variable"
         },
         "tracegroupgap": 0
        },
        "template": {
         "data": {
          "bar": [
           {
            "error_x": {
             "color": "#2a3f5f"
            },
            "error_y": {
             "color": "#2a3f5f"
            },
            "marker": {
             "line": {
              "color": "#E5ECF6",
              "width": 0.5
             },
             "pattern": {
              "fillmode": "overlay",
              "size": 10,
              "solidity": 0.2
             }
            },
            "type": "bar"
           }
          ],
          "barpolar": [
           {
            "marker": {
             "line": {
              "color": "#E5ECF6",
              "width": 0.5
             },
             "pattern": {
              "fillmode": "overlay",
              "size": 10,
              "solidity": 0.2
             }
            },
            "type": "barpolar"
           }
          ],
          "carpet": [
           {
            "aaxis": {
             "endlinecolor": "#2a3f5f",
             "gridcolor": "white",
             "linecolor": "white",
             "minorgridcolor": "white",
             "startlinecolor": "#2a3f5f"
            },
            "baxis": {
             "endlinecolor": "#2a3f5f",
             "gridcolor": "white",
             "linecolor": "white",
             "minorgridcolor": "white",
             "startlinecolor": "#2a3f5f"
            },
            "type": "carpet"
           }
          ],
          "choropleth": [
           {
            "colorbar": {
             "outlinewidth": 0,
             "ticks": ""
            },
            "type": "choropleth"
           }
          ],
          "contour": [
           {
            "colorbar": {
             "outlinewidth": 0,
             "ticks": ""
            },
            "colorscale": [
             [
              0,
              "#0d0887"
             ],
             [
              0.1111111111111111,
              "#46039f"
             ],
             [
              0.2222222222222222,
              "#7201a8"
             ],
             [
              0.3333333333333333,
              "#9c179e"
             ],
             [
              0.4444444444444444,
              "#bd3786"
             ],
             [
              0.5555555555555556,
              "#d8576b"
             ],
             [
              0.6666666666666666,
              "#ed7953"
             ],
             [
              0.7777777777777778,
              "#fb9f3a"
             ],
             [
              0.8888888888888888,
              "#fdca26"
             ],
             [
              1,
              "#f0f921"
             ]
            ],
            "type": "contour"
           }
          ],
          "contourcarpet": [
           {
            "colorbar": {
             "outlinewidth": 0,
             "ticks": ""
            },
            "type": "contourcarpet"
           }
          ],
          "heatmap": [
           {
            "colorbar": {
             "outlinewidth": 0,
             "ticks": ""
            },
            "colorscale": [
             [
              0,
              "#0d0887"
             ],
             [
              0.1111111111111111,
              "#46039f"
             ],
             [
              0.2222222222222222,
              "#7201a8"
             ],
             [
              0.3333333333333333,
              "#9c179e"
             ],
             [
              0.4444444444444444,
              "#bd3786"
             ],
             [
              0.5555555555555556,
              "#d8576b"
             ],
             [
              0.6666666666666666,
              "#ed7953"
             ],
             [
              0.7777777777777778,
              "#fb9f3a"
             ],
             [
              0.8888888888888888,
              "#fdca26"
             ],
             [
              1,
              "#f0f921"
             ]
            ],
            "type": "heatmap"
           }
          ],
          "heatmapgl": [
           {
            "colorbar": {
             "outlinewidth": 0,
             "ticks": ""
            },
            "colorscale": [
             [
              0,
              "#0d0887"
             ],
             [
              0.1111111111111111,
              "#46039f"
             ],
             [
              0.2222222222222222,
              "#7201a8"
             ],
             [
              0.3333333333333333,
              "#9c179e"
             ],
             [
              0.4444444444444444,
              "#bd3786"
             ],
             [
              0.5555555555555556,
              "#d8576b"
             ],
             [
              0.6666666666666666,
              "#ed7953"
             ],
             [
              0.7777777777777778,
              "#fb9f3a"
             ],
             [
              0.8888888888888888,
              "#fdca26"
             ],
             [
              1,
              "#f0f921"
             ]
            ],
            "type": "heatmapgl"
           }
          ],
          "histogram": [
           {
            "marker": {
             "pattern": {
              "fillmode": "overlay",
              "size": 10,
              "solidity": 0.2
             }
            },
            "type": "histogram"
           }
          ],
          "histogram2d": [
           {
            "colorbar": {
             "outlinewidth": 0,
             "ticks": ""
            },
            "colorscale": [
             [
              0,
              "#0d0887"
             ],
             [
              0.1111111111111111,
              "#46039f"
             ],
             [
              0.2222222222222222,
              "#7201a8"
             ],
             [
              0.3333333333333333,
              "#9c179e"
             ],
             [
              0.4444444444444444,
              "#bd3786"
             ],
             [
              0.5555555555555556,
              "#d8576b"
             ],
             [
              0.6666666666666666,
              "#ed7953"
             ],
             [
              0.7777777777777778,
              "#fb9f3a"
             ],
             [
              0.8888888888888888,
              "#fdca26"
             ],
             [
              1,
              "#f0f921"
             ]
            ],
            "type": "histogram2d"
           }
          ],
          "histogram2dcontour": [
           {
            "colorbar": {
             "outlinewidth": 0,
             "ticks": ""
            },
            "colorscale": [
             [
              0,
              "#0d0887"
             ],
             [
              0.1111111111111111,
              "#46039f"
             ],
             [
              0.2222222222222222,
              "#7201a8"
             ],
             [
              0.3333333333333333,
              "#9c179e"
             ],
             [
              0.4444444444444444,
              "#bd3786"
             ],
             [
              0.5555555555555556,
              "#d8576b"
             ],
             [
              0.6666666666666666,
              "#ed7953"
             ],
             [
              0.7777777777777778,
              "#fb9f3a"
             ],
             [
              0.8888888888888888,
              "#fdca26"
             ],
             [
              1,
              "#f0f921"
             ]
            ],
            "type": "histogram2dcontour"
           }
          ],
          "mesh3d": [
           {
            "colorbar": {
             "outlinewidth": 0,
             "ticks": ""
            },
            "type": "mesh3d"
           }
          ],
          "parcoords": [
           {
            "line": {
             "colorbar": {
              "outlinewidth": 0,
              "ticks": ""
             }
            },
            "type": "parcoords"
           }
          ],
          "pie": [
           {
            "automargin": true,
            "type": "pie"
           }
          ],
          "scatter": [
           {
            "fillpattern": {
             "fillmode": "overlay",
             "size": 10,
             "solidity": 0.2
            },
            "type": "scatter"
           }
          ],
          "scatter3d": [
           {
            "line": {
             "colorbar": {
              "outlinewidth": 0,
              "ticks": ""
             }
            },
            "marker": {
             "colorbar": {
              "outlinewidth": 0,
              "ticks": ""
             }
            },
            "type": "scatter3d"
           }
          ],
          "scattercarpet": [
           {
            "marker": {
             "colorbar": {
              "outlinewidth": 0,
              "ticks": ""
             }
            },
            "type": "scattercarpet"
           }
          ],
          "scattergeo": [
           {
            "marker": {
             "colorbar": {
              "outlinewidth": 0,
              "ticks": ""
             }
            },
            "type": "scattergeo"
           }
          ],
          "scattergl": [
           {
            "marker": {
             "colorbar": {
              "outlinewidth": 0,
              "ticks": ""
             }
            },
            "type": "scattergl"
           }
          ],
          "scattermapbox": [
           {
            "marker": {
             "colorbar": {
              "outlinewidth": 0,
              "ticks": ""
             }
            },
            "type": "scattermapbox"
           }
          ],
          "scatterpolar": [
           {
            "marker": {
             "colorbar": {
              "outlinewidth": 0,
              "ticks": ""
             }
            },
            "type": "scatterpolar"
           }
          ],
          "scatterpolargl": [
           {
            "marker": {
             "colorbar": {
              "outlinewidth": 0,
              "ticks": ""
             }
            },
            "type": "scatterpolargl"
           }
          ],
          "scatterternary": [
           {
            "marker": {
             "colorbar": {
              "outlinewidth": 0,
              "ticks": ""
             }
            },
            "type": "scatterternary"
           }
          ],
          "surface": [
           {
            "colorbar": {
             "outlinewidth": 0,
             "ticks": ""
            },
            "colorscale": [
             [
              0,
              "#0d0887"
             ],
             [
              0.1111111111111111,
              "#46039f"
             ],
             [
              0.2222222222222222,
              "#7201a8"
             ],
             [
              0.3333333333333333,
              "#9c179e"
             ],
             [
              0.4444444444444444,
              "#bd3786"
             ],
             [
              0.5555555555555556,
              "#d8576b"
             ],
             [
              0.6666666666666666,
              "#ed7953"
             ],
             [
              0.7777777777777778,
              "#fb9f3a"
             ],
             [
              0.8888888888888888,
              "#fdca26"
             ],
             [
              1,
              "#f0f921"
             ]
            ],
            "type": "surface"
           }
          ],
          "table": [
           {
            "cells": {
             "fill": {
              "color": "#EBF0F8"
             },
             "line": {
              "color": "white"
             }
            },
            "header": {
             "fill": {
              "color": "#C8D4E3"
             },
             "line": {
              "color": "white"
             }
            },
            "type": "table"
           }
          ]
         },
         "layout": {
          "annotationdefaults": {
           "arrowcolor": "#2a3f5f",
           "arrowhead": 0,
           "arrowwidth": 1
          },
          "autotypenumbers": "strict",
          "coloraxis": {
           "colorbar": {
            "outlinewidth": 0,
            "ticks": ""
           }
          },
          "colorscale": {
           "diverging": [
            [
             0,
             "#8e0152"
            ],
            [
             0.1,
             "#c51b7d"
            ],
            [
             0.2,
             "#de77ae"
            ],
            [
             0.3,
             "#f1b6da"
            ],
            [
             0.4,
             "#fde0ef"
            ],
            [
             0.5,
             "#f7f7f7"
            ],
            [
             0.6,
             "#e6f5d0"
            ],
            [
             0.7,
             "#b8e186"
            ],
            [
             0.8,
             "#7fbc41"
            ],
            [
             0.9,
             "#4d9221"
            ],
            [
             1,
             "#276419"
            ]
           ],
           "sequential": [
            [
             0,
             "#0d0887"
            ],
            [
             0.1111111111111111,
             "#46039f"
            ],
            [
             0.2222222222222222,
             "#7201a8"
            ],
            [
             0.3333333333333333,
             "#9c179e"
            ],
            [
             0.4444444444444444,
             "#bd3786"
            ],
            [
             0.5555555555555556,
             "#d8576b"
            ],
            [
             0.6666666666666666,
             "#ed7953"
            ],
            [
             0.7777777777777778,
             "#fb9f3a"
            ],
            [
             0.8888888888888888,
             "#fdca26"
            ],
            [
             1,
             "#f0f921"
            ]
           ],
           "sequentialminus": [
            [
             0,
             "#0d0887"
            ],
            [
             0.1111111111111111,
             "#46039f"
            ],
            [
             0.2222222222222222,
             "#7201a8"
            ],
            [
             0.3333333333333333,
             "#9c179e"
            ],
            [
             0.4444444444444444,
             "#bd3786"
            ],
            [
             0.5555555555555556,
             "#d8576b"
            ],
            [
             0.6666666666666666,
             "#ed7953"
            ],
            [
             0.7777777777777778,
             "#fb9f3a"
            ],
            [
             0.8888888888888888,
             "#fdca26"
            ],
            [
             1,
             "#f0f921"
            ]
           ]
          },
          "colorway": [
           "#636efa",
           "#EF553B",
           "#00cc96",
           "#ab63fa",
           "#FFA15A",
           "#19d3f3",
           "#FF6692",
           "#B6E880",
           "#FF97FF",
           "#FECB52"
          ],
          "font": {
           "color": "#2a3f5f"
          },
          "geo": {
           "bgcolor": "white",
           "lakecolor": "white",
           "landcolor": "#E5ECF6",
           "showlakes": true,
           "showland": true,
           "subunitcolor": "white"
          },
          "hoverlabel": {
           "align": "left"
          },
          "hovermode": "closest",
          "mapbox": {
           "style": "light"
          },
          "paper_bgcolor": "white",
          "plot_bgcolor": "#E5ECF6",
          "polar": {
           "angularaxis": {
            "gridcolor": "white",
            "linecolor": "white",
            "ticks": ""
           },
           "bgcolor": "#E5ECF6",
           "radialaxis": {
            "gridcolor": "white",
            "linecolor": "white",
            "ticks": ""
           }
          },
          "scene": {
           "xaxis": {
            "backgroundcolor": "#E5ECF6",
            "gridcolor": "white",
            "gridwidth": 2,
            "linecolor": "white",
            "showbackground": true,
            "ticks": "",
            "zerolinecolor": "white"
           },
           "yaxis": {
            "backgroundcolor": "#E5ECF6",
            "gridcolor": "white",
            "gridwidth": 2,
            "linecolor": "white",
            "showbackground": true,
            "ticks": "",
            "zerolinecolor": "white"
           },
           "zaxis": {
            "backgroundcolor": "#E5ECF6",
            "gridcolor": "white",
            "gridwidth": 2,
            "linecolor": "white",
            "showbackground": true,
            "ticks": "",
            "zerolinecolor": "white"
           }
          },
          "shapedefaults": {
           "line": {
            "color": "#2a3f5f"
           }
          },
          "ternary": {
           "aaxis": {
            "gridcolor": "white",
            "linecolor": "white",
            "ticks": ""
           },
           "baxis": {
            "gridcolor": "white",
            "linecolor": "white",
            "ticks": ""
           },
           "bgcolor": "#E5ECF6",
           "caxis": {
            "gridcolor": "white",
            "linecolor": "white",
            "ticks": ""
           }
          },
          "title": {
           "x": 0.05
          },
          "xaxis": {
           "automargin": true,
           "gridcolor": "white",
           "linecolor": "white",
           "ticks": "",
           "title": {
            "standoff": 15
           },
           "zerolinecolor": "white",
           "zerolinewidth": 2
          },
          "yaxis": {
           "automargin": true,
           "gridcolor": "white",
           "linecolor": "white",
           "ticks": "",
           "title": {
            "standoff": 15
           },
           "zerolinecolor": "white",
           "zerolinewidth": 2
          }
         }
        },
        "title": {
         "text": "Social Media Use and Mental Health"
        },
        "xaxis": {
         "anchor": "y",
         "domain": [
          0,
          1
         ],
         "title": {
          "text": "year"
         }
        },
        "yaxis": {
         "anchor": "x",
         "domain": [
          0,
          1
         ],
         "title": {
          "text": "value"
         }
        }
       }
      },
      "text/html": [
       "<div>                            <div id=\"e59abd03-a418-4afb-ada4-a9a8266390b1\" class=\"plotly-graph-div\" style=\"height:525px; width:100%;\"></div>            <script type=\"text/javascript\">                require([\"plotly\"], function(Plotly) {                    window.PLOTLYENV=window.PLOTLYENV || {};                                    if (document.getElementById(\"e59abd03-a418-4afb-ada4-a9a8266390b1\")) {                    Plotly.newPlot(                        \"e59abd03-a418-4afb-ada4-a9a8266390b1\",                        [{\"hovertemplate\":\"variable=Depression<br>year=%{x}<br>value=%{y}<extra></extra>\",\"legendgroup\":\"Depression\",\"line\":{\"color\":\"#636efa\",\"dash\":\"solid\"},\"marker\":{\"symbol\":\"circle\"},\"mode\":\"lines\",\"name\":\"Depression\",\"orientation\":\"v\",\"showlegend\":true,\"x\":[2011,2012,2013,2014,2015,2016,2018,2019],\"xaxis\":\"x\",\"y\":[4.91,4.87,4.83,4.78,4.75,4.74,4.73,4.73],\"yaxis\":\"y\",\"type\":\"scatter\"},{\"hovertemplate\":\"variable=Anxiety<br>year=%{x}<br>value=%{y}<extra></extra>\",\"legendgroup\":\"Anxiety\",\"line\":{\"color\":\"#EF553B\",\"dash\":\"solid\"},\"marker\":{\"symbol\":\"circle\"},\"mode\":\"lines\",\"name\":\"Anxiety\",\"orientation\":\"v\",\"showlegend\":true,\"x\":[2011,2012,2013,2014,2015,2016,2018,2019],\"xaxis\":\"x\",\"y\":[6.22,6.03,5.84,5.68,5.61,5.6,5.79,6.16],\"yaxis\":\"y\",\"type\":\"scatter\"},{\"hovertemplate\":\"variable=Smartphone<br>year=%{x}<br>value=%{y}<extra></extra>\",\"legendgroup\":\"Smartphone\",\"line\":{\"color\":\"#00cc96\",\"dash\":\"solid\"},\"marker\":{\"symbol\":\"circle\"},\"mode\":\"lines\",\"name\":\"Smartphone\",\"orientation\":\"v\",\"showlegend\":true,\"x\":[2011,2012,2013,2014,2015,2016,2018,2019],\"xaxis\":\"x\",\"y\":[35.0,45.0,57.99999999999999,59.0,69.0,77.0,77.0,81.0],\"yaxis\":\"y\",\"type\":\"scatter\"},{\"hovertemplate\":\"variable=social_media_use<br>year=%{x}<br>value=%{y}<extra></extra>\",\"legendgroup\":\"social_media_use\",\"line\":{\"color\":\"#ab63fa\",\"dash\":\"solid\"},\"marker\":{\"symbol\":\"circle\"},\"mode\":\"lines\",\"name\":\"social_media_use\",\"orientation\":\"v\",\"showlegend\":true,\"x\":[2011,2012,2013,2014,2015,2016,2018,2019],\"xaxis\":\"x\",\"y\":[50.0,54.0,63.0,62.0,65.0,69.0,69.0,72.0],\"yaxis\":\"y\",\"type\":\"scatter\"},{\"hovertemplate\":\"variable=m_youth_depression<br>year=%{x}<br>value=%{y}<extra></extra>\",\"legendgroup\":\"m_youth_depression\",\"line\":{\"color\":\"#FFA15A\",\"dash\":\"solid\"},\"marker\":{\"symbol\":\"circle\"},\"mode\":\"lines\",\"name\":\"m_youth_depression\",\"orientation\":\"v\",\"showlegend\":true,\"x\":[2011,2012,2013,2014,2015,2016,2018,2019],\"xaxis\":\"x\",\"y\":[4.5,4.7,5.3,5.7,5.8,6.4,7.7,8.8],\"yaxis\":\"y\",\"type\":\"scatter\"},{\"hovertemplate\":\"variable=f_youth_depression<br>year=%{x}<br>value=%{y}<extra></extra>\",\"legendgroup\":\"f_youth_depression\",\"line\":{\"color\":\"#19d3f3\",\"dash\":\"solid\"},\"marker\":{\"symbol\":\"circle\"},\"mode\":\"lines\",\"name\":\"f_youth_depression\",\"orientation\":\"v\",\"showlegend\":true,\"x\":[2011,2012,2013,2014,2015,2016,2018,2019],\"xaxis\":\"x\",\"y\":[12.1,13.7,16.2,17.3,19.5,19.4,21.5,23.0],\"yaxis\":\"y\",\"type\":\"scatter\"}],                        {\"template\":{\"data\":{\"histogram2dcontour\":[{\"type\":\"histogram2dcontour\",\"colorbar\":{\"outlinewidth\":0,\"ticks\":\"\"},\"colorscale\":[[0.0,\"#0d0887\"],[0.1111111111111111,\"#46039f\"],[0.2222222222222222,\"#7201a8\"],[0.3333333333333333,\"#9c179e\"],[0.4444444444444444,\"#bd3786\"],[0.5555555555555556,\"#d8576b\"],[0.6666666666666666,\"#ed7953\"],[0.7777777777777778,\"#fb9f3a\"],[0.8888888888888888,\"#fdca26\"],[1.0,\"#f0f921\"]]}],\"choropleth\":[{\"type\":\"choropleth\",\"colorbar\":{\"outlinewidth\":0,\"ticks\":\"\"}}],\"histogram2d\":[{\"type\":\"histogram2d\",\"colorbar\":{\"outlinewidth\":0,\"ticks\":\"\"},\"colorscale\":[[0.0,\"#0d0887\"],[0.1111111111111111,\"#46039f\"],[0.2222222222222222,\"#7201a8\"],[0.3333333333333333,\"#9c179e\"],[0.4444444444444444,\"#bd3786\"],[0.5555555555555556,\"#d8576b\"],[0.6666666666666666,\"#ed7953\"],[0.7777777777777778,\"#fb9f3a\"],[0.8888888888888888,\"#fdca26\"],[1.0,\"#f0f921\"]]}],\"heatmap\":[{\"type\":\"heatmap\",\"colorbar\":{\"outlinewidth\":0,\"ticks\":\"\"},\"colorscale\":[[0.0,\"#0d0887\"],[0.1111111111111111,\"#46039f\"],[0.2222222222222222,\"#7201a8\"],[0.3333333333333333,\"#9c179e\"],[0.4444444444444444,\"#bd3786\"],[0.5555555555555556,\"#d8576b\"],[0.6666666666666666,\"#ed7953\"],[0.7777777777777778,\"#fb9f3a\"],[0.8888888888888888,\"#fdca26\"],[1.0,\"#f0f921\"]]}],\"heatmapgl\":[{\"type\":\"heatmapgl\",\"colorbar\":{\"outlinewidth\":0,\"ticks\":\"\"},\"colorscale\":[[0.0,\"#0d0887\"],[0.1111111111111111,\"#46039f\"],[0.2222222222222222,\"#7201a8\"],[0.3333333333333333,\"#9c179e\"],[0.4444444444444444,\"#bd3786\"],[0.5555555555555556,\"#d8576b\"],[0.6666666666666666,\"#ed7953\"],[0.7777777777777778,\"#fb9f3a\"],[0.8888888888888888,\"#fdca26\"],[1.0,\"#f0f921\"]]}],\"contourcarpet\":[{\"type\":\"contourcarpet\",\"colorbar\":{\"outlinewidth\":0,\"ticks\":\"\"}}],\"contour\":[{\"type\":\"contour\",\"colorbar\":{\"outlinewidth\":0,\"ticks\":\"\"},\"colorscale\":[[0.0,\"#0d0887\"],[0.1111111111111111,\"#46039f\"],[0.2222222222222222,\"#7201a8\"],[0.3333333333333333,\"#9c179e\"],[0.4444444444444444,\"#bd3786\"],[0.5555555555555556,\"#d8576b\"],[0.6666666666666666,\"#ed7953\"],[0.7777777777777778,\"#fb9f3a\"],[0.8888888888888888,\"#fdca26\"],[1.0,\"#f0f921\"]]}],\"surface\":[{\"type\":\"surface\",\"colorbar\":{\"outlinewidth\":0,\"ticks\":\"\"},\"colorscale\":[[0.0,\"#0d0887\"],[0.1111111111111111,\"#46039f\"],[0.2222222222222222,\"#7201a8\"],[0.3333333333333333,\"#9c179e\"],[0.4444444444444444,\"#bd3786\"],[0.5555555555555556,\"#d8576b\"],[0.6666666666666666,\"#ed7953\"],[0.7777777777777778,\"#fb9f3a\"],[0.8888888888888888,\"#fdca26\"],[1.0,\"#f0f921\"]]}],\"mesh3d\":[{\"type\":\"mesh3d\",\"colorbar\":{\"outlinewidth\":0,\"ticks\":\"\"}}],\"scatter\":[{\"fillpattern\":{\"fillmode\":\"overlay\",\"size\":10,\"solidity\":0.2},\"type\":\"scatter\"}],\"parcoords\":[{\"type\":\"parcoords\",\"line\":{\"colorbar\":{\"outlinewidth\":0,\"ticks\":\"\"}}}],\"scatterpolargl\":[{\"type\":\"scatterpolargl\",\"marker\":{\"colorbar\":{\"outlinewidth\":0,\"ticks\":\"\"}}}],\"bar\":[{\"error_x\":{\"color\":\"#2a3f5f\"},\"error_y\":{\"color\":\"#2a3f5f\"},\"marker\":{\"line\":{\"color\":\"#E5ECF6\",\"width\":0.5},\"pattern\":{\"fillmode\":\"overlay\",\"size\":10,\"solidity\":0.2}},\"type\":\"bar\"}],\"scattergeo\":[{\"type\":\"scattergeo\",\"marker\":{\"colorbar\":{\"outlinewidth\":0,\"ticks\":\"\"}}}],\"scatterpolar\":[{\"type\":\"scatterpolar\",\"marker\":{\"colorbar\":{\"outlinewidth\":0,\"ticks\":\"\"}}}],\"histogram\":[{\"marker\":{\"pattern\":{\"fillmode\":\"overlay\",\"size\":10,\"solidity\":0.2}},\"type\":\"histogram\"}],\"scattergl\":[{\"type\":\"scattergl\",\"marker\":{\"colorbar\":{\"outlinewidth\":0,\"ticks\":\"\"}}}],\"scatter3d\":[{\"type\":\"scatter3d\",\"line\":{\"colorbar\":{\"outlinewidth\":0,\"ticks\":\"\"}},\"marker\":{\"colorbar\":{\"outlinewidth\":0,\"ticks\":\"\"}}}],\"scattermapbox\":[{\"type\":\"scattermapbox\",\"marker\":{\"colorbar\":{\"outlinewidth\":0,\"ticks\":\"\"}}}],\"scatterternary\":[{\"type\":\"scatterternary\",\"marker\":{\"colorbar\":{\"outlinewidth\":0,\"ticks\":\"\"}}}],\"scattercarpet\":[{\"type\":\"scattercarpet\",\"marker\":{\"colorbar\":{\"outlinewidth\":0,\"ticks\":\"\"}}}],\"carpet\":[{\"aaxis\":{\"endlinecolor\":\"#2a3f5f\",\"gridcolor\":\"white\",\"linecolor\":\"white\",\"minorgridcolor\":\"white\",\"startlinecolor\":\"#2a3f5f\"},\"baxis\":{\"endlinecolor\":\"#2a3f5f\",\"gridcolor\":\"white\",\"linecolor\":\"white\",\"minorgridcolor\":\"white\",\"startlinecolor\":\"#2a3f5f\"},\"type\":\"carpet\"}],\"table\":[{\"cells\":{\"fill\":{\"color\":\"#EBF0F8\"},\"line\":{\"color\":\"white\"}},\"header\":{\"fill\":{\"color\":\"#C8D4E3\"},\"line\":{\"color\":\"white\"}},\"type\":\"table\"}],\"barpolar\":[{\"marker\":{\"line\":{\"color\":\"#E5ECF6\",\"width\":0.5},\"pattern\":{\"fillmode\":\"overlay\",\"size\":10,\"solidity\":0.2}},\"type\":\"barpolar\"}],\"pie\":[{\"automargin\":true,\"type\":\"pie\"}]},\"layout\":{\"autotypenumbers\":\"strict\",\"colorway\":[\"#636efa\",\"#EF553B\",\"#00cc96\",\"#ab63fa\",\"#FFA15A\",\"#19d3f3\",\"#FF6692\",\"#B6E880\",\"#FF97FF\",\"#FECB52\"],\"font\":{\"color\":\"#2a3f5f\"},\"hovermode\":\"closest\",\"hoverlabel\":{\"align\":\"left\"},\"paper_bgcolor\":\"white\",\"plot_bgcolor\":\"#E5ECF6\",\"polar\":{\"bgcolor\":\"#E5ECF6\",\"angularaxis\":{\"gridcolor\":\"white\",\"linecolor\":\"white\",\"ticks\":\"\"},\"radialaxis\":{\"gridcolor\":\"white\",\"linecolor\":\"white\",\"ticks\":\"\"}},\"ternary\":{\"bgcolor\":\"#E5ECF6\",\"aaxis\":{\"gridcolor\":\"white\",\"linecolor\":\"white\",\"ticks\":\"\"},\"baxis\":{\"gridcolor\":\"white\",\"linecolor\":\"white\",\"ticks\":\"\"},\"caxis\":{\"gridcolor\":\"white\",\"linecolor\":\"white\",\"ticks\":\"\"}},\"coloraxis\":{\"colorbar\":{\"outlinewidth\":0,\"ticks\":\"\"}},\"colorscale\":{\"sequential\":[[0.0,\"#0d0887\"],[0.1111111111111111,\"#46039f\"],[0.2222222222222222,\"#7201a8\"],[0.3333333333333333,\"#9c179e\"],[0.4444444444444444,\"#bd3786\"],[0.5555555555555556,\"#d8576b\"],[0.6666666666666666,\"#ed7953\"],[0.7777777777777778,\"#fb9f3a\"],[0.8888888888888888,\"#fdca26\"],[1.0,\"#f0f921\"]],\"sequentialminus\":[[0.0,\"#0d0887\"],[0.1111111111111111,\"#46039f\"],[0.2222222222222222,\"#7201a8\"],[0.3333333333333333,\"#9c179e\"],[0.4444444444444444,\"#bd3786\"],[0.5555555555555556,\"#d8576b\"],[0.6666666666666666,\"#ed7953\"],[0.7777777777777778,\"#fb9f3a\"],[0.8888888888888888,\"#fdca26\"],[1.0,\"#f0f921\"]],\"diverging\":[[0,\"#8e0152\"],[0.1,\"#c51b7d\"],[0.2,\"#de77ae\"],[0.3,\"#f1b6da\"],[0.4,\"#fde0ef\"],[0.5,\"#f7f7f7\"],[0.6,\"#e6f5d0\"],[0.7,\"#b8e186\"],[0.8,\"#7fbc41\"],[0.9,\"#4d9221\"],[1,\"#276419\"]]},\"xaxis\":{\"gridcolor\":\"white\",\"linecolor\":\"white\",\"ticks\":\"\",\"title\":{\"standoff\":15},\"zerolinecolor\":\"white\",\"automargin\":true,\"zerolinewidth\":2},\"yaxis\":{\"gridcolor\":\"white\",\"linecolor\":\"white\",\"ticks\":\"\",\"title\":{\"standoff\":15},\"zerolinecolor\":\"white\",\"automargin\":true,\"zerolinewidth\":2},\"scene\":{\"xaxis\":{\"backgroundcolor\":\"#E5ECF6\",\"gridcolor\":\"white\",\"linecolor\":\"white\",\"showbackground\":true,\"ticks\":\"\",\"zerolinecolor\":\"white\",\"gridwidth\":2},\"yaxis\":{\"backgroundcolor\":\"#E5ECF6\",\"gridcolor\":\"white\",\"linecolor\":\"white\",\"showbackground\":true,\"ticks\":\"\",\"zerolinecolor\":\"white\",\"gridwidth\":2},\"zaxis\":{\"backgroundcolor\":\"#E5ECF6\",\"gridcolor\":\"white\",\"linecolor\":\"white\",\"showbackground\":true,\"ticks\":\"\",\"zerolinecolor\":\"white\",\"gridwidth\":2}},\"shapedefaults\":{\"line\":{\"color\":\"#2a3f5f\"}},\"annotationdefaults\":{\"arrowcolor\":\"#2a3f5f\",\"arrowhead\":0,\"arrowwidth\":1},\"geo\":{\"bgcolor\":\"white\",\"landcolor\":\"#E5ECF6\",\"subunitcolor\":\"white\",\"showland\":true,\"showlakes\":true,\"lakecolor\":\"white\"},\"title\":{\"x\":0.05},\"mapbox\":{\"style\":\"light\"}}},\"xaxis\":{\"anchor\":\"y\",\"domain\":[0.0,1.0],\"title\":{\"text\":\"year\"}},\"yaxis\":{\"anchor\":\"x\",\"domain\":[0.0,1.0],\"title\":{\"text\":\"value\"}},\"legend\":{\"title\":{\"text\":\"variable\"},\"tracegroupgap\":0},\"title\":{\"text\":\"Social Media Use and Mental Health\"}},                        {\"responsive\": true}                    ).then(function(){\n",
       "                            \n",
       "var gd = document.getElementById('e59abd03-a418-4afb-ada4-a9a8266390b1');\n",
       "var x = new MutationObserver(function (mutations, observer) {{\n",
       "        var display = window.getComputedStyle(gd).display;\n",
       "        if (!display || display === 'none') {{\n",
       "            console.log([gd, 'removed!']);\n",
       "            Plotly.purge(gd);\n",
       "            observer.disconnect();\n",
       "        }}\n",
       "}});\n",
       "\n",
       "// Listen for the removal of the full notebook cells\n",
       "var notebookContainer = gd.closest('#notebook-container');\n",
       "if (notebookContainer) {{\n",
       "    x.observe(notebookContainer, {childList: true});\n",
       "}}\n",
       "\n",
       "// Listen for the clearing of the current output cell\n",
       "var outputEl = gd.closest('.output');\n",
       "if (outputEl) {{\n",
       "    x.observe(outputEl, {childList: true});\n",
       "}}\n",
       "\n",
       "                        })                };                });            </script>        </div>"
      ]
     },
     "metadata": {},
     "output_type": "display_data"
    }
   ],
   "source": [
    "px.line(melted_master,x='year',y='value',color='variable',title='Social Media Use and Mental Health')"
   ]
  },
  {
   "cell_type": "code",
   "execution_count": 102,
   "id": "b75dcc32",
   "metadata": {},
   "outputs": [],
   "source": [
    "melted_mh=melted_master.query('variable != \"Smartphone\"')"
   ]
  },
  {
   "cell_type": "code",
   "execution_count": 103,
   "id": "7c89d303",
   "metadata": {},
   "outputs": [],
   "source": [
    "melted_mh=melted_mh.query('variable !=\"social_media_use\"')"
   ]
  },
  {
   "cell_type": "code",
   "execution_count": 125,
   "id": "546ece38",
   "metadata": {},
   "outputs": [
    {
     "data": {
      "application/vnd.plotly.v1+json": {
       "config": {
        "plotlyServerURL": "https://plot.ly"
       },
       "data": [
        {
         "hovertemplate": "variable=Depression<br>year=%{x}<br>value=%{y}<extra></extra>",
         "legendgroup": "Depression",
         "line": {
          "color": "#636efa",
          "dash": "solid"
         },
         "marker": {
          "symbol": "circle"
         },
         "mode": "lines",
         "name": "Depression",
         "orientation": "v",
         "showlegend": true,
         "type": "scatter",
         "x": [
          2011,
          2012,
          2013,
          2014,
          2015,
          2016,
          2018,
          2019
         ],
         "xaxis": "x",
         "y": [
          4.91,
          4.87,
          4.83,
          4.78,
          4.75,
          4.74,
          4.73,
          4.73
         ],
         "yaxis": "y"
        },
        {
         "hovertemplate": "variable=Anxiety<br>year=%{x}<br>value=%{y}<extra></extra>",
         "legendgroup": "Anxiety",
         "line": {
          "color": "#EF553B",
          "dash": "solid"
         },
         "marker": {
          "symbol": "circle"
         },
         "mode": "lines",
         "name": "Anxiety",
         "orientation": "v",
         "showlegend": true,
         "type": "scatter",
         "x": [
          2011,
          2012,
          2013,
          2014,
          2015,
          2016,
          2018,
          2019
         ],
         "xaxis": "x",
         "y": [
          6.22,
          6.03,
          5.84,
          5.68,
          5.61,
          5.6,
          5.79,
          6.16
         ],
         "yaxis": "y"
        },
        {
         "hovertemplate": "variable=m_youth_depression<br>year=%{x}<br>value=%{y}<extra></extra>",
         "legendgroup": "m_youth_depression",
         "line": {
          "color": "#00cc96",
          "dash": "solid"
         },
         "marker": {
          "symbol": "circle"
         },
         "mode": "lines",
         "name": "m_youth_depression",
         "orientation": "v",
         "showlegend": true,
         "type": "scatter",
         "x": [
          2011,
          2012,
          2013,
          2014,
          2015,
          2016,
          2018,
          2019
         ],
         "xaxis": "x",
         "y": [
          4.5,
          4.7,
          5.3,
          5.7,
          5.8,
          6.4,
          7.7,
          8.8
         ],
         "yaxis": "y"
        },
        {
         "hovertemplate": "variable=f_youth_depression<br>year=%{x}<br>value=%{y}<extra></extra>",
         "legendgroup": "f_youth_depression",
         "line": {
          "color": "#ab63fa",
          "dash": "solid"
         },
         "marker": {
          "symbol": "circle"
         },
         "mode": "lines",
         "name": "f_youth_depression",
         "orientation": "v",
         "showlegend": true,
         "type": "scatter",
         "x": [
          2011,
          2012,
          2013,
          2014,
          2015,
          2016,
          2018,
          2019
         ],
         "xaxis": "x",
         "y": [
          12.1,
          13.7,
          16.2,
          17.3,
          19.5,
          19.4,
          21.5,
          23
         ],
         "yaxis": "y"
        }
       ],
       "layout": {
        "legend": {
         "title": {
          "text": "variable"
         },
         "tracegroupgap": 0
        },
        "template": {
         "data": {
          "bar": [
           {
            "error_x": {
             "color": "#2a3f5f"
            },
            "error_y": {
             "color": "#2a3f5f"
            },
            "marker": {
             "line": {
              "color": "#E5ECF6",
              "width": 0.5
             },
             "pattern": {
              "fillmode": "overlay",
              "size": 10,
              "solidity": 0.2
             }
            },
            "type": "bar"
           }
          ],
          "barpolar": [
           {
            "marker": {
             "line": {
              "color": "#E5ECF6",
              "width": 0.5
             },
             "pattern": {
              "fillmode": "overlay",
              "size": 10,
              "solidity": 0.2
             }
            },
            "type": "barpolar"
           }
          ],
          "carpet": [
           {
            "aaxis": {
             "endlinecolor": "#2a3f5f",
             "gridcolor": "white",
             "linecolor": "white",
             "minorgridcolor": "white",
             "startlinecolor": "#2a3f5f"
            },
            "baxis": {
             "endlinecolor": "#2a3f5f",
             "gridcolor": "white",
             "linecolor": "white",
             "minorgridcolor": "white",
             "startlinecolor": "#2a3f5f"
            },
            "type": "carpet"
           }
          ],
          "choropleth": [
           {
            "colorbar": {
             "outlinewidth": 0,
             "ticks": ""
            },
            "type": "choropleth"
           }
          ],
          "contour": [
           {
            "colorbar": {
             "outlinewidth": 0,
             "ticks": ""
            },
            "colorscale": [
             [
              0,
              "#0d0887"
             ],
             [
              0.1111111111111111,
              "#46039f"
             ],
             [
              0.2222222222222222,
              "#7201a8"
             ],
             [
              0.3333333333333333,
              "#9c179e"
             ],
             [
              0.4444444444444444,
              "#bd3786"
             ],
             [
              0.5555555555555556,
              "#d8576b"
             ],
             [
              0.6666666666666666,
              "#ed7953"
             ],
             [
              0.7777777777777778,
              "#fb9f3a"
             ],
             [
              0.8888888888888888,
              "#fdca26"
             ],
             [
              1,
              "#f0f921"
             ]
            ],
            "type": "contour"
           }
          ],
          "contourcarpet": [
           {
            "colorbar": {
             "outlinewidth": 0,
             "ticks": ""
            },
            "type": "contourcarpet"
           }
          ],
          "heatmap": [
           {
            "colorbar": {
             "outlinewidth": 0,
             "ticks": ""
            },
            "colorscale": [
             [
              0,
              "#0d0887"
             ],
             [
              0.1111111111111111,
              "#46039f"
             ],
             [
              0.2222222222222222,
              "#7201a8"
             ],
             [
              0.3333333333333333,
              "#9c179e"
             ],
             [
              0.4444444444444444,
              "#bd3786"
             ],
             [
              0.5555555555555556,
              "#d8576b"
             ],
             [
              0.6666666666666666,
              "#ed7953"
             ],
             [
              0.7777777777777778,
              "#fb9f3a"
             ],
             [
              0.8888888888888888,
              "#fdca26"
             ],
             [
              1,
              "#f0f921"
             ]
            ],
            "type": "heatmap"
           }
          ],
          "heatmapgl": [
           {
            "colorbar": {
             "outlinewidth": 0,
             "ticks": ""
            },
            "colorscale": [
             [
              0,
              "#0d0887"
             ],
             [
              0.1111111111111111,
              "#46039f"
             ],
             [
              0.2222222222222222,
              "#7201a8"
             ],
             [
              0.3333333333333333,
              "#9c179e"
             ],
             [
              0.4444444444444444,
              "#bd3786"
             ],
             [
              0.5555555555555556,
              "#d8576b"
             ],
             [
              0.6666666666666666,
              "#ed7953"
             ],
             [
              0.7777777777777778,
              "#fb9f3a"
             ],
             [
              0.8888888888888888,
              "#fdca26"
             ],
             [
              1,
              "#f0f921"
             ]
            ],
            "type": "heatmapgl"
           }
          ],
          "histogram": [
           {
            "marker": {
             "pattern": {
              "fillmode": "overlay",
              "size": 10,
              "solidity": 0.2
             }
            },
            "type": "histogram"
           }
          ],
          "histogram2d": [
           {
            "colorbar": {
             "outlinewidth": 0,
             "ticks": ""
            },
            "colorscale": [
             [
              0,
              "#0d0887"
             ],
             [
              0.1111111111111111,
              "#46039f"
             ],
             [
              0.2222222222222222,
              "#7201a8"
             ],
             [
              0.3333333333333333,
              "#9c179e"
             ],
             [
              0.4444444444444444,
              "#bd3786"
             ],
             [
              0.5555555555555556,
              "#d8576b"
             ],
             [
              0.6666666666666666,
              "#ed7953"
             ],
             [
              0.7777777777777778,
              "#fb9f3a"
             ],
             [
              0.8888888888888888,
              "#fdca26"
             ],
             [
              1,
              "#f0f921"
             ]
            ],
            "type": "histogram2d"
           }
          ],
          "histogram2dcontour": [
           {
            "colorbar": {
             "outlinewidth": 0,
             "ticks": ""
            },
            "colorscale": [
             [
              0,
              "#0d0887"
             ],
             [
              0.1111111111111111,
              "#46039f"
             ],
             [
              0.2222222222222222,
              "#7201a8"
             ],
             [
              0.3333333333333333,
              "#9c179e"
             ],
             [
              0.4444444444444444,
              "#bd3786"
             ],
             [
              0.5555555555555556,
              "#d8576b"
             ],
             [
              0.6666666666666666,
              "#ed7953"
             ],
             [
              0.7777777777777778,
              "#fb9f3a"
             ],
             [
              0.8888888888888888,
              "#fdca26"
             ],
             [
              1,
              "#f0f921"
             ]
            ],
            "type": "histogram2dcontour"
           }
          ],
          "mesh3d": [
           {
            "colorbar": {
             "outlinewidth": 0,
             "ticks": ""
            },
            "type": "mesh3d"
           }
          ],
          "parcoords": [
           {
            "line": {
             "colorbar": {
              "outlinewidth": 0,
              "ticks": ""
             }
            },
            "type": "parcoords"
           }
          ],
          "pie": [
           {
            "automargin": true,
            "type": "pie"
           }
          ],
          "scatter": [
           {
            "fillpattern": {
             "fillmode": "overlay",
             "size": 10,
             "solidity": 0.2
            },
            "type": "scatter"
           }
          ],
          "scatter3d": [
           {
            "line": {
             "colorbar": {
              "outlinewidth": 0,
              "ticks": ""
             }
            },
            "marker": {
             "colorbar": {
              "outlinewidth": 0,
              "ticks": ""
             }
            },
            "type": "scatter3d"
           }
          ],
          "scattercarpet": [
           {
            "marker": {
             "colorbar": {
              "outlinewidth": 0,
              "ticks": ""
             }
            },
            "type": "scattercarpet"
           }
          ],
          "scattergeo": [
           {
            "marker": {
             "colorbar": {
              "outlinewidth": 0,
              "ticks": ""
             }
            },
            "type": "scattergeo"
           }
          ],
          "scattergl": [
           {
            "marker": {
             "colorbar": {
              "outlinewidth": 0,
              "ticks": ""
             }
            },
            "type": "scattergl"
           }
          ],
          "scattermapbox": [
           {
            "marker": {
             "colorbar": {
              "outlinewidth": 0,
              "ticks": ""
             }
            },
            "type": "scattermapbox"
           }
          ],
          "scatterpolar": [
           {
            "marker": {
             "colorbar": {
              "outlinewidth": 0,
              "ticks": ""
             }
            },
            "type": "scatterpolar"
           }
          ],
          "scatterpolargl": [
           {
            "marker": {
             "colorbar": {
              "outlinewidth": 0,
              "ticks": ""
             }
            },
            "type": "scatterpolargl"
           }
          ],
          "scatterternary": [
           {
            "marker": {
             "colorbar": {
              "outlinewidth": 0,
              "ticks": ""
             }
            },
            "type": "scatterternary"
           }
          ],
          "surface": [
           {
            "colorbar": {
             "outlinewidth": 0,
             "ticks": ""
            },
            "colorscale": [
             [
              0,
              "#0d0887"
             ],
             [
              0.1111111111111111,
              "#46039f"
             ],
             [
              0.2222222222222222,
              "#7201a8"
             ],
             [
              0.3333333333333333,
              "#9c179e"
             ],
             [
              0.4444444444444444,
              "#bd3786"
             ],
             [
              0.5555555555555556,
              "#d8576b"
             ],
             [
              0.6666666666666666,
              "#ed7953"
             ],
             [
              0.7777777777777778,
              "#fb9f3a"
             ],
             [
              0.8888888888888888,
              "#fdca26"
             ],
             [
              1,
              "#f0f921"
             ]
            ],
            "type": "surface"
           }
          ],
          "table": [
           {
            "cells": {
             "fill": {
              "color": "#EBF0F8"
             },
             "line": {
              "color": "white"
             }
            },
            "header": {
             "fill": {
              "color": "#C8D4E3"
             },
             "line": {
              "color": "white"
             }
            },
            "type": "table"
           }
          ]
         },
         "layout": {
          "annotationdefaults": {
           "arrowcolor": "#2a3f5f",
           "arrowhead": 0,
           "arrowwidth": 1
          },
          "autotypenumbers": "strict",
          "coloraxis": {
           "colorbar": {
            "outlinewidth": 0,
            "ticks": ""
           }
          },
          "colorscale": {
           "diverging": [
            [
             0,
             "#8e0152"
            ],
            [
             0.1,
             "#c51b7d"
            ],
            [
             0.2,
             "#de77ae"
            ],
            [
             0.3,
             "#f1b6da"
            ],
            [
             0.4,
             "#fde0ef"
            ],
            [
             0.5,
             "#f7f7f7"
            ],
            [
             0.6,
             "#e6f5d0"
            ],
            [
             0.7,
             "#b8e186"
            ],
            [
             0.8,
             "#7fbc41"
            ],
            [
             0.9,
             "#4d9221"
            ],
            [
             1,
             "#276419"
            ]
           ],
           "sequential": [
            [
             0,
             "#0d0887"
            ],
            [
             0.1111111111111111,
             "#46039f"
            ],
            [
             0.2222222222222222,
             "#7201a8"
            ],
            [
             0.3333333333333333,
             "#9c179e"
            ],
            [
             0.4444444444444444,
             "#bd3786"
            ],
            [
             0.5555555555555556,
             "#d8576b"
            ],
            [
             0.6666666666666666,
             "#ed7953"
            ],
            [
             0.7777777777777778,
             "#fb9f3a"
            ],
            [
             0.8888888888888888,
             "#fdca26"
            ],
            [
             1,
             "#f0f921"
            ]
           ],
           "sequentialminus": [
            [
             0,
             "#0d0887"
            ],
            [
             0.1111111111111111,
             "#46039f"
            ],
            [
             0.2222222222222222,
             "#7201a8"
            ],
            [
             0.3333333333333333,
             "#9c179e"
            ],
            [
             0.4444444444444444,
             "#bd3786"
            ],
            [
             0.5555555555555556,
             "#d8576b"
            ],
            [
             0.6666666666666666,
             "#ed7953"
            ],
            [
             0.7777777777777778,
             "#fb9f3a"
            ],
            [
             0.8888888888888888,
             "#fdca26"
            ],
            [
             1,
             "#f0f921"
            ]
           ]
          },
          "colorway": [
           "#636efa",
           "#EF553B",
           "#00cc96",
           "#ab63fa",
           "#FFA15A",
           "#19d3f3",
           "#FF6692",
           "#B6E880",
           "#FF97FF",
           "#FECB52"
          ],
          "font": {
           "color": "#2a3f5f"
          },
          "geo": {
           "bgcolor": "white",
           "lakecolor": "white",
           "landcolor": "#E5ECF6",
           "showlakes": true,
           "showland": true,
           "subunitcolor": "white"
          },
          "hoverlabel": {
           "align": "left"
          },
          "hovermode": "closest",
          "mapbox": {
           "style": "light"
          },
          "paper_bgcolor": "white",
          "plot_bgcolor": "#E5ECF6",
          "polar": {
           "angularaxis": {
            "gridcolor": "white",
            "linecolor": "white",
            "ticks": ""
           },
           "bgcolor": "#E5ECF6",
           "radialaxis": {
            "gridcolor": "white",
            "linecolor": "white",
            "ticks": ""
           }
          },
          "scene": {
           "xaxis": {
            "backgroundcolor": "#E5ECF6",
            "gridcolor": "white",
            "gridwidth": 2,
            "linecolor": "white",
            "showbackground": true,
            "ticks": "",
            "zerolinecolor": "white"
           },
           "yaxis": {
            "backgroundcolor": "#E5ECF6",
            "gridcolor": "white",
            "gridwidth": 2,
            "linecolor": "white",
            "showbackground": true,
            "ticks": "",
            "zerolinecolor": "white"
           },
           "zaxis": {
            "backgroundcolor": "#E5ECF6",
            "gridcolor": "white",
            "gridwidth": 2,
            "linecolor": "white",
            "showbackground": true,
            "ticks": "",
            "zerolinecolor": "white"
           }
          },
          "shapedefaults": {
           "line": {
            "color": "#2a3f5f"
           }
          },
          "ternary": {
           "aaxis": {
            "gridcolor": "white",
            "linecolor": "white",
            "ticks": ""
           },
           "baxis": {
            "gridcolor": "white",
            "linecolor": "white",
            "ticks": ""
           },
           "bgcolor": "#E5ECF6",
           "caxis": {
            "gridcolor": "white",
            "linecolor": "white",
            "ticks": ""
           }
          },
          "title": {
           "x": 0.05
          },
          "xaxis": {
           "automargin": true,
           "gridcolor": "white",
           "linecolor": "white",
           "ticks": "",
           "title": {
            "standoff": 15
           },
           "zerolinecolor": "white",
           "zerolinewidth": 2
          },
          "yaxis": {
           "automargin": true,
           "gridcolor": "white",
           "linecolor": "white",
           "ticks": "",
           "title": {
            "standoff": 15
           },
           "zerolinecolor": "white",
           "zerolinewidth": 2
          }
         }
        },
        "title": {
         "text": "Adult and Youth Depression Percent by Year"
        },
        "xaxis": {
         "anchor": "y",
         "domain": [
          0,
          1
         ],
         "title": {
          "text": "year"
         }
        },
        "yaxis": {
         "anchor": "x",
         "domain": [
          0,
          1
         ],
         "title": {
          "text": "value"
         }
        }
       }
      },
      "text/html": [
       "<div>                            <div id=\"8e4ef74a-3ab6-4e96-8fb3-3106e83c30fe\" class=\"plotly-graph-div\" style=\"height:525px; width:100%;\"></div>            <script type=\"text/javascript\">                require([\"plotly\"], function(Plotly) {                    window.PLOTLYENV=window.PLOTLYENV || {};                                    if (document.getElementById(\"8e4ef74a-3ab6-4e96-8fb3-3106e83c30fe\")) {                    Plotly.newPlot(                        \"8e4ef74a-3ab6-4e96-8fb3-3106e83c30fe\",                        [{\"hovertemplate\":\"variable=Depression<br>year=%{x}<br>value=%{y}<extra></extra>\",\"legendgroup\":\"Depression\",\"line\":{\"color\":\"#636efa\",\"dash\":\"solid\"},\"marker\":{\"symbol\":\"circle\"},\"mode\":\"lines\",\"name\":\"Depression\",\"orientation\":\"v\",\"showlegend\":true,\"x\":[2011,2012,2013,2014,2015,2016,2018,2019],\"xaxis\":\"x\",\"y\":[4.91,4.87,4.83,4.78,4.75,4.74,4.73,4.73],\"yaxis\":\"y\",\"type\":\"scatter\"},{\"hovertemplate\":\"variable=Anxiety<br>year=%{x}<br>value=%{y}<extra></extra>\",\"legendgroup\":\"Anxiety\",\"line\":{\"color\":\"#EF553B\",\"dash\":\"solid\"},\"marker\":{\"symbol\":\"circle\"},\"mode\":\"lines\",\"name\":\"Anxiety\",\"orientation\":\"v\",\"showlegend\":true,\"x\":[2011,2012,2013,2014,2015,2016,2018,2019],\"xaxis\":\"x\",\"y\":[6.22,6.03,5.84,5.68,5.61,5.6,5.79,6.16],\"yaxis\":\"y\",\"type\":\"scatter\"},{\"hovertemplate\":\"variable=m_youth_depression<br>year=%{x}<br>value=%{y}<extra></extra>\",\"legendgroup\":\"m_youth_depression\",\"line\":{\"color\":\"#00cc96\",\"dash\":\"solid\"},\"marker\":{\"symbol\":\"circle\"},\"mode\":\"lines\",\"name\":\"m_youth_depression\",\"orientation\":\"v\",\"showlegend\":true,\"x\":[2011,2012,2013,2014,2015,2016,2018,2019],\"xaxis\":\"x\",\"y\":[4.5,4.7,5.3,5.7,5.8,6.4,7.7,8.8],\"yaxis\":\"y\",\"type\":\"scatter\"},{\"hovertemplate\":\"variable=f_youth_depression<br>year=%{x}<br>value=%{y}<extra></extra>\",\"legendgroup\":\"f_youth_depression\",\"line\":{\"color\":\"#ab63fa\",\"dash\":\"solid\"},\"marker\":{\"symbol\":\"circle\"},\"mode\":\"lines\",\"name\":\"f_youth_depression\",\"orientation\":\"v\",\"showlegend\":true,\"x\":[2011,2012,2013,2014,2015,2016,2018,2019],\"xaxis\":\"x\",\"y\":[12.1,13.7,16.2,17.3,19.5,19.4,21.5,23.0],\"yaxis\":\"y\",\"type\":\"scatter\"}],                        {\"template\":{\"data\":{\"histogram2dcontour\":[{\"type\":\"histogram2dcontour\",\"colorbar\":{\"outlinewidth\":0,\"ticks\":\"\"},\"colorscale\":[[0.0,\"#0d0887\"],[0.1111111111111111,\"#46039f\"],[0.2222222222222222,\"#7201a8\"],[0.3333333333333333,\"#9c179e\"],[0.4444444444444444,\"#bd3786\"],[0.5555555555555556,\"#d8576b\"],[0.6666666666666666,\"#ed7953\"],[0.7777777777777778,\"#fb9f3a\"],[0.8888888888888888,\"#fdca26\"],[1.0,\"#f0f921\"]]}],\"choropleth\":[{\"type\":\"choropleth\",\"colorbar\":{\"outlinewidth\":0,\"ticks\":\"\"}}],\"histogram2d\":[{\"type\":\"histogram2d\",\"colorbar\":{\"outlinewidth\":0,\"ticks\":\"\"},\"colorscale\":[[0.0,\"#0d0887\"],[0.1111111111111111,\"#46039f\"],[0.2222222222222222,\"#7201a8\"],[0.3333333333333333,\"#9c179e\"],[0.4444444444444444,\"#bd3786\"],[0.5555555555555556,\"#d8576b\"],[0.6666666666666666,\"#ed7953\"],[0.7777777777777778,\"#fb9f3a\"],[0.8888888888888888,\"#fdca26\"],[1.0,\"#f0f921\"]]}],\"heatmap\":[{\"type\":\"heatmap\",\"colorbar\":{\"outlinewidth\":0,\"ticks\":\"\"},\"colorscale\":[[0.0,\"#0d0887\"],[0.1111111111111111,\"#46039f\"],[0.2222222222222222,\"#7201a8\"],[0.3333333333333333,\"#9c179e\"],[0.4444444444444444,\"#bd3786\"],[0.5555555555555556,\"#d8576b\"],[0.6666666666666666,\"#ed7953\"],[0.7777777777777778,\"#fb9f3a\"],[0.8888888888888888,\"#fdca26\"],[1.0,\"#f0f921\"]]}],\"heatmapgl\":[{\"type\":\"heatmapgl\",\"colorbar\":{\"outlinewidth\":0,\"ticks\":\"\"},\"colorscale\":[[0.0,\"#0d0887\"],[0.1111111111111111,\"#46039f\"],[0.2222222222222222,\"#7201a8\"],[0.3333333333333333,\"#9c179e\"],[0.4444444444444444,\"#bd3786\"],[0.5555555555555556,\"#d8576b\"],[0.6666666666666666,\"#ed7953\"],[0.7777777777777778,\"#fb9f3a\"],[0.8888888888888888,\"#fdca26\"],[1.0,\"#f0f921\"]]}],\"contourcarpet\":[{\"type\":\"contourcarpet\",\"colorbar\":{\"outlinewidth\":0,\"ticks\":\"\"}}],\"contour\":[{\"type\":\"contour\",\"colorbar\":{\"outlinewidth\":0,\"ticks\":\"\"},\"colorscale\":[[0.0,\"#0d0887\"],[0.1111111111111111,\"#46039f\"],[0.2222222222222222,\"#7201a8\"],[0.3333333333333333,\"#9c179e\"],[0.4444444444444444,\"#bd3786\"],[0.5555555555555556,\"#d8576b\"],[0.6666666666666666,\"#ed7953\"],[0.7777777777777778,\"#fb9f3a\"],[0.8888888888888888,\"#fdca26\"],[1.0,\"#f0f921\"]]}],\"surface\":[{\"type\":\"surface\",\"colorbar\":{\"outlinewidth\":0,\"ticks\":\"\"},\"colorscale\":[[0.0,\"#0d0887\"],[0.1111111111111111,\"#46039f\"],[0.2222222222222222,\"#7201a8\"],[0.3333333333333333,\"#9c179e\"],[0.4444444444444444,\"#bd3786\"],[0.5555555555555556,\"#d8576b\"],[0.6666666666666666,\"#ed7953\"],[0.7777777777777778,\"#fb9f3a\"],[0.8888888888888888,\"#fdca26\"],[1.0,\"#f0f921\"]]}],\"mesh3d\":[{\"type\":\"mesh3d\",\"colorbar\":{\"outlinewidth\":0,\"ticks\":\"\"}}],\"scatter\":[{\"fillpattern\":{\"fillmode\":\"overlay\",\"size\":10,\"solidity\":0.2},\"type\":\"scatter\"}],\"parcoords\":[{\"type\":\"parcoords\",\"line\":{\"colorbar\":{\"outlinewidth\":0,\"ticks\":\"\"}}}],\"scatterpolargl\":[{\"type\":\"scatterpolargl\",\"marker\":{\"colorbar\":{\"outlinewidth\":0,\"ticks\":\"\"}}}],\"bar\":[{\"error_x\":{\"color\":\"#2a3f5f\"},\"error_y\":{\"color\":\"#2a3f5f\"},\"marker\":{\"line\":{\"color\":\"#E5ECF6\",\"width\":0.5},\"pattern\":{\"fillmode\":\"overlay\",\"size\":10,\"solidity\":0.2}},\"type\":\"bar\"}],\"scattergeo\":[{\"type\":\"scattergeo\",\"marker\":{\"colorbar\":{\"outlinewidth\":0,\"ticks\":\"\"}}}],\"scatterpolar\":[{\"type\":\"scatterpolar\",\"marker\":{\"colorbar\":{\"outlinewidth\":0,\"ticks\":\"\"}}}],\"histogram\":[{\"marker\":{\"pattern\":{\"fillmode\":\"overlay\",\"size\":10,\"solidity\":0.2}},\"type\":\"histogram\"}],\"scattergl\":[{\"type\":\"scattergl\",\"marker\":{\"colorbar\":{\"outlinewidth\":0,\"ticks\":\"\"}}}],\"scatter3d\":[{\"type\":\"scatter3d\",\"line\":{\"colorbar\":{\"outlinewidth\":0,\"ticks\":\"\"}},\"marker\":{\"colorbar\":{\"outlinewidth\":0,\"ticks\":\"\"}}}],\"scattermapbox\":[{\"type\":\"scattermapbox\",\"marker\":{\"colorbar\":{\"outlinewidth\":0,\"ticks\":\"\"}}}],\"scatterternary\":[{\"type\":\"scatterternary\",\"marker\":{\"colorbar\":{\"outlinewidth\":0,\"ticks\":\"\"}}}],\"scattercarpet\":[{\"type\":\"scattercarpet\",\"marker\":{\"colorbar\":{\"outlinewidth\":0,\"ticks\":\"\"}}}],\"carpet\":[{\"aaxis\":{\"endlinecolor\":\"#2a3f5f\",\"gridcolor\":\"white\",\"linecolor\":\"white\",\"minorgridcolor\":\"white\",\"startlinecolor\":\"#2a3f5f\"},\"baxis\":{\"endlinecolor\":\"#2a3f5f\",\"gridcolor\":\"white\",\"linecolor\":\"white\",\"minorgridcolor\":\"white\",\"startlinecolor\":\"#2a3f5f\"},\"type\":\"carpet\"}],\"table\":[{\"cells\":{\"fill\":{\"color\":\"#EBF0F8\"},\"line\":{\"color\":\"white\"}},\"header\":{\"fill\":{\"color\":\"#C8D4E3\"},\"line\":{\"color\":\"white\"}},\"type\":\"table\"}],\"barpolar\":[{\"marker\":{\"line\":{\"color\":\"#E5ECF6\",\"width\":0.5},\"pattern\":{\"fillmode\":\"overlay\",\"size\":10,\"solidity\":0.2}},\"type\":\"barpolar\"}],\"pie\":[{\"automargin\":true,\"type\":\"pie\"}]},\"layout\":{\"autotypenumbers\":\"strict\",\"colorway\":[\"#636efa\",\"#EF553B\",\"#00cc96\",\"#ab63fa\",\"#FFA15A\",\"#19d3f3\",\"#FF6692\",\"#B6E880\",\"#FF97FF\",\"#FECB52\"],\"font\":{\"color\":\"#2a3f5f\"},\"hovermode\":\"closest\",\"hoverlabel\":{\"align\":\"left\"},\"paper_bgcolor\":\"white\",\"plot_bgcolor\":\"#E5ECF6\",\"polar\":{\"bgcolor\":\"#E5ECF6\",\"angularaxis\":{\"gridcolor\":\"white\",\"linecolor\":\"white\",\"ticks\":\"\"},\"radialaxis\":{\"gridcolor\":\"white\",\"linecolor\":\"white\",\"ticks\":\"\"}},\"ternary\":{\"bgcolor\":\"#E5ECF6\",\"aaxis\":{\"gridcolor\":\"white\",\"linecolor\":\"white\",\"ticks\":\"\"},\"baxis\":{\"gridcolor\":\"white\",\"linecolor\":\"white\",\"ticks\":\"\"},\"caxis\":{\"gridcolor\":\"white\",\"linecolor\":\"white\",\"ticks\":\"\"}},\"coloraxis\":{\"colorbar\":{\"outlinewidth\":0,\"ticks\":\"\"}},\"colorscale\":{\"sequential\":[[0.0,\"#0d0887\"],[0.1111111111111111,\"#46039f\"],[0.2222222222222222,\"#7201a8\"],[0.3333333333333333,\"#9c179e\"],[0.4444444444444444,\"#bd3786\"],[0.5555555555555556,\"#d8576b\"],[0.6666666666666666,\"#ed7953\"],[0.7777777777777778,\"#fb9f3a\"],[0.8888888888888888,\"#fdca26\"],[1.0,\"#f0f921\"]],\"sequentialminus\":[[0.0,\"#0d0887\"],[0.1111111111111111,\"#46039f\"],[0.2222222222222222,\"#7201a8\"],[0.3333333333333333,\"#9c179e\"],[0.4444444444444444,\"#bd3786\"],[0.5555555555555556,\"#d8576b\"],[0.6666666666666666,\"#ed7953\"],[0.7777777777777778,\"#fb9f3a\"],[0.8888888888888888,\"#fdca26\"],[1.0,\"#f0f921\"]],\"diverging\":[[0,\"#8e0152\"],[0.1,\"#c51b7d\"],[0.2,\"#de77ae\"],[0.3,\"#f1b6da\"],[0.4,\"#fde0ef\"],[0.5,\"#f7f7f7\"],[0.6,\"#e6f5d0\"],[0.7,\"#b8e186\"],[0.8,\"#7fbc41\"],[0.9,\"#4d9221\"],[1,\"#276419\"]]},\"xaxis\":{\"gridcolor\":\"white\",\"linecolor\":\"white\",\"ticks\":\"\",\"title\":{\"standoff\":15},\"zerolinecolor\":\"white\",\"automargin\":true,\"zerolinewidth\":2},\"yaxis\":{\"gridcolor\":\"white\",\"linecolor\":\"white\",\"ticks\":\"\",\"title\":{\"standoff\":15},\"zerolinecolor\":\"white\",\"automargin\":true,\"zerolinewidth\":2},\"scene\":{\"xaxis\":{\"backgroundcolor\":\"#E5ECF6\",\"gridcolor\":\"white\",\"linecolor\":\"white\",\"showbackground\":true,\"ticks\":\"\",\"zerolinecolor\":\"white\",\"gridwidth\":2},\"yaxis\":{\"backgroundcolor\":\"#E5ECF6\",\"gridcolor\":\"white\",\"linecolor\":\"white\",\"showbackground\":true,\"ticks\":\"\",\"zerolinecolor\":\"white\",\"gridwidth\":2},\"zaxis\":{\"backgroundcolor\":\"#E5ECF6\",\"gridcolor\":\"white\",\"linecolor\":\"white\",\"showbackground\":true,\"ticks\":\"\",\"zerolinecolor\":\"white\",\"gridwidth\":2}},\"shapedefaults\":{\"line\":{\"color\":\"#2a3f5f\"}},\"annotationdefaults\":{\"arrowcolor\":\"#2a3f5f\",\"arrowhead\":0,\"arrowwidth\":1},\"geo\":{\"bgcolor\":\"white\",\"landcolor\":\"#E5ECF6\",\"subunitcolor\":\"white\",\"showland\":true,\"showlakes\":true,\"lakecolor\":\"white\"},\"title\":{\"x\":0.05},\"mapbox\":{\"style\":\"light\"}}},\"xaxis\":{\"anchor\":\"y\",\"domain\":[0.0,1.0],\"title\":{\"text\":\"year\"}},\"yaxis\":{\"anchor\":\"x\",\"domain\":[0.0,1.0],\"title\":{\"text\":\"value\"}},\"legend\":{\"title\":{\"text\":\"variable\"},\"tracegroupgap\":0},\"title\":{\"text\":\"Adult and Youth Depression Percent by Year\"}},                        {\"responsive\": true}                    ).then(function(){\n",
       "                            \n",
       "var gd = document.getElementById('8e4ef74a-3ab6-4e96-8fb3-3106e83c30fe');\n",
       "var x = new MutationObserver(function (mutations, observer) {{\n",
       "        var display = window.getComputedStyle(gd).display;\n",
       "        if (!display || display === 'none') {{\n",
       "            console.log([gd, 'removed!']);\n",
       "            Plotly.purge(gd);\n",
       "            observer.disconnect();\n",
       "        }}\n",
       "}});\n",
       "\n",
       "// Listen for the removal of the full notebook cells\n",
       "var notebookContainer = gd.closest('#notebook-container');\n",
       "if (notebookContainer) {{\n",
       "    x.observe(notebookContainer, {childList: true});\n",
       "}}\n",
       "\n",
       "// Listen for the clearing of the current output cell\n",
       "var outputEl = gd.closest('.output');\n",
       "if (outputEl) {{\n",
       "    x.observe(outputEl, {childList: true});\n",
       "}}\n",
       "\n",
       "                        })                };                });            </script>        </div>"
      ]
     },
     "metadata": {},
     "output_type": "display_data"
    }
   ],
   "source": [
    "px.line(melted_mh,x='year',y='value',color='variable',title='Adult and Youth Depression Percent by Year')"
   ]
  },
  {
   "cell_type": "code",
   "execution_count": 113,
   "id": "505bd3cf",
   "metadata": {},
   "outputs": [],
   "source": [
    "melted_sm=melted_master.query('variable == \"Smartphone\" | variable == \"social_media_use\"')"
   ]
  },
  {
   "cell_type": "code",
   "execution_count": 124,
   "id": "dfd5ce65",
   "metadata": {},
   "outputs": [
    {
     "data": {
      "application/vnd.plotly.v1+json": {
       "config": {
        "plotlyServerURL": "https://plot.ly"
       },
       "data": [
        {
         "hovertemplate": "variable=Smartphone<br>year=%{x}<br>value=%{y}<extra></extra>",
         "legendgroup": "Smartphone",
         "line": {
          "color": "#636efa",
          "dash": "solid"
         },
         "marker": {
          "symbol": "circle"
         },
         "mode": "lines",
         "name": "Smartphone",
         "orientation": "v",
         "showlegend": true,
         "type": "scatter",
         "x": [
          2011,
          2012,
          2013,
          2014,
          2015,
          2016,
          2018,
          2019
         ],
         "xaxis": "x",
         "y": [
          35,
          45,
          57.99999999999999,
          59,
          69,
          77,
          77,
          81
         ],
         "yaxis": "y"
        },
        {
         "hovertemplate": "variable=social_media_use<br>year=%{x}<br>value=%{y}<extra></extra>",
         "legendgroup": "social_media_use",
         "line": {
          "color": "#EF553B",
          "dash": "solid"
         },
         "marker": {
          "symbol": "circle"
         },
         "mode": "lines",
         "name": "social_media_use",
         "orientation": "v",
         "showlegend": true,
         "type": "scatter",
         "x": [
          2011,
          2012,
          2013,
          2014,
          2015,
          2016,
          2018,
          2019
         ],
         "xaxis": "x",
         "y": [
          50,
          54,
          63,
          62,
          65,
          69,
          69,
          72
         ],
         "yaxis": "y"
        }
       ],
       "layout": {
        "legend": {
         "title": {
          "text": "variable"
         },
         "tracegroupgap": 0
        },
        "template": {
         "data": {
          "bar": [
           {
            "error_x": {
             "color": "#2a3f5f"
            },
            "error_y": {
             "color": "#2a3f5f"
            },
            "marker": {
             "line": {
              "color": "#E5ECF6",
              "width": 0.5
             },
             "pattern": {
              "fillmode": "overlay",
              "size": 10,
              "solidity": 0.2
             }
            },
            "type": "bar"
           }
          ],
          "barpolar": [
           {
            "marker": {
             "line": {
              "color": "#E5ECF6",
              "width": 0.5
             },
             "pattern": {
              "fillmode": "overlay",
              "size": 10,
              "solidity": 0.2
             }
            },
            "type": "barpolar"
           }
          ],
          "carpet": [
           {
            "aaxis": {
             "endlinecolor": "#2a3f5f",
             "gridcolor": "white",
             "linecolor": "white",
             "minorgridcolor": "white",
             "startlinecolor": "#2a3f5f"
            },
            "baxis": {
             "endlinecolor": "#2a3f5f",
             "gridcolor": "white",
             "linecolor": "white",
             "minorgridcolor": "white",
             "startlinecolor": "#2a3f5f"
            },
            "type": "carpet"
           }
          ],
          "choropleth": [
           {
            "colorbar": {
             "outlinewidth": 0,
             "ticks": ""
            },
            "type": "choropleth"
           }
          ],
          "contour": [
           {
            "colorbar": {
             "outlinewidth": 0,
             "ticks": ""
            },
            "colorscale": [
             [
              0,
              "#0d0887"
             ],
             [
              0.1111111111111111,
              "#46039f"
             ],
             [
              0.2222222222222222,
              "#7201a8"
             ],
             [
              0.3333333333333333,
              "#9c179e"
             ],
             [
              0.4444444444444444,
              "#bd3786"
             ],
             [
              0.5555555555555556,
              "#d8576b"
             ],
             [
              0.6666666666666666,
              "#ed7953"
             ],
             [
              0.7777777777777778,
              "#fb9f3a"
             ],
             [
              0.8888888888888888,
              "#fdca26"
             ],
             [
              1,
              "#f0f921"
             ]
            ],
            "type": "contour"
           }
          ],
          "contourcarpet": [
           {
            "colorbar": {
             "outlinewidth": 0,
             "ticks": ""
            },
            "type": "contourcarpet"
           }
          ],
          "heatmap": [
           {
            "colorbar": {
             "outlinewidth": 0,
             "ticks": ""
            },
            "colorscale": [
             [
              0,
              "#0d0887"
             ],
             [
              0.1111111111111111,
              "#46039f"
             ],
             [
              0.2222222222222222,
              "#7201a8"
             ],
             [
              0.3333333333333333,
              "#9c179e"
             ],
             [
              0.4444444444444444,
              "#bd3786"
             ],
             [
              0.5555555555555556,
              "#d8576b"
             ],
             [
              0.6666666666666666,
              "#ed7953"
             ],
             [
              0.7777777777777778,
              "#fb9f3a"
             ],
             [
              0.8888888888888888,
              "#fdca26"
             ],
             [
              1,
              "#f0f921"
             ]
            ],
            "type": "heatmap"
           }
          ],
          "heatmapgl": [
           {
            "colorbar": {
             "outlinewidth": 0,
             "ticks": ""
            },
            "colorscale": [
             [
              0,
              "#0d0887"
             ],
             [
              0.1111111111111111,
              "#46039f"
             ],
             [
              0.2222222222222222,
              "#7201a8"
             ],
             [
              0.3333333333333333,
              "#9c179e"
             ],
             [
              0.4444444444444444,
              "#bd3786"
             ],
             [
              0.5555555555555556,
              "#d8576b"
             ],
             [
              0.6666666666666666,
              "#ed7953"
             ],
             [
              0.7777777777777778,
              "#fb9f3a"
             ],
             [
              0.8888888888888888,
              "#fdca26"
             ],
             [
              1,
              "#f0f921"
             ]
            ],
            "type": "heatmapgl"
           }
          ],
          "histogram": [
           {
            "marker": {
             "pattern": {
              "fillmode": "overlay",
              "size": 10,
              "solidity": 0.2
             }
            },
            "type": "histogram"
           }
          ],
          "histogram2d": [
           {
            "colorbar": {
             "outlinewidth": 0,
             "ticks": ""
            },
            "colorscale": [
             [
              0,
              "#0d0887"
             ],
             [
              0.1111111111111111,
              "#46039f"
             ],
             [
              0.2222222222222222,
              "#7201a8"
             ],
             [
              0.3333333333333333,
              "#9c179e"
             ],
             [
              0.4444444444444444,
              "#bd3786"
             ],
             [
              0.5555555555555556,
              "#d8576b"
             ],
             [
              0.6666666666666666,
              "#ed7953"
             ],
             [
              0.7777777777777778,
              "#fb9f3a"
             ],
             [
              0.8888888888888888,
              "#fdca26"
             ],
             [
              1,
              "#f0f921"
             ]
            ],
            "type": "histogram2d"
           }
          ],
          "histogram2dcontour": [
           {
            "colorbar": {
             "outlinewidth": 0,
             "ticks": ""
            },
            "colorscale": [
             [
              0,
              "#0d0887"
             ],
             [
              0.1111111111111111,
              "#46039f"
             ],
             [
              0.2222222222222222,
              "#7201a8"
             ],
             [
              0.3333333333333333,
              "#9c179e"
             ],
             [
              0.4444444444444444,
              "#bd3786"
             ],
             [
              0.5555555555555556,
              "#d8576b"
             ],
             [
              0.6666666666666666,
              "#ed7953"
             ],
             [
              0.7777777777777778,
              "#fb9f3a"
             ],
             [
              0.8888888888888888,
              "#fdca26"
             ],
             [
              1,
              "#f0f921"
             ]
            ],
            "type": "histogram2dcontour"
           }
          ],
          "mesh3d": [
           {
            "colorbar": {
             "outlinewidth": 0,
             "ticks": ""
            },
            "type": "mesh3d"
           }
          ],
          "parcoords": [
           {
            "line": {
             "colorbar": {
              "outlinewidth": 0,
              "ticks": ""
             }
            },
            "type": "parcoords"
           }
          ],
          "pie": [
           {
            "automargin": true,
            "type": "pie"
           }
          ],
          "scatter": [
           {
            "fillpattern": {
             "fillmode": "overlay",
             "size": 10,
             "solidity": 0.2
            },
            "type": "scatter"
           }
          ],
          "scatter3d": [
           {
            "line": {
             "colorbar": {
              "outlinewidth": 0,
              "ticks": ""
             }
            },
            "marker": {
             "colorbar": {
              "outlinewidth": 0,
              "ticks": ""
             }
            },
            "type": "scatter3d"
           }
          ],
          "scattercarpet": [
           {
            "marker": {
             "colorbar": {
              "outlinewidth": 0,
              "ticks": ""
             }
            },
            "type": "scattercarpet"
           }
          ],
          "scattergeo": [
           {
            "marker": {
             "colorbar": {
              "outlinewidth": 0,
              "ticks": ""
             }
            },
            "type": "scattergeo"
           }
          ],
          "scattergl": [
           {
            "marker": {
             "colorbar": {
              "outlinewidth": 0,
              "ticks": ""
             }
            },
            "type": "scattergl"
           }
          ],
          "scattermapbox": [
           {
            "marker": {
             "colorbar": {
              "outlinewidth": 0,
              "ticks": ""
             }
            },
            "type": "scattermapbox"
           }
          ],
          "scatterpolar": [
           {
            "marker": {
             "colorbar": {
              "outlinewidth": 0,
              "ticks": ""
             }
            },
            "type": "scatterpolar"
           }
          ],
          "scatterpolargl": [
           {
            "marker": {
             "colorbar": {
              "outlinewidth": 0,
              "ticks": ""
             }
            },
            "type": "scatterpolargl"
           }
          ],
          "scatterternary": [
           {
            "marker": {
             "colorbar": {
              "outlinewidth": 0,
              "ticks": ""
             }
            },
            "type": "scatterternary"
           }
          ],
          "surface": [
           {
            "colorbar": {
             "outlinewidth": 0,
             "ticks": ""
            },
            "colorscale": [
             [
              0,
              "#0d0887"
             ],
             [
              0.1111111111111111,
              "#46039f"
             ],
             [
              0.2222222222222222,
              "#7201a8"
             ],
             [
              0.3333333333333333,
              "#9c179e"
             ],
             [
              0.4444444444444444,
              "#bd3786"
             ],
             [
              0.5555555555555556,
              "#d8576b"
             ],
             [
              0.6666666666666666,
              "#ed7953"
             ],
             [
              0.7777777777777778,
              "#fb9f3a"
             ],
             [
              0.8888888888888888,
              "#fdca26"
             ],
             [
              1,
              "#f0f921"
             ]
            ],
            "type": "surface"
           }
          ],
          "table": [
           {
            "cells": {
             "fill": {
              "color": "#EBF0F8"
             },
             "line": {
              "color": "white"
             }
            },
            "header": {
             "fill": {
              "color": "#C8D4E3"
             },
             "line": {
              "color": "white"
             }
            },
            "type": "table"
           }
          ]
         },
         "layout": {
          "annotationdefaults": {
           "arrowcolor": "#2a3f5f",
           "arrowhead": 0,
           "arrowwidth": 1
          },
          "autotypenumbers": "strict",
          "coloraxis": {
           "colorbar": {
            "outlinewidth": 0,
            "ticks": ""
           }
          },
          "colorscale": {
           "diverging": [
            [
             0,
             "#8e0152"
            ],
            [
             0.1,
             "#c51b7d"
            ],
            [
             0.2,
             "#de77ae"
            ],
            [
             0.3,
             "#f1b6da"
            ],
            [
             0.4,
             "#fde0ef"
            ],
            [
             0.5,
             "#f7f7f7"
            ],
            [
             0.6,
             "#e6f5d0"
            ],
            [
             0.7,
             "#b8e186"
            ],
            [
             0.8,
             "#7fbc41"
            ],
            [
             0.9,
             "#4d9221"
            ],
            [
             1,
             "#276419"
            ]
           ],
           "sequential": [
            [
             0,
             "#0d0887"
            ],
            [
             0.1111111111111111,
             "#46039f"
            ],
            [
             0.2222222222222222,
             "#7201a8"
            ],
            [
             0.3333333333333333,
             "#9c179e"
            ],
            [
             0.4444444444444444,
             "#bd3786"
            ],
            [
             0.5555555555555556,
             "#d8576b"
            ],
            [
             0.6666666666666666,
             "#ed7953"
            ],
            [
             0.7777777777777778,
             "#fb9f3a"
            ],
            [
             0.8888888888888888,
             "#fdca26"
            ],
            [
             1,
             "#f0f921"
            ]
           ],
           "sequentialminus": [
            [
             0,
             "#0d0887"
            ],
            [
             0.1111111111111111,
             "#46039f"
            ],
            [
             0.2222222222222222,
             "#7201a8"
            ],
            [
             0.3333333333333333,
             "#9c179e"
            ],
            [
             0.4444444444444444,
             "#bd3786"
            ],
            [
             0.5555555555555556,
             "#d8576b"
            ],
            [
             0.6666666666666666,
             "#ed7953"
            ],
            [
             0.7777777777777778,
             "#fb9f3a"
            ],
            [
             0.8888888888888888,
             "#fdca26"
            ],
            [
             1,
             "#f0f921"
            ]
           ]
          },
          "colorway": [
           "#636efa",
           "#EF553B",
           "#00cc96",
           "#ab63fa",
           "#FFA15A",
           "#19d3f3",
           "#FF6692",
           "#B6E880",
           "#FF97FF",
           "#FECB52"
          ],
          "font": {
           "color": "#2a3f5f"
          },
          "geo": {
           "bgcolor": "white",
           "lakecolor": "white",
           "landcolor": "#E5ECF6",
           "showlakes": true,
           "showland": true,
           "subunitcolor": "white"
          },
          "hoverlabel": {
           "align": "left"
          },
          "hovermode": "closest",
          "mapbox": {
           "style": "light"
          },
          "paper_bgcolor": "white",
          "plot_bgcolor": "#E5ECF6",
          "polar": {
           "angularaxis": {
            "gridcolor": "white",
            "linecolor": "white",
            "ticks": ""
           },
           "bgcolor": "#E5ECF6",
           "radialaxis": {
            "gridcolor": "white",
            "linecolor": "white",
            "ticks": ""
           }
          },
          "scene": {
           "xaxis": {
            "backgroundcolor": "#E5ECF6",
            "gridcolor": "white",
            "gridwidth": 2,
            "linecolor": "white",
            "showbackground": true,
            "ticks": "",
            "zerolinecolor": "white"
           },
           "yaxis": {
            "backgroundcolor": "#E5ECF6",
            "gridcolor": "white",
            "gridwidth": 2,
            "linecolor": "white",
            "showbackground": true,
            "ticks": "",
            "zerolinecolor": "white"
           },
           "zaxis": {
            "backgroundcolor": "#E5ECF6",
            "gridcolor": "white",
            "gridwidth": 2,
            "linecolor": "white",
            "showbackground": true,
            "ticks": "",
            "zerolinecolor": "white"
           }
          },
          "shapedefaults": {
           "line": {
            "color": "#2a3f5f"
           }
          },
          "ternary": {
           "aaxis": {
            "gridcolor": "white",
            "linecolor": "white",
            "ticks": ""
           },
           "baxis": {
            "gridcolor": "white",
            "linecolor": "white",
            "ticks": ""
           },
           "bgcolor": "#E5ECF6",
           "caxis": {
            "gridcolor": "white",
            "linecolor": "white",
            "ticks": ""
           }
          },
          "title": {
           "x": 0.05
          },
          "xaxis": {
           "automargin": true,
           "gridcolor": "white",
           "linecolor": "white",
           "ticks": "",
           "title": {
            "standoff": 15
           },
           "zerolinecolor": "white",
           "zerolinewidth": 2
          },
          "yaxis": {
           "automargin": true,
           "gridcolor": "white",
           "linecolor": "white",
           "ticks": "",
           "title": {
            "standoff": 15
           },
           "zerolinecolor": "white",
           "zerolinewidth": 2
          }
         }
        },
        "title": {
         "text": "Smartphone and Social Media Use by year"
        },
        "xaxis": {
         "anchor": "y",
         "domain": [
          0,
          1
         ],
         "title": {
          "text": "year"
         }
        },
        "yaxis": {
         "anchor": "x",
         "domain": [
          0,
          1
         ],
         "title": {
          "text": "value"
         }
        }
       }
      },
      "text/html": [
       "<div>                            <div id=\"8b898570-a443-4b08-b6f9-6cd07d2730a1\" class=\"plotly-graph-div\" style=\"height:525px; width:100%;\"></div>            <script type=\"text/javascript\">                require([\"plotly\"], function(Plotly) {                    window.PLOTLYENV=window.PLOTLYENV || {};                                    if (document.getElementById(\"8b898570-a443-4b08-b6f9-6cd07d2730a1\")) {                    Plotly.newPlot(                        \"8b898570-a443-4b08-b6f9-6cd07d2730a1\",                        [{\"hovertemplate\":\"variable=Smartphone<br>year=%{x}<br>value=%{y}<extra></extra>\",\"legendgroup\":\"Smartphone\",\"line\":{\"color\":\"#636efa\",\"dash\":\"solid\"},\"marker\":{\"symbol\":\"circle\"},\"mode\":\"lines\",\"name\":\"Smartphone\",\"orientation\":\"v\",\"showlegend\":true,\"x\":[2011,2012,2013,2014,2015,2016,2018,2019],\"xaxis\":\"x\",\"y\":[35.0,45.0,57.99999999999999,59.0,69.0,77.0,77.0,81.0],\"yaxis\":\"y\",\"type\":\"scatter\"},{\"hovertemplate\":\"variable=social_media_use<br>year=%{x}<br>value=%{y}<extra></extra>\",\"legendgroup\":\"social_media_use\",\"line\":{\"color\":\"#EF553B\",\"dash\":\"solid\"},\"marker\":{\"symbol\":\"circle\"},\"mode\":\"lines\",\"name\":\"social_media_use\",\"orientation\":\"v\",\"showlegend\":true,\"x\":[2011,2012,2013,2014,2015,2016,2018,2019],\"xaxis\":\"x\",\"y\":[50.0,54.0,63.0,62.0,65.0,69.0,69.0,72.0],\"yaxis\":\"y\",\"type\":\"scatter\"}],                        {\"template\":{\"data\":{\"histogram2dcontour\":[{\"type\":\"histogram2dcontour\",\"colorbar\":{\"outlinewidth\":0,\"ticks\":\"\"},\"colorscale\":[[0.0,\"#0d0887\"],[0.1111111111111111,\"#46039f\"],[0.2222222222222222,\"#7201a8\"],[0.3333333333333333,\"#9c179e\"],[0.4444444444444444,\"#bd3786\"],[0.5555555555555556,\"#d8576b\"],[0.6666666666666666,\"#ed7953\"],[0.7777777777777778,\"#fb9f3a\"],[0.8888888888888888,\"#fdca26\"],[1.0,\"#f0f921\"]]}],\"choropleth\":[{\"type\":\"choropleth\",\"colorbar\":{\"outlinewidth\":0,\"ticks\":\"\"}}],\"histogram2d\":[{\"type\":\"histogram2d\",\"colorbar\":{\"outlinewidth\":0,\"ticks\":\"\"},\"colorscale\":[[0.0,\"#0d0887\"],[0.1111111111111111,\"#46039f\"],[0.2222222222222222,\"#7201a8\"],[0.3333333333333333,\"#9c179e\"],[0.4444444444444444,\"#bd3786\"],[0.5555555555555556,\"#d8576b\"],[0.6666666666666666,\"#ed7953\"],[0.7777777777777778,\"#fb9f3a\"],[0.8888888888888888,\"#fdca26\"],[1.0,\"#f0f921\"]]}],\"heatmap\":[{\"type\":\"heatmap\",\"colorbar\":{\"outlinewidth\":0,\"ticks\":\"\"},\"colorscale\":[[0.0,\"#0d0887\"],[0.1111111111111111,\"#46039f\"],[0.2222222222222222,\"#7201a8\"],[0.3333333333333333,\"#9c179e\"],[0.4444444444444444,\"#bd3786\"],[0.5555555555555556,\"#d8576b\"],[0.6666666666666666,\"#ed7953\"],[0.7777777777777778,\"#fb9f3a\"],[0.8888888888888888,\"#fdca26\"],[1.0,\"#f0f921\"]]}],\"heatmapgl\":[{\"type\":\"heatmapgl\",\"colorbar\":{\"outlinewidth\":0,\"ticks\":\"\"},\"colorscale\":[[0.0,\"#0d0887\"],[0.1111111111111111,\"#46039f\"],[0.2222222222222222,\"#7201a8\"],[0.3333333333333333,\"#9c179e\"],[0.4444444444444444,\"#bd3786\"],[0.5555555555555556,\"#d8576b\"],[0.6666666666666666,\"#ed7953\"],[0.7777777777777778,\"#fb9f3a\"],[0.8888888888888888,\"#fdca26\"],[1.0,\"#f0f921\"]]}],\"contourcarpet\":[{\"type\":\"contourcarpet\",\"colorbar\":{\"outlinewidth\":0,\"ticks\":\"\"}}],\"contour\":[{\"type\":\"contour\",\"colorbar\":{\"outlinewidth\":0,\"ticks\":\"\"},\"colorscale\":[[0.0,\"#0d0887\"],[0.1111111111111111,\"#46039f\"],[0.2222222222222222,\"#7201a8\"],[0.3333333333333333,\"#9c179e\"],[0.4444444444444444,\"#bd3786\"],[0.5555555555555556,\"#d8576b\"],[0.6666666666666666,\"#ed7953\"],[0.7777777777777778,\"#fb9f3a\"],[0.8888888888888888,\"#fdca26\"],[1.0,\"#f0f921\"]]}],\"surface\":[{\"type\":\"surface\",\"colorbar\":{\"outlinewidth\":0,\"ticks\":\"\"},\"colorscale\":[[0.0,\"#0d0887\"],[0.1111111111111111,\"#46039f\"],[0.2222222222222222,\"#7201a8\"],[0.3333333333333333,\"#9c179e\"],[0.4444444444444444,\"#bd3786\"],[0.5555555555555556,\"#d8576b\"],[0.6666666666666666,\"#ed7953\"],[0.7777777777777778,\"#fb9f3a\"],[0.8888888888888888,\"#fdca26\"],[1.0,\"#f0f921\"]]}],\"mesh3d\":[{\"type\":\"mesh3d\",\"colorbar\":{\"outlinewidth\":0,\"ticks\":\"\"}}],\"scatter\":[{\"fillpattern\":{\"fillmode\":\"overlay\",\"size\":10,\"solidity\":0.2},\"type\":\"scatter\"}],\"parcoords\":[{\"type\":\"parcoords\",\"line\":{\"colorbar\":{\"outlinewidth\":0,\"ticks\":\"\"}}}],\"scatterpolargl\":[{\"type\":\"scatterpolargl\",\"marker\":{\"colorbar\":{\"outlinewidth\":0,\"ticks\":\"\"}}}],\"bar\":[{\"error_x\":{\"color\":\"#2a3f5f\"},\"error_y\":{\"color\":\"#2a3f5f\"},\"marker\":{\"line\":{\"color\":\"#E5ECF6\",\"width\":0.5},\"pattern\":{\"fillmode\":\"overlay\",\"size\":10,\"solidity\":0.2}},\"type\":\"bar\"}],\"scattergeo\":[{\"type\":\"scattergeo\",\"marker\":{\"colorbar\":{\"outlinewidth\":0,\"ticks\":\"\"}}}],\"scatterpolar\":[{\"type\":\"scatterpolar\",\"marker\":{\"colorbar\":{\"outlinewidth\":0,\"ticks\":\"\"}}}],\"histogram\":[{\"marker\":{\"pattern\":{\"fillmode\":\"overlay\",\"size\":10,\"solidity\":0.2}},\"type\":\"histogram\"}],\"scattergl\":[{\"type\":\"scattergl\",\"marker\":{\"colorbar\":{\"outlinewidth\":0,\"ticks\":\"\"}}}],\"scatter3d\":[{\"type\":\"scatter3d\",\"line\":{\"colorbar\":{\"outlinewidth\":0,\"ticks\":\"\"}},\"marker\":{\"colorbar\":{\"outlinewidth\":0,\"ticks\":\"\"}}}],\"scattermapbox\":[{\"type\":\"scattermapbox\",\"marker\":{\"colorbar\":{\"outlinewidth\":0,\"ticks\":\"\"}}}],\"scatterternary\":[{\"type\":\"scatterternary\",\"marker\":{\"colorbar\":{\"outlinewidth\":0,\"ticks\":\"\"}}}],\"scattercarpet\":[{\"type\":\"scattercarpet\",\"marker\":{\"colorbar\":{\"outlinewidth\":0,\"ticks\":\"\"}}}],\"carpet\":[{\"aaxis\":{\"endlinecolor\":\"#2a3f5f\",\"gridcolor\":\"white\",\"linecolor\":\"white\",\"minorgridcolor\":\"white\",\"startlinecolor\":\"#2a3f5f\"},\"baxis\":{\"endlinecolor\":\"#2a3f5f\",\"gridcolor\":\"white\",\"linecolor\":\"white\",\"minorgridcolor\":\"white\",\"startlinecolor\":\"#2a3f5f\"},\"type\":\"carpet\"}],\"table\":[{\"cells\":{\"fill\":{\"color\":\"#EBF0F8\"},\"line\":{\"color\":\"white\"}},\"header\":{\"fill\":{\"color\":\"#C8D4E3\"},\"line\":{\"color\":\"white\"}},\"type\":\"table\"}],\"barpolar\":[{\"marker\":{\"line\":{\"color\":\"#E5ECF6\",\"width\":0.5},\"pattern\":{\"fillmode\":\"overlay\",\"size\":10,\"solidity\":0.2}},\"type\":\"barpolar\"}],\"pie\":[{\"automargin\":true,\"type\":\"pie\"}]},\"layout\":{\"autotypenumbers\":\"strict\",\"colorway\":[\"#636efa\",\"#EF553B\",\"#00cc96\",\"#ab63fa\",\"#FFA15A\",\"#19d3f3\",\"#FF6692\",\"#B6E880\",\"#FF97FF\",\"#FECB52\"],\"font\":{\"color\":\"#2a3f5f\"},\"hovermode\":\"closest\",\"hoverlabel\":{\"align\":\"left\"},\"paper_bgcolor\":\"white\",\"plot_bgcolor\":\"#E5ECF6\",\"polar\":{\"bgcolor\":\"#E5ECF6\",\"angularaxis\":{\"gridcolor\":\"white\",\"linecolor\":\"white\",\"ticks\":\"\"},\"radialaxis\":{\"gridcolor\":\"white\",\"linecolor\":\"white\",\"ticks\":\"\"}},\"ternary\":{\"bgcolor\":\"#E5ECF6\",\"aaxis\":{\"gridcolor\":\"white\",\"linecolor\":\"white\",\"ticks\":\"\"},\"baxis\":{\"gridcolor\":\"white\",\"linecolor\":\"white\",\"ticks\":\"\"},\"caxis\":{\"gridcolor\":\"white\",\"linecolor\":\"white\",\"ticks\":\"\"}},\"coloraxis\":{\"colorbar\":{\"outlinewidth\":0,\"ticks\":\"\"}},\"colorscale\":{\"sequential\":[[0.0,\"#0d0887\"],[0.1111111111111111,\"#46039f\"],[0.2222222222222222,\"#7201a8\"],[0.3333333333333333,\"#9c179e\"],[0.4444444444444444,\"#bd3786\"],[0.5555555555555556,\"#d8576b\"],[0.6666666666666666,\"#ed7953\"],[0.7777777777777778,\"#fb9f3a\"],[0.8888888888888888,\"#fdca26\"],[1.0,\"#f0f921\"]],\"sequentialminus\":[[0.0,\"#0d0887\"],[0.1111111111111111,\"#46039f\"],[0.2222222222222222,\"#7201a8\"],[0.3333333333333333,\"#9c179e\"],[0.4444444444444444,\"#bd3786\"],[0.5555555555555556,\"#d8576b\"],[0.6666666666666666,\"#ed7953\"],[0.7777777777777778,\"#fb9f3a\"],[0.8888888888888888,\"#fdca26\"],[1.0,\"#f0f921\"]],\"diverging\":[[0,\"#8e0152\"],[0.1,\"#c51b7d\"],[0.2,\"#de77ae\"],[0.3,\"#f1b6da\"],[0.4,\"#fde0ef\"],[0.5,\"#f7f7f7\"],[0.6,\"#e6f5d0\"],[0.7,\"#b8e186\"],[0.8,\"#7fbc41\"],[0.9,\"#4d9221\"],[1,\"#276419\"]]},\"xaxis\":{\"gridcolor\":\"white\",\"linecolor\":\"white\",\"ticks\":\"\",\"title\":{\"standoff\":15},\"zerolinecolor\":\"white\",\"automargin\":true,\"zerolinewidth\":2},\"yaxis\":{\"gridcolor\":\"white\",\"linecolor\":\"white\",\"ticks\":\"\",\"title\":{\"standoff\":15},\"zerolinecolor\":\"white\",\"automargin\":true,\"zerolinewidth\":2},\"scene\":{\"xaxis\":{\"backgroundcolor\":\"#E5ECF6\",\"gridcolor\":\"white\",\"linecolor\":\"white\",\"showbackground\":true,\"ticks\":\"\",\"zerolinecolor\":\"white\",\"gridwidth\":2},\"yaxis\":{\"backgroundcolor\":\"#E5ECF6\",\"gridcolor\":\"white\",\"linecolor\":\"white\",\"showbackground\":true,\"ticks\":\"\",\"zerolinecolor\":\"white\",\"gridwidth\":2},\"zaxis\":{\"backgroundcolor\":\"#E5ECF6\",\"gridcolor\":\"white\",\"linecolor\":\"white\",\"showbackground\":true,\"ticks\":\"\",\"zerolinecolor\":\"white\",\"gridwidth\":2}},\"shapedefaults\":{\"line\":{\"color\":\"#2a3f5f\"}},\"annotationdefaults\":{\"arrowcolor\":\"#2a3f5f\",\"arrowhead\":0,\"arrowwidth\":1},\"geo\":{\"bgcolor\":\"white\",\"landcolor\":\"#E5ECF6\",\"subunitcolor\":\"white\",\"showland\":true,\"showlakes\":true,\"lakecolor\":\"white\"},\"title\":{\"x\":0.05},\"mapbox\":{\"style\":\"light\"}}},\"xaxis\":{\"anchor\":\"y\",\"domain\":[0.0,1.0],\"title\":{\"text\":\"year\"}},\"yaxis\":{\"anchor\":\"x\",\"domain\":[0.0,1.0],\"title\":{\"text\":\"value\"}},\"legend\":{\"title\":{\"text\":\"variable\"},\"tracegroupgap\":0},\"title\":{\"text\":\"Smartphone and Social Media Use by year\"}},                        {\"responsive\": true}                    ).then(function(){\n",
       "                            \n",
       "var gd = document.getElementById('8b898570-a443-4b08-b6f9-6cd07d2730a1');\n",
       "var x = new MutationObserver(function (mutations, observer) {{\n",
       "        var display = window.getComputedStyle(gd).display;\n",
       "        if (!display || display === 'none') {{\n",
       "            console.log([gd, 'removed!']);\n",
       "            Plotly.purge(gd);\n",
       "            observer.disconnect();\n",
       "        }}\n",
       "}});\n",
       "\n",
       "// Listen for the removal of the full notebook cells\n",
       "var notebookContainer = gd.closest('#notebook-container');\n",
       "if (notebookContainer) {{\n",
       "    x.observe(notebookContainer, {childList: true});\n",
       "}}\n",
       "\n",
       "// Listen for the clearing of the current output cell\n",
       "var outputEl = gd.closest('.output');\n",
       "if (outputEl) {{\n",
       "    x.observe(outputEl, {childList: true});\n",
       "}}\n",
       "\n",
       "                        })                };                });            </script>        </div>"
      ]
     },
     "metadata": {},
     "output_type": "display_data"
    }
   ],
   "source": [
    "px.line(melted_sm,x='year',y='value',color='variable',title='Smartphone and Social Media Use by year')"
   ]
  },
  {
   "cell_type": "code",
   "execution_count": null,
   "id": "435ea819",
   "metadata": {},
   "outputs": [],
   "source": []
  }
 ],
 "metadata": {
  "kernelspec": {
   "display_name": "Python 3 (ipykernel)",
   "language": "python",
   "name": "python3"
  },
  "language_info": {
   "codemirror_mode": {
    "name": "ipython",
    "version": 3
   },
   "file_extension": ".py",
   "mimetype": "text/x-python",
   "name": "python",
   "nbconvert_exporter": "python",
   "pygments_lexer": "ipython3",
   "version": "3.7.13"
  }
 },
 "nbformat": 4,
 "nbformat_minor": 5
}
